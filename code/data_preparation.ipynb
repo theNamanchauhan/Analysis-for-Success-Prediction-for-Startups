{
  "cells": [
    {
      "cell_type": "code",
      "execution_count": null,
      "metadata": {
        "colab": {
          "base_uri": "https://localhost:8080/"
        },
        "id": "H3OXoXUMcXR4",
        "outputId": "6d5b110c-da78-4782-a504-92c6c37ac91a"
      },
      "outputs": [
        {
          "name": "stdout",
          "output_type": "stream",
          "text": [
            "Requirement already satisfied: pandas in /usr/local/lib/python3.6/dist-packages (1.1.4)\n",
            "Requirement already satisfied: python-dateutil>=2.7.3 in /usr/local/lib/python3.6/dist-packages (from pandas) (2.8.1)\n",
            "Requirement already satisfied: numpy>=1.15.4 in /usr/local/lib/python3.6/dist-packages (from pandas) (1.18.5)\n",
            "Requirement already satisfied: pytz>=2017.2 in /usr/local/lib/python3.6/dist-packages (from pandas) (2018.9)\n",
            "Requirement already satisfied: six>=1.5 in /usr/local/lib/python3.6/dist-packages (from python-dateutil>=2.7.3->pandas) (1.15.0)\n",
            "Requirement already satisfied: numpy in /usr/local/lib/python3.6/dist-packages (1.18.5)\n",
            "Requirement already satisfied: matplotlib in /usr/local/lib/python3.6/dist-packages (3.2.2)\n",
            "Requirement already satisfied: pyparsing!=2.0.4,!=2.1.2,!=2.1.6,>=2.0.1 in /usr/local/lib/python3.6/dist-packages (from matplotlib) (2.4.7)\n",
            "Requirement already satisfied: kiwisolver>=1.0.1 in /usr/local/lib/python3.6/dist-packages (from matplotlib) (1.3.1)\n",
            "Requirement already satisfied: numpy>=1.11 in /usr/local/lib/python3.6/dist-packages (from matplotlib) (1.18.5)\n",
            "Requirement already satisfied: python-dateutil>=2.1 in /usr/local/lib/python3.6/dist-packages (from matplotlib) (2.8.1)\n",
            "Requirement already satisfied: cycler>=0.10 in /usr/local/lib/python3.6/dist-packages (from matplotlib) (0.10.0)\n",
            "Requirement already satisfied: six>=1.5 in /usr/local/lib/python3.6/dist-packages (from python-dateutil>=2.1->matplotlib) (1.15.0)\n",
            "Collecting pyspark\n",
            "\u001b[?25l  Downloading https://files.pythonhosted.org/packages/f0/26/198fc8c0b98580f617cb03cb298c6056587b8f0447e20fa40c5b634ced77/pyspark-3.0.1.tar.gz (204.2MB)\n",
            "\u001b[K     |████████████████████████████████| 204.2MB 71kB/s \n",
            "\u001b[?25hCollecting py4j==0.10.9\n",
            "\u001b[?25l  Downloading https://files.pythonhosted.org/packages/9e/b6/6a4fb90cd235dc8e265a6a2067f2a2c99f0d91787f06aca4bcf7c23f3f80/py4j-0.10.9-py2.py3-none-any.whl (198kB)\n",
            "\u001b[K     |████████████████████████████████| 204kB 43.2MB/s \n",
            "\u001b[?25hBuilding wheels for collected packages: pyspark\n",
            "  Building wheel for pyspark (setup.py) ... \u001b[?25l\u001b[?25hdone\n",
            "  Created wheel for pyspark: filename=pyspark-3.0.1-py2.py3-none-any.whl size=204612243 sha256=f2bdc8d1c293f24af017a9943a392f1b4967960e43b95820cb0d6bbdff87c61d\n",
            "  Stored in directory: /root/.cache/pip/wheels/5e/bd/07/031766ca628adec8435bb40f0bd83bb676ce65ff4007f8e73f\n",
            "Successfully built pyspark\n",
            "Installing collected packages: py4j, pyspark\n",
            "Successfully installed py4j-0.10.9 pyspark-3.0.1\n"
          ]
        }
      ],
      "source": [
        "!pip install pandas\n",
        "!pip install numpy\n",
        "!pip install matplotlib\n",
        "!pip install pyspark"
      ]
    },
    {
      "cell_type": "code",
      "execution_count": null,
      "metadata": {
        "id": "XzGmNxUgbwRR"
      },
      "outputs": [],
      "source": [
        "import pandas as pd\n",
        "import numpy as np\n",
        "import matplotlib.pyplot as plt\n",
        "\n",
        "# Load functionality to manipulate dataframes\n",
        "from pyspark.sql import functions as fn\n",
        "from pyspark.sql.functions import col, monotonically_increasing_id, split, when\n",
        "\n",
        "# Functionality for computing features\n",
        "from pyspark.ml import feature, regression, classification, Pipeline, clustering\n",
        "from pyspark.ml.classification import LogisticRegression, RandomForestClassifier\n",
        "from pyspark.ml.feature import RFormula, Tokenizer, VectorAssembler, HashingTF, Word2Vec\n",
        "from pyspark.sql import SQLContext\n",
        "from pyspark.sql import SparkSession\n",
        "\n",
        "from itertools import chain\n",
        "from pyspark.ml.linalg import Vectors, VectorUDT\n",
        "\n",
        "#Evaluation\n",
        "from pyspark.ml.evaluation import BinaryClassificationEvaluator"
      ]
    },
    {
      "cell_type": "code",
      "execution_count": null,
      "metadata": {
        "id": "v_Md82F_cwD8"
      },
      "outputs": [],
      "source": [
        "#flatten list spark df to spark df\n",
        "def flatten_list(df):\n",
        "  test_pd = df.toPandas()\n",
        "  mylist1 = []\n",
        "  klist = []\n",
        "  for i in range(len(test_pd.kmeans_feat)):\n",
        "    newlist = list(chain.from_iterable(test_pd.category[i]))\n",
        "    mylist1.append(newlist)\n",
        "    klist.append(i)\n",
        "  transferdf_pd = pd.DataFrame({\"kmeans_feat\": klist, \"category\": mylist1})\n",
        "  newcatewoo = spark.createDataFrame(transferdf_pd)\n",
        "  return newcatewoo"
      ]
    },
    {
      "cell_type": "code",
      "execution_count": null,
      "metadata": {
        "id": "XIMTMr4Fc2Kw"
      },
      "outputs": [],
      "source": [
        "def three_highest_catpluscount(df):  \n",
        "  #to pandas\n",
        "  test1 = df.select(\"tf\").toPandas()\n",
        "  maxi = []\n",
        "  maxv = [0,0,0]\n",
        "  indexlist = []\n",
        "  valuelist = []\n",
        "  kmeanlist = []\n",
        "  for a in range(len(test1.tf)):\n",
        "    for i in range(len(test1.tf[a])):\n",
        "      if (min(maxv) < test1.tf[a][i]):\n",
        "        maxv[0] = test1.tf[a][i]\n",
        "        maxv = sorted(maxv)\n",
        "    testarr = test1.tf[a].toArray()\n",
        "    for n in range(2, -1, -1):\n",
        "      index = np.where(testarr == maxv[n])\n",
        "      maxi.append(index[0][0])\n",
        "      valuelist.append(maxv[n])\n",
        "      kmeanlist.append(a)\n",
        "    maxv = [0,0,0]\n",
        "  kmeancate_pd = pd.DataFrame({\"categoryindex\": maxi, \"kmean_feat\": kmeanlist, \"count\": valuelist})\n",
        "  kmeancate = spark.createDataFrame(kmeancate_pd)\n",
        "  return kmeancate"
      ]
    },
    {
      "cell_type": "code",
      "execution_count": null,
      "metadata": {
        "id": "H0O7Bw6qc7e8"
      },
      "outputs": [],
      "source": [
        "# add categories to index\n",
        "def add_category_words(df):\n",
        "  kmeancate_pd = df.toPandas()\n",
        "  mylisti = []\n",
        "  for t in range(len(kmeancate_pd)):\n",
        "    ind = kmeancate_pd.categoryindex[t]\n",
        "    mylisti.append(wordvector_catwoo[ind])\n",
        "  kmeancate_pd[\"category\"] = mylisti\n",
        "  kmeancate_words = spark.createDataFrame(kmeancate_pd)\n",
        "  return kmeancate_words"
      ]
    },
    {
      "cell_type": "code",
      "execution_count": null,
      "metadata": {
        "id": "WQdgWJw9dATf"
      },
      "outputs": [],
      "source": [
        "def create_final_category(df):\n",
        "  kmeancate_pd = df.toPandas()\n",
        "  multiplecate = []\n",
        "  categorylist = []\n",
        "  kmeanlist = []\n",
        "  for o in range(0,len(kmeancate_pd),3):\n",
        "    multiplecate.append(kmeancate_pd[\"category\"][o])\n",
        "    if((kmeancate_pd[\"count\"][o]*0.7 <= kmeancate_pd[\"count\"][o+1]) and (kmeancate_pd[\"category\"][o] != kmeancate_pd[\"category\"][o+1])):\n",
        "      multiplecate.append(kmeancate_pd[\"category\"][o+1])\n",
        "      if((kmeancate_pd[\"count\"][o+1]*0.7 <= kmeancate_pd[\"count\"][o+2]) and (kmeancate_pd[\"category\"][o+1] != kmeancate_pd[\"category\"][o+2])):\n",
        "        multiplecate.append(kmeancate_pd[\"category\"][o+2])\n",
        "    categorystring = \" + \".join(multiplecate)\n",
        "    categorylist.append(categorystring)\n",
        "    kmeanlist.append(o/3)\n",
        "    multiplecate = []\n",
        "  final_pd = pd.DataFrame({\"category_final\": categorylist, \"kmean_feat\": kmeanlist})\n",
        "  final = spark.createDataFrame(final_pd)\n",
        "  return final"
      ]
    },
    {
      "cell_type": "code",
      "execution_count": null,
      "metadata": {
        "id": "8GOB9Y99dGvi"
      },
      "outputs": [],
      "source": [
        "def blank_as_null(x):\n",
        "    return when(col(x) != \"\", col(x)).otherwise(None)"
      ]
    },
    {
      "cell_type": "code",
      "execution_count": null,
      "metadata": {
        "id": "824HFMCedLAI"
      },
      "outputs": [],
      "source": [
        "def two_highest_catpluscount(df):  \n",
        "  #to pandas\n",
        "  test1 = df.toPandas()\n",
        "  maxi = []\n",
        "  maxv = [0]\n",
        "  indexlist = []\n",
        "  valuelist = []\n",
        "  kmeanlist = []\n",
        "  for a in range(len(test1.tf)):\n",
        "    for i in range(len(test1.tf[a])):\n",
        "      if (min(maxv) < test1.tf[a][i]):\n",
        "        maxv[0] = test1.tf[a][i]\n",
        "        maxv = sorted(maxv)\n",
        "    testarr = test1.tf[a].toArray()\n",
        "    for n in range(1):\n",
        "      index = np.where(testarr == maxv[n])\n",
        "      maxi.append(index[0][0])\n",
        "      valuelist.append(maxv[n])\n",
        "      kmeanlist.append(test1.permalink[a])\n",
        "    maxv = [0]\n",
        "  kmeancate_pd = pd.DataFrame({\"categoryindex\": maxi, \"perma\": kmeanlist, \"count\": valuelist})\n",
        "  kmeancate = spark.createDataFrame(kmeancate_pd)\n",
        "  return kmeancate"
      ]
    },
    {
      "cell_type": "code",
      "execution_count": null,
      "metadata": {
        "id": "LWV1rTtCdOJV"
      },
      "outputs": [],
      "source": [
        "# add categories to index\n",
        "def add_inv_words(df):\n",
        "  kmeancate_pd = df.toPandas()\n",
        "  mylisti = []\n",
        "  for t in range(len(kmeancate_pd)):\n",
        "    ind = kmeancate_pd.categoryindex[t]\n",
        "    mylisti.append(inv_words[ind])\n",
        "  kmeancate_pd[\"category\"] = mylisti\n",
        "  kmeancate_words = spark.createDataFrame(kmeancate_pd)\n",
        "  return kmeancate_words"
      ]
    },
    {
      "cell_type": "code",
      "execution_count": null,
      "metadata": {
        "id": "bmINfQ7bdRHz"
      },
      "outputs": [],
      "source": [
        "# add categories to index\n",
        "def add_round_words(df):\n",
        "  kmeancate_pd = df.toPandas()\n",
        "  mylisti = []\n",
        "  for t in range(len(kmeancate_pd)):\n",
        "    ind = kmeancate_pd.categoryindex[t]\n",
        "    mylisti.append(round_words[ind])\n",
        "  kmeancate_pd[\"category\"] = mylisti\n",
        "  kmeancate_words = spark.createDataFrame(kmeancate_pd)\n",
        "  return kmeancate_words"
      ]
    },
    {
      "cell_type": "code",
      "execution_count": null,
      "metadata": {
        "colab": {
          "base_uri": "https://localhost:8080/",
          "height": 205,
          "resources": {
            "http://localhost:8080/nbextensions/google.colab/files.js": {
              "data": "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",
              "headers": [
                [
                  "content-type",
                  "application/javascript"
                ]
              ],
              "ok": true,
              "status": 200,
              "status_text": ""
            }
          }
        },
        "id": "D2fJ0w0EmIa5",
        "outputId": "bf25cc3f-cb7b-4131-b619-44f5ee348740"
      },
      "outputs": [
        {
          "data": {
            "text/html": [
              "\n",
              "     <input type=\"file\" id=\"files-1c377949-d558-453f-9a08-8fbe090617e3\" name=\"files[]\" multiple disabled\n",
              "        style=\"border:none\" />\n",
              "     <output id=\"result-1c377949-d558-453f-9a08-8fbe090617e3\">\n",
              "      Upload widget is only available when the cell has been executed in the\n",
              "      current browser session. Please rerun this cell to enable.\n",
              "      </output>\n",
              "      <script src=\"/nbextensions/google.colab/files.js\"></script> "
            ],
            "text/plain": [
              "<IPython.core.display.HTML object>"
            ]
          },
          "metadata": {
            "tags": []
          },
          "output_type": "display_data"
        },
        {
          "name": "stdout",
          "output_type": "stream",
          "text": [
            "Saving acquisitions.csv to acquisitions.csv\n",
            "Saving additions.csv to additions.csv\n",
            "Saving companies.csv to companies.csv\n",
            "Saving investments.csv to investments.csv\n",
            "Saving rounds.csv to rounds.csv\n"
          ]
        }
      ],
      "source": [
        "from google.colab import files\n",
        "uploaded = files.upload()"
      ]
    },
    {
      "cell_type": "code",
      "execution_count": null,
      "metadata": {
        "id": "7Y6A0_8d6poE"
      },
      "outputs": [],
      "source": [
        "spark = SparkSession \\\n",
        "    .builder \\\n",
        "    .appName(\"how to read csv file\") \\\n",
        "    .getOrCreate()"
      ]
    },
    {
      "cell_type": "code",
      "execution_count": null,
      "metadata": {
        "id": "693I4-DddTFJ"
      },
      "outputs": [],
      "source": [
        "dfacq = spark.read.format(\"csv\").load(\"acquisitions.csv\", delimiter = \",\", header = True)\n",
        "dfadd = spark.read.format(\"csv\").load(\"additions.csv\", delimiter = \",\", header = True)\n",
        "dfcom = spark.read.format(\"csv\").load(\"companies.csv\", delimiter = \",\", header = True)\n",
        "dfinv = spark.read.format(\"csv\").load(\"investments.csv\", delimiter = \",\", header = True)\n",
        "dfrou = spark.read.format(\"csv\").load(\"rounds.csv\", delimiter = \",\", header = True)"
      ]
    },
    {
      "cell_type": "code",
      "execution_count": null,
      "metadata": {
        "id": "KEDvUGNt68xu"
      },
      "outputs": [],
      "source": [
        "dfcom = dfcom.select(col(\"permalink\"), col(\"name\"), col(\"homepage_url\"), col(\"category_list\"), col(\" market \").alias(\"market\"), col(\" funding_total_usd \").alias(\"funding_total_usd\"), col(\"status\"), col(\"country_code\"), col(\"state_code\"), col(\"region\"), col(\"city\"), col(\"funding_rounds\"), col(\"founded_at\"), col(\"founded_month\"), col(\"founded_quarter\"), col(\"founded_year\"), col(\"first_funding_at\"), col(\"last_funding_at\"))"
      ]
    },
    {
      "cell_type": "code",
      "execution_count": null,
      "metadata": {
        "id": "hFBOdv0c7ED6"
      },
      "outputs": [],
      "source": [
        "dfacq = dfacq.select(col(\"company_permalink\"), col(\"company_name\"), col(\"company_category_list\"), col(\"company_market\"), col(\"company_country_code\"), col(\"company_state_code\"), col(\"company_region\"), col(\"company_city\"), col(\"acquirer_permalink\"), col(\"acquirer_name\"), col(\"acquirer_category_list\"), col(\"acquirer_market\"), col(\"acquirer_country_code\"), col(\"acquirer_state_code\"), col(\"acquirer_region\"), col(\"acquirer_city\"), col(\"acquired_at\"), col(\"acquired_month\"), col(\"acquired_quarter\"), col(\"acquired_year\"), col(\" price_amount \").alias(\"price_amount\"), col(\"price_currency_code\"))"
      ]
    },
    {
      "cell_type": "code",
      "execution_count": null,
      "metadata": {
        "id": "DFA5gJq27ElW"
      },
      "outputs": [],
      "source": [
        "dfrou = dfrou.select(col(\"company_permalink\"), col(\"company_name\"), col(\"company_category_list\"), col(\"company_market\"), col(\"company_country_code\"), col(\"company_state_code\"), col(\"company_region\"), col(\"company_city\"), col(\"funding_round_permalink\"), col(\"funding_round_type\"), col(\"funding_round_code\"), col(\"funded_at\"), col(\"funded_month\"), col(\" funded_quarter \").alias(\"funded_quarter\"), col(\"funded_year\"), col(\" raised_amount_usd \").alias(\"raised_amount_usd\"))"
      ]
    },
    {
      "cell_type": "code",
      "execution_count": null,
      "metadata": {
        "colab": {
          "base_uri": "https://localhost:8080/",
          "height": 53
        },
        "id": "1Wli-Zic7N1g",
        "outputId": "9f8433ec-2168-4841-9a85-74bde5f414a9"
      },
      "outputs": [
        {
          "data": {
            "text/plain": [
              "DataFrame[permalink: string, name: string, homepage_url: string, category_list: string, market: string, funding_total_usd: string, status: string, country_code: string, state_code: string, region: string, city: string, funding_rounds: string, founded_at: string, founded_month: string, founded_quarter: string, founded_year: string, first_funding_at: string, last_funding_at: string]"
            ]
          },
          "metadata": {
            "tags": []
          },
          "output_type": "display_data"
        }
      ],
      "source": [
        "display(dfcom)"
      ]
    },
    {
      "cell_type": "code",
      "execution_count": null,
      "metadata": {
        "colab": {
          "base_uri": "https://localhost:8080/"
        },
        "id": "NvESRWBw7Ptn",
        "outputId": "29d9d0ee-facc-497a-b80a-ec0de32ec1b2"
      },
      "outputs": [
        {
          "data": {
            "text/plain": [
              "54294"
            ]
          },
          "execution_count": 18,
          "metadata": {
            "tags": []
          },
          "output_type": "execute_result"
        }
      ],
      "source": [
        "dfcom.count()"
      ]
    },
    {
      "cell_type": "code",
      "execution_count": null,
      "metadata": {
        "colab": {
          "base_uri": "https://localhost:8080/",
          "height": 33
        },
        "id": "s-ZylpCw7S9e",
        "outputId": "5369f6da-282c-45f5-af46-0d7d829623af"
      },
      "outputs": [
        {
          "data": {
            "text/plain": [
              "DataFrame[status: string, count(status): bigint]"
            ]
          },
          "metadata": {
            "tags": []
          },
          "output_type": "display_data"
        }
      ],
      "source": [
        "#show distribution of target variable\n",
        "display(\n",
        "  dfcom.select(\"status\").\\\n",
        "  groupby(col(\"status\")).\\\n",
        "  agg(fn.count(\"status\"))\n",
        ")"
      ]
    },
    {
      "cell_type": "code",
      "execution_count": null,
      "metadata": {
        "colab": {
          "base_uri": "https://localhost:8080/"
        },
        "id": "uyzPjxja7WLj",
        "outputId": "475927ce-6160-4ca2-e1f6-75bcc8f5deba"
      },
      "outputs": [
        {
          "data": {
            "text/plain": [
              "permalink             4856\n",
              "name                  4856\n",
              "homepage_url          8305\n",
              "category_list         8817\n",
              "market                8824\n",
              "funding_total_usd     4856\n",
              "status                6170\n",
              "country_code         10129\n",
              "state_code           24133\n",
              "region               10129\n",
              "city                 10972\n",
              "funding_rounds        4856\n",
              "founded_at           15740\n",
              "founded_month        15812\n",
              "founded_quarter      15812\n",
              "founded_year         15812\n",
              "first_funding_at      4856\n",
              "last_funding_at       4856\n",
              "dtype: int64"
            ]
          },
          "execution_count": 20,
          "metadata": {
            "tags": []
          },
          "output_type": "execute_result"
        }
      ],
      "source": [
        "#check for null values in general and after that for each category of the target variable\n",
        "dfcom.toPandas().isnull().sum()"
      ]
    },
    {
      "cell_type": "code",
      "execution_count": null,
      "metadata": {
        "colab": {
          "base_uri": "https://localhost:8080/"
        },
        "id": "g2sX3u0c7bJP",
        "outputId": "7e4e7602-1720-47b4-a5fc-50b83841647b"
      },
      "outputs": [
        {
          "data": {
            "text/plain": [
              "permalink               0\n",
              "name                    0\n",
              "homepage_url           31\n",
              "category_list          78\n",
              "market                 78\n",
              "funding_total_usd       0\n",
              "status                  0\n",
              "country_code          408\n",
              "state_code           1074\n",
              "region                408\n",
              "city                  441\n",
              "funding_rounds          0\n",
              "founded_at            607\n",
              "founded_month         607\n",
              "founded_quarter       607\n",
              "founded_year          607\n",
              "first_funding_at        0\n",
              "last_funding_at         0\n",
              "dtype: int64"
            ]
          },
          "execution_count": 21,
          "metadata": {
            "tags": []
          },
          "output_type": "execute_result"
        }
      ],
      "source": [
        "dfcom.filter(col(\"status\") == \"closed\").toPandas().isnull().sum()"
      ]
    },
    {
      "cell_type": "code",
      "execution_count": null,
      "metadata": {
        "colab": {
          "base_uri": "https://localhost:8080/"
        },
        "id": "3UrsDdZa7kLH",
        "outputId": "02a9b75f-1663-4945-9f63-72679af2051f"
      },
      "outputs": [
        {
          "data": {
            "text/plain": [
              "permalink                0\n",
              "name                     0\n",
              "homepage_url          3092\n",
              "category_list         3353\n",
              "market                3358\n",
              "funding_total_usd        0\n",
              "status                   0\n",
              "country_code          4439\n",
              "state_code           16696\n",
              "region                4439\n",
              "city                  5166\n",
              "funding_rounds           0\n",
              "founded_at            9165\n",
              "founded_month         9232\n",
              "founded_quarter       9232\n",
              "founded_year          9232\n",
              "first_funding_at         0\n",
              "last_funding_at          0\n",
              "dtype: int64"
            ]
          },
          "execution_count": 22,
          "metadata": {
            "tags": []
          },
          "output_type": "execute_result"
        }
      ],
      "source": [
        "dfcom.filter(col(\"status\") == \"operating\").toPandas().isnull().sum()"
      ]
    },
    {
      "cell_type": "code",
      "execution_count": null,
      "metadata": {
        "colab": {
          "base_uri": "https://localhost:8080/"
        },
        "id": "F_xNYJZG7oCH",
        "outputId": "25cfbc9b-80e7-4ca6-fd9c-452c91d31162"
      },
      "outputs": [
        {
          "data": {
            "text/plain": [
              "permalink              0\n",
              "name                   0\n",
              "homepage_url         254\n",
              "category_list        151\n",
              "market               153\n",
              "funding_total_usd      0\n",
              "status                 0\n",
              "country_code         220\n",
              "state_code           804\n",
              "region               220\n",
              "city                 250\n",
              "funding_rounds         0\n",
              "founded_at           716\n",
              "founded_month        721\n",
              "founded_quarter      721\n",
              "founded_year         721\n",
              "first_funding_at       0\n",
              "last_funding_at        0\n",
              "dtype: int64"
            ]
          },
          "execution_count": 23,
          "metadata": {
            "tags": []
          },
          "output_type": "execute_result"
        }
      ],
      "source": [
        "dfcom.filter(col(\"status\") == \"acquired\").toPandas().isnull().sum()"
      ]
    },
    {
      "cell_type": "code",
      "execution_count": null,
      "metadata": {
        "id": "FJwZfYKo8JAr"
      },
      "outputs": [],
      "source": [
        "#get overview of different markets and their occurrence\n",
        "markets = dfcom.select(\"market\").\\\n",
        "  groupby(col(\"market\")).\\\n",
        "  agg(fn.count(\"market\")).\\\n",
        "  sort(\"count(market)\", ascending=False)"
      ]
    },
    {
      "cell_type": "code",
      "execution_count": null,
      "metadata": {
        "colab": {
          "base_uri": "https://localhost:8080/",
          "height": 183
        },
        "id": "_mp6hPol8Nxs",
        "outputId": "03329811-3c46-482d-e80f-a716484b4129"
      },
      "outputs": [
        {
          "data": {
            "text/plain": [
              "[Row(market=' Software ', count(market)=4620),\n",
              " Row(market=' Biotechnology ', count(market)=3688),\n",
              " Row(market=' Mobile ', count(market)=1983),\n",
              " Row(market=' E-Commerce ', count(market)=1805),\n",
              " Row(market=' Curated Web ', count(market)=1655),\n",
              " Row(market=' Enterprise Software ', count(market)=1280),\n",
              " Row(market=' Health Care ', count(market)=1207),\n",
              " Row(market=' Clean Technology ', count(market)=1200),\n",
              " Row(market=' Games ', count(market)=1182),\n",
              " Row(market=' Hardware + Software ', count(market)=1081)]"
            ]
          },
          "metadata": {
            "tags": []
          },
          "output_type": "display_data"
        }
      ],
      "source": [
        "display(markets.take(10))"
      ]
    },
    {
      "cell_type": "code",
      "execution_count": null,
      "metadata": {
        "colab": {
          "base_uri": "https://localhost:8080/"
        },
        "id": "8QFbFzu88QWx",
        "outputId": "5b6135f7-0e17-4f98-a332-1c6832487bcb"
      },
      "outputs": [
        {
          "data": {
            "text/plain": [
              "754"
            ]
          },
          "execution_count": 26,
          "metadata": {
            "tags": []
          },
          "output_type": "execute_result"
        }
      ],
      "source": [
        "#get number of unique market categories\n",
        "dfcom.select(\"market\").distinct().count()"
      ]
    },
    {
      "cell_type": "code",
      "execution_count": null,
      "metadata": {
        "colab": {
          "base_uri": "https://localhost:8080/",
          "height": 33
        },
        "id": "pib7Vg3K8ZFk",
        "outputId": "fa12e7cc-b985-46cd-b6cd-a51e4559bb6a"
      },
      "outputs": [
        {
          "data": {
            "text/plain": [
              "DataFrame[permalink: string, name: string, funding_total_usd: string]"
            ]
          },
          "metadata": {
            "tags": []
          },
          "output_type": "display_data"
        }
      ],
      "source": [
        "#find highest funding_total_usd and appropriate startups\n",
        "display(\n",
        "  dfcom.select(\"permalink\", \"name\", \"funding_total_usd\").\\\n",
        "  sort(\"funding_total_usd\", ascending=False)\n",
        ")"
      ]
    },
    {
      "cell_type": "code",
      "execution_count": null,
      "metadata": {
        "id": "nyPHO3id8cLF"
      },
      "outputs": [],
      "source": [
        "#understand where most of the startups are located - get cities with startup occurrence\n",
        "cities = dfcom.select(\"permalink\", \"name\", \"city\").\\\n",
        "  groupBy(\"city\").\\\n",
        "  agg(fn.count(\"city\")).\\\n",
        "  sort(\"count(city)\", ascending=False)"
      ]
    },
    {
      "cell_type": "code",
      "execution_count": null,
      "metadata": {
        "colab": {
          "base_uri": "https://localhost:8080/",
          "height": 183
        },
        "id": "GSOqEv5w8f31",
        "outputId": "07204a36-de09-4684-d6c8-db192b1dcc5f"
      },
      "outputs": [
        {
          "data": {
            "text/plain": [
              "[Row(city='San Francisco', count(city)=2615),\n",
              " Row(city='New York', count(city)=2334),\n",
              " Row(city='London', count(city)=1257),\n",
              " Row(city='Palo Alto', count(city)=597),\n",
              " Row(city='Austin', count(city)=583),\n",
              " Row(city='Cambridge', count(city)=554),\n",
              " Row(city='Seattle', count(city)=554),\n",
              " Row(city='Chicago', count(city)=514),\n",
              " Row(city='Los Angeles', count(city)=508),\n",
              " Row(city='Mountain View', count(city)=497)]"
            ]
          },
          "metadata": {
            "tags": []
          },
          "output_type": "display_data"
        }
      ],
      "source": [
        "display(cities.take(10))"
      ]
    },
    {
      "cell_type": "code",
      "execution_count": null,
      "metadata": {
        "id": "sYu-tR3U8jxl"
      },
      "outputs": [],
      "source": [
        "#understand where most of the startups are located - get countries with startup occurrence\n",
        "countries = dfcom.select(\"permalink\", \"name\", \"country_code\").\\\n",
        "  groupBy(\"country_code\").\\\n",
        "  agg(fn.count(\"country_code\")).\\\n",
        "  sort(\"count(country_code)\", ascending=False)"
      ]
    },
    {
      "cell_type": "code",
      "execution_count": null,
      "metadata": {
        "colab": {
          "base_uri": "https://localhost:8080/",
          "height": 33
        },
        "id": "cAE53F7Y8oP0",
        "outputId": "a35517af-0c88-4d88-db54-2a93e2bef838"
      },
      "outputs": [
        {
          "data": {
            "text/plain": [
              "DataFrame[country_code: string, count(country_code): bigint]"
            ]
          },
          "metadata": {
            "tags": []
          },
          "output_type": "display_data"
        }
      ],
      "source": [
        "display(countries)"
      ]
    },
    {
      "cell_type": "code",
      "execution_count": null,
      "metadata": {
        "colab": {
          "base_uri": "https://localhost:8080/",
          "height": 33
        },
        "id": "h_KftWUY8s8M",
        "outputId": "5b297aca-704c-4d8c-a360-78c928d28c12"
      },
      "outputs": [
        {
          "data": {
            "text/plain": [
              "DataFrame[max(founded_year): string, min(founded_year): string]"
            ]
          },
          "metadata": {
            "tags": []
          },
          "output_type": "display_data"
        }
      ],
      "source": [
        "display(\n",
        "  dfcom.select(\"permalink\", \"name\", \"founded_year\").\\\n",
        "  agg(fn.max(\"founded_year\"), fn.min(\"founded_year\"))\n",
        ")"
      ]
    },
    {
      "cell_type": "code",
      "execution_count": null,
      "metadata": {
        "colab": {
          "base_uri": "https://localhost:8080/"
        },
        "id": "fuFr5-PH86sG",
        "outputId": "1956ce6a-bdbf-4e6a-be7d-084dbf01c96e"
      },
      "outputs": [
        {
          "name": "stdout",
          "output_type": "stream",
          "text": [
            "+-------+-----------------+------------------+-----------------+\n",
            "|summary|funding_total_usd|    funding_rounds|     founded_year|\n",
            "+-------+-----------------+------------------+-----------------+\n",
            "|  count|            49438|             49438|            38482|\n",
            "|   mean|329.3095238095238|1.6962053481127877|2007.359128943402|\n",
            "| stddev|286.1580228709764|1.2942126991245242|7.579203055906449|\n",
            "|    min|             -   |                 1|             1902|\n",
            "|    max|       99,99,999 |                 9|             2014|\n",
            "+-------+-----------------+------------------+-----------------+\n",
            "\n"
          ]
        }
      ],
      "source": [
        "#get basic statistics for columns with numerical value - understand min, max, mean etc.\n",
        "dfcom.select(\"funding_total_usd\", \"funding_rounds\", \"founded_year\").describe().show()"
      ]
    },
    {
      "cell_type": "markdown",
      "metadata": {
        "id": "tez8iJF59FIR"
      },
      "source": [
        "\n",
        "basic examination and statistics of acquisitions data"
      ]
    },
    {
      "cell_type": "code",
      "execution_count": null,
      "metadata": {
        "colab": {
          "base_uri": "https://localhost:8080/",
          "height": 53
        },
        "id": "frs_cf7i9Ern",
        "outputId": "1434b74d-6635-45f6-d9bf-6487a3c81840"
      },
      "outputs": [
        {
          "data": {
            "text/plain": [
              "DataFrame[company_permalink: string, company_name: string, company_category_list: string, company_market: string, company_country_code: string, company_state_code: string, company_region: string, company_city: string, acquirer_permalink: string, acquirer_name: string, acquirer_category_list: string, acquirer_market: string, acquirer_country_code: string, acquirer_state_code: string, acquirer_region: string, acquirer_city: string, acquired_at: string, acquired_month: string, acquired_quarter: string, acquired_year: string, price_amount: string, price_currency_code: string]"
            ]
          },
          "metadata": {
            "tags": []
          },
          "output_type": "display_data"
        }
      ],
      "source": [
        "display(dfacq)"
      ]
    },
    {
      "cell_type": "code",
      "execution_count": null,
      "metadata": {
        "colab": {
          "base_uri": "https://localhost:8080/"
        },
        "id": "bNbIJ4WN9MIn",
        "outputId": "e2c69579-4941-431e-8485-84d9e1107cec"
      },
      "outputs": [
        {
          "data": {
            "text/plain": [
              "55240"
            ]
          },
          "execution_count": 35,
          "metadata": {
            "tags": []
          },
          "output_type": "execute_result"
        }
      ],
      "source": [
        "dfacq.count()"
      ]
    },
    {
      "cell_type": "code",
      "execution_count": null,
      "metadata": {
        "id": "_ZXuufCJ9Peo"
      },
      "outputs": [],
      "source": [
        "#who are the companies who acquire the most\n",
        "acquirers = dfacq.\\\n",
        "  select(\"acquirer_name\").\\\n",
        "  groupby(col(\"acquirer_name\")).\\\n",
        "  agg(fn.count(\"acquirer_name\")).\\\n",
        "  sort(\"count(acquirer_name)\", ascending=False)"
      ]
    },
    {
      "cell_type": "code",
      "execution_count": null,
      "metadata": {
        "colab": {
          "base_uri": "https://localhost:8080/",
          "height": 183
        },
        "id": "Yb1A5kml9TPZ",
        "outputId": "16a14db7-9789-42ba-c784-ef4c0269e6b5"
      },
      "outputs": [
        {
          "data": {
            "text/plain": [
              "[Row(acquirer_name='Cisco', count(acquirer_name)=168),\n",
              " Row(acquirer_name='Google', count(acquirer_name)=165),\n",
              " Row(acquirer_name='Microsoft', count(acquirer_name)=156),\n",
              " Row(acquirer_name='IBM', count(acquirer_name)=122),\n",
              " Row(acquirer_name='Yahoo!', count(acquirer_name)=116),\n",
              " Row(acquirer_name='Oracle Corporation', count(acquirer_name)=90),\n",
              " Row(acquirer_name='Hewlett-Packard', count(acquirer_name)=88),\n",
              " Row(acquirer_name='AOL', count(acquirer_name)=64),\n",
              " Row(acquirer_name='EMC', count(acquirer_name)=63),\n",
              " Row(acquirer_name='Intel', count(acquirer_name)=59)]"
            ]
          },
          "metadata": {
            "tags": []
          },
          "output_type": "display_data"
        }
      ],
      "source": [
        "display(acquirers.take(10))"
      ]
    },
    {
      "cell_type": "code",
      "execution_count": null,
      "metadata": {
        "colab": {
          "base_uri": "https://localhost:8080/"
        },
        "id": "NyrNmelX9XzX",
        "outputId": "b8470b81-672f-4385-da92-fddaf0e9da36"
      },
      "outputs": [
        {
          "name": "stdout",
          "output_type": "stream",
          "text": [
            "+-------+------------------+\n",
            "|summary|      price_amount|\n",
            "+-------+------------------+\n",
            "|  count|              3716|\n",
            "|   mean|141.73529411764707|\n",
            "| stddev| 240.5853101164954|\n",
            "|    min|              -   |\n",
            "|    max|     99,60,00,000 |\n",
            "+-------+------------------+\n",
            "\n"
          ]
        }
      ],
      "source": [
        "#statistics of price column\n",
        "dfacq.select(\"price_amount\").describe().show()"
      ]
    },
    {
      "cell_type": "code",
      "execution_count": null,
      "metadata": {
        "colab": {
          "base_uri": "https://localhost:8080/",
          "height": 33
        },
        "id": "R4cYd5069aeV",
        "outputId": "c9f87062-21b5-4978-92eb-94da5d59f25e"
      },
      "outputs": [
        {
          "data": {
            "text/plain": [
              "DataFrame[price_currency_code: string, count(price_currency_code): bigint]"
            ]
          },
          "metadata": {
            "tags": []
          },
          "output_type": "display_data"
        }
      ],
      "source": [
        "#which different currencies occur\n",
        "display(\n",
        "  dfacq.\\\n",
        "  select(\"price_currency_code\").\\\n",
        "  groupby(\"price_currency_code\").\\\n",
        "  agg(fn.count(\"price_currency_code\")).\\\n",
        "  sort(\"count(price_currency_code)\", ascending=False)\n",
        ")"
      ]
    },
    {
      "cell_type": "markdown",
      "metadata": {
        "id": "P1OVuziY9hV8"
      },
      "source": [
        "basic examination and statistics of investment data"
      ]
    },
    {
      "cell_type": "code",
      "execution_count": null,
      "metadata": {
        "colab": {
          "base_uri": "https://localhost:8080/",
          "height": 53
        },
        "id": "HVSmXGcw9eDk",
        "outputId": "4664a07e-ab45-4278-a52f-5e95b1b19783"
      },
      "outputs": [
        {
          "data": {
            "text/plain": [
              "DataFrame[company_permalink: string, company_name: string, company_category_list: string, company_market: string, company_country_code: string, company_state_code: string, company_region: string, company_city: string, investor_permalink: string, investor_name: string, investor_category_list: string, investor_market: string, investor_country_code: string, investor_state_code: string, investor_region: string, investor_city: string, funding_round_permalink: string, funding_round_type: string, funding_round_code: string, funded_at: string, funded_month: string, funded_quarter: string, funded_year: string, raised_amount_usd: string]"
            ]
          },
          "metadata": {
            "tags": []
          },
          "output_type": "display_data"
        }
      ],
      "source": [
        "display(dfinv)"
      ]
    },
    {
      "cell_type": "code",
      "execution_count": null,
      "metadata": {
        "colab": {
          "base_uri": "https://localhost:8080/"
        },
        "id": "Y8w9c_q79kxr",
        "outputId": "e9f33a15-5c42-4746-99dc-d389da81538a"
      },
      "outputs": [
        {
          "data": {
            "text/plain": [
              "114506"
            ]
          },
          "execution_count": 41,
          "metadata": {
            "tags": []
          },
          "output_type": "execute_result"
        }
      ],
      "source": [
        "dfinv.count()"
      ]
    },
    {
      "cell_type": "code",
      "execution_count": null,
      "metadata": {
        "colab": {
          "base_uri": "https://localhost:8080/"
        },
        "id": "WSZhF4If9n3O",
        "outputId": "309d9d1f-b60d-4ca8-d59c-6b44585ecdba"
      },
      "outputs": [
        {
          "data": {
            "text/plain": [
              "company_permalink              0\n",
              "company_name                   0\n",
              "company_category_list       3264\n",
              "company_market              3266\n",
              "company_country_code        7359\n",
              "company_state_code         35348\n",
              "company_region              7359\n",
              "company_city                8705\n",
              "investor_permalink            66\n",
              "investor_name                 66\n",
              "investor_category_list     83999\n",
              "investor_market            84051\n",
              "investor_country_code      27985\n",
              "investor_state_code        52232\n",
              "investor_region            27985\n",
              "investor_city              28499\n",
              "funding_round_permalink        0\n",
              "funding_round_type             0\n",
              "funding_round_code         59837\n",
              "funded_at                      0\n",
              "funded_month                   0\n",
              "funded_quarter                 0\n",
              "funded_year                    0\n",
              "raised_amount_usd          13351\n",
              "dtype: int64"
            ]
          },
          "execution_count": 42,
          "metadata": {
            "tags": []
          },
          "output_type": "execute_result"
        }
      ],
      "source": [
        "#check for null values\n",
        "dfinv.toPandas().isnull().sum()"
      ]
    },
    {
      "cell_type": "code",
      "execution_count": null,
      "metadata": {
        "id": "HDQ-4Qjf9wLF"
      },
      "outputs": [],
      "source": [
        "# get investor name, number of occurrences and total amount of invested usd to detect top investors\n",
        "investors = dfinv.\\\n",
        "  select(\"investor_name\", \"raised_amount_usd\").\\\n",
        "  groupby(col(\"investor_name\")).\\\n",
        "  agg(fn.count(\"investor_name\"), fn.sum(\"raised_amount_usd\")).\\\n",
        "  sort(\"count(investor_name)\", ascending=False)"
      ]
    },
    {
      "cell_type": "code",
      "execution_count": null,
      "metadata": {
        "colab": {
          "base_uri": "https://localhost:8080/",
          "height": 133
        },
        "id": "6_5fDl9W90LU",
        "outputId": "e24734cb-d993-47b9-f1b0-77ea3797e106"
      },
      "outputs": [
        {
          "data": {
            "text/plain": [
              "[Row(investor_name='Sequoia Capital', count(investor_name)=776, sum(raised_amount_usd)=None),\n",
              " Row(investor_name='Start-Up Chile', count(investor_name)=702, sum(raised_amount_usd)=None),\n",
              " Row(investor_name='500 Startups', count(investor_name)=694, sum(raised_amount_usd)=None),\n",
              " Row(investor_name='Intel Capital', count(investor_name)=674, sum(raised_amount_usd)=None),\n",
              " Row(investor_name='Y Combinator', count(investor_name)=625, sum(raised_amount_usd)=None),\n",
              " Row(investor_name='New Enterprise Associates', count(investor_name)=619, sum(raised_amount_usd)=None),\n",
              " Row(investor_name='Accel Partners', count(investor_name)=592, sum(raised_amount_usd)=None)]"
            ]
          },
          "metadata": {
            "tags": []
          },
          "output_type": "display_data"
        }
      ],
      "source": [
        "display(investors.take(7))"
      ]
    },
    {
      "cell_type": "code",
      "execution_count": null,
      "metadata": {
        "id": "ICumORM292pi"
      },
      "outputs": [],
      "source": [
        "#where are most of the investors located\n",
        "investorcities = dfinv.\\\n",
        "  select(\"investor_city\",).\\\n",
        "  groupby(col(\"investor_city\")).\\\n",
        "  agg(fn.count(\"investor_city\")).\\\n",
        "  sort(\"count(investor_city)\", ascending=False)"
      ]
    },
    {
      "cell_type": "code",
      "execution_count": null,
      "metadata": {
        "colab": {
          "base_uri": "https://localhost:8080/",
          "height": 150
        },
        "id": "s-uSrOzoAvFl",
        "outputId": "9c32214a-1db9-4ff7-9649-1458ea6d20e4"
      },
      "outputs": [
        {
          "data": {
            "text/plain": [
              "[Row(investor_city='Menlo Park', count(investor_city)=9962),\n",
              " Row(investor_city='New York', count(investor_city)=7030),\n",
              " Row(investor_city='San Francisco', count(investor_city)=5934),\n",
              " Row(investor_city='Palo Alto', count(investor_city)=5224),\n",
              " Row(investor_city='London', count(investor_city)=3146),\n",
              " Row(investor_city='Boston', count(investor_city)=2637),\n",
              " Row(investor_city='Mountain View', count(investor_city)=1786),\n",
              " Row(investor_city='Cambridge', count(investor_city)=1761)]"
            ]
          },
          "metadata": {
            "tags": []
          },
          "output_type": "display_data"
        }
      ],
      "source": [
        "display(investorcities.take(8))"
      ]
    },
    {
      "cell_type": "code",
      "execution_count": null,
      "metadata": {
        "colab": {
          "base_uri": "https://localhost:8080/"
        },
        "id": "jWvJ1tvvAzfo",
        "outputId": "319f0b9f-6fac-4699-86c0-df6b5334564d"
      },
      "outputs": [
        {
          "data": {
            "text/plain": [
              "22277"
            ]
          },
          "execution_count": 47,
          "metadata": {
            "tags": []
          },
          "output_type": "execute_result"
        }
      ],
      "source": [
        "#how many distinct investors do we have\n",
        "dfinv.\\\n",
        "select(\"investor_permalink\").\\\n",
        "distinct().\\\n",
        "count()"
      ]
    },
    {
      "cell_type": "code",
      "execution_count": null,
      "metadata": {
        "colab": {
          "base_uri": "https://localhost:8080/"
        },
        "id": "ACoozXSwA3b1",
        "outputId": "b66f33b9-5b9b-4e36-bfbb-ec70d65f3a1c"
      },
      "outputs": [
        {
          "name": "stdout",
          "output_type": "stream",
          "text": [
            "+-------+------------------+-----------------+\n",
            "|summary| raised_amount_usd|      funded_year|\n",
            "+-------+------------------+-----------------+\n",
            "|  count|            101155|           114506|\n",
            "|   mean|149.08333333333334|2010.686173650289|\n",
            "| stddev|157.12413167181924|3.065592487565398|\n",
            "|    min|              -   |             1921|\n",
            "|    max|           99,995 |             2014|\n",
            "+-------+------------------+-----------------+\n",
            "\n"
          ]
        }
      ],
      "source": [
        "dfinv.select(\"raised_amount_usd\", \"funded_year\").describe().show()"
      ]
    },
    {
      "cell_type": "code",
      "execution_count": null,
      "metadata": {
        "id": "ULzXmaReA6Ad"
      },
      "outputs": [],
      "source": [
        "#how much money per year was invested over time\n",
        "investperyear = dfinv.\\\n",
        "select(\"funded_year\", \"raised_amount_usd\").\\\n",
        "groupby(\"funded_year\").\\\n",
        "agg(fn.sum(\"raised_amount_usd\")).\\\n",
        "sort(\"funded_year\")"
      ]
    },
    {
      "cell_type": "code",
      "execution_count": null,
      "metadata": {
        "colab": {
          "base_uri": "https://localhost:8080/",
          "height": 33
        },
        "id": "g5DPPaZrA9P7",
        "outputId": "0eed59a1-60c2-4ef9-d78e-dbe065305724"
      },
      "outputs": [
        {
          "data": {
            "text/plain": [
              "DataFrame[funded_year: string, sum(raised_amount_usd): double]"
            ]
          },
          "metadata": {
            "tags": []
          },
          "output_type": "display_data"
        }
      ],
      "source": [
        "display(investperyear)"
      ]
    },
    {
      "cell_type": "markdown",
      "metadata": {
        "id": "PdIAmb5dBDJs"
      },
      "source": [
        "basic examination and statistics of rounds data"
      ]
    },
    {
      "cell_type": "code",
      "execution_count": null,
      "metadata": {
        "colab": {
          "base_uri": "https://localhost:8080/",
          "height": 53
        },
        "id": "txbeGFZUBARp",
        "outputId": "2df9806e-de84-4e99-f619-7a517240289f"
      },
      "outputs": [
        {
          "data": {
            "text/plain": [
              "DataFrame[company_permalink: string, company_name: string, company_category_list: string, company_market: string, company_country_code: string, company_state_code: string, company_region: string, company_city: string, funding_round_permalink: string, funding_round_type: string, funding_round_code: string, funded_at: string, funded_month: string, funded_quarter: string, funded_year: string, raised_amount_usd: string]"
            ]
          },
          "metadata": {
            "tags": []
          },
          "output_type": "display_data"
        }
      ],
      "source": [
        "display(dfrou)"
      ]
    },
    {
      "cell_type": "code",
      "execution_count": null,
      "metadata": {
        "colab": {
          "base_uri": "https://localhost:8080/"
        },
        "id": "fIuv-cn_BXr4",
        "outputId": "0fe4053a-5122-4072-9002-1395bad647d3"
      },
      "outputs": [
        {
          "data": {
            "text/plain": [
              "83870"
            ]
          },
          "execution_count": 52,
          "metadata": {
            "tags": []
          },
          "output_type": "execute_result"
        }
      ],
      "source": [
        "dfrou.count()"
      ]
    },
    {
      "cell_type": "code",
      "execution_count": null,
      "metadata": {
        "colab": {
          "base_uri": "https://localhost:8080/"
        },
        "id": "o1AFxZvQBZ2E",
        "outputId": "07d350b7-4631-4708-9cd6-e2a7f7098255"
      },
      "outputs": [
        {
          "data": {
            "text/plain": [
              "company_permalink              0\n",
              "company_name                   0\n",
              "company_category_list       4446\n",
              "company_market              4453\n",
              "company_country_code        6566\n",
              "company_state_code         27373\n",
              "company_region              6566\n",
              "company_city                7647\n",
              "funding_round_permalink        0\n",
              "funding_round_type             0\n",
              "funding_round_code         61000\n",
              "funded_at                      0\n",
              "funded_month                  10\n",
              "funded_quarter                10\n",
              "funded_year                   10\n",
              "raised_amount_usd          12831\n",
              "dtype: int64"
            ]
          },
          "execution_count": 53,
          "metadata": {
            "tags": []
          },
          "output_type": "execute_result"
        }
      ],
      "source": [
        "dfrou.toPandas().isnull().sum()"
      ]
    },
    {
      "cell_type": "code",
      "execution_count": null,
      "metadata": {
        "id": "OQkZ5cItBdBR"
      },
      "outputs": [],
      "source": [
        "#which funding round types happen more often than others - which are our main types\n",
        "fundingrounds = dfrou.\\\n",
        "  select(\"funding_round_type\").\\\n",
        "  groupBy(\"funding_round_type\").\\\n",
        "  agg(fn.count(\"funding_round_type\")).\\\n",
        "  sort(\"count(funding_round_type)\", ascending=False)"
      ]
    },
    {
      "cell_type": "code",
      "execution_count": null,
      "metadata": {
        "colab": {
          "base_uri": "https://localhost:8080/",
          "height": 133
        },
        "id": "r2tlUz9mBgpT",
        "outputId": "78d33fc3-d2c6-4cf6-c8e6-543a0e964847"
      },
      "outputs": [
        {
          "data": {
            "text/plain": [
              "[Row(funding_round_type='venture', count(funding_round_type)=41742),\n",
              " Row(funding_round_type='seed', count(funding_round_type)=21036),\n",
              " Row(funding_round_type='debt_financing', count(funding_round_type)=5692),\n",
              " Row(funding_round_type='angel', count(funding_round_type)=4443),\n",
              " Row(funding_round_type='undisclosed', count(funding_round_type)=3871),\n",
              " Row(funding_round_type='equity_crowdfunding', count(funding_round_type)=2256),\n",
              " Row(funding_round_type='private_equity', count(funding_round_type)=1828)]"
            ]
          },
          "metadata": {
            "tags": []
          },
          "output_type": "display_data"
        }
      ],
      "source": [
        "display(fundingrounds.take(7))"
      ]
    },
    {
      "cell_type": "code",
      "execution_count": null,
      "metadata": {
        "colab": {
          "base_uri": "https://localhost:8080/"
        },
        "id": "0hHNcBrDBkLp",
        "outputId": "f7b4217f-2fe1-41b5-f51e-772ee7a9c658"
      },
      "outputs": [
        {
          "name": "stdout",
          "output_type": "stream",
          "text": [
            "+-------+------------------+-----------------+\n",
            "|summary| raised_amount_usd|      funded_year|\n",
            "+-------+------------------+-----------------+\n",
            "|  count|             71039|            83860|\n",
            "|   mean|299.36842105263156|2011.018173145719|\n",
            "| stddev|  270.499579586348|2.889239747417477|\n",
            "|    min|              -   |             1921|\n",
            "|    max|           99,999 |             2015|\n",
            "+-------+------------------+-----------------+\n",
            "\n"
          ]
        }
      ],
      "source": [
        "dfrou.select(\"raised_amount_usd\", \"funded_year\").describe().show()"
      ]
    },
    {
      "cell_type": "code",
      "execution_count": null,
      "metadata": {
        "id": "u3MUEjhRBnxW"
      },
      "outputs": [],
      "source": [
        "# Replace + with | , see Hardware+Software\n",
        "df_categories_pd = dfcom.select(\"category_list\").toPandas()\n",
        "k = []\n",
        "for i in df_categories_pd.category_list:\n",
        "    i = str(i)\n",
        "    j = i.replace(' + ','|')\n",
        "    k.append(j)"
      ]
    },
    {
      "cell_type": "code",
      "execution_count": null,
      "metadata": {
        "id": "0BDxgcLPCHJa"
      },
      "outputs": [],
      "source": [
        "sql = SQLContext(spark)"
      ]
    },
    {
      "cell_type": "code",
      "execution_count": null,
      "metadata": {
        "id": "CUwuou6eBqkD"
      },
      "outputs": [],
      "source": [
        "# Create Spark DF with new Category list\n",
        "mylist_pd_k = pd.DataFrame({\"category_list\": k})\n",
        "df_cat_k = sql.createDataFrame(mylist_pd_k)"
      ]
    },
    {
      "cell_type": "code",
      "execution_count": null,
      "metadata": {
        "id": "f9t4jxSyCMjI"
      },
      "outputs": [],
      "source": [
        "#convert to Pandas\n",
        "permalink_pd = dfcom.select(\"permalink\").toPandas()"
      ]
    },
    {
      "cell_type": "code",
      "execution_count": null,
      "metadata": {
        "id": "3lpaw_0lCQtb"
      },
      "outputs": [],
      "source": [
        "df_categories_pd = mylist_pd_k\n",
        "\n",
        "mylist = []\n",
        "for i in range(len(df_categories_pd)):  \n",
        "  mystring = str(df_categories_pd.category_list[i])\n",
        "  myremover = mystring.split(\"|\")\n",
        "  #str_list = filter(None, myremover)\n",
        "  mylist.append(myremover)\n",
        "\n",
        "mylist_pd = pd.DataFrame({\"category\": mylist, \"permalink\": permalink_pd.permalink})\n",
        "df_cat = sql.createDataFrame(mylist_pd)"
      ]
    },
    {
      "cell_type": "code",
      "execution_count": null,
      "metadata": {
        "id": "yigQx5OJCX2D"
      },
      "outputs": [],
      "source": [
        "# counter vector + kmeans clustering + fitting and transforming\n",
        "cv = feature.CountVectorizer(inputCol='category', outputCol='tf')\n",
        "kmeans = clustering.KMeans(k=400, featuresCol='tf', predictionCol='kmeans_feat')\n",
        "pipeline_model = Pipeline(stages=[cv, kmeans]).fit(df_cat)\n",
        "df_catid_kmeans = pipeline_model.transform(df_cat)"
      ]
    },
    {
      "cell_type": "code",
      "execution_count": null,
      "metadata": {
        "id": "1aNCz760DdvK"
      },
      "outputs": [],
      "source": [
        "#concatenate the categories which are within one kmeans cluster\n",
        "df_catid_kmeans_concat = df_catid_kmeans.\\\n",
        "groupby(\"kmeans_feat\").\\\n",
        "agg(fn.collect_list(col(\"category\")).alias(\"category\")).\\\n",
        "sort(\"kmeans_feat\")"
      ]
    },
    {
      "cell_type": "code",
      "execution_count": null,
      "metadata": {
        "id": "zctkFdCRDf02"
      },
      "outputs": [],
      "source": [
        "#execute custom functions before the following\n",
        "\n",
        "#flatten list spark df to spark df\n",
        "newcatewoo = flatten_list(df_catid_kmeans_concat)"
      ]
    },
    {
      "cell_type": "code",
      "execution_count": null,
      "metadata": {
        "id": "D4be4PJ7DjbD"
      },
      "outputs": [],
      "source": [
        "# counter vectorizer\n",
        "cv = feature.CountVectorizer(inputCol='category', outputCol='tf')"
      ]
    },
    {
      "cell_type": "code",
      "execution_count": null,
      "metadata": {
        "id": "86OT7jTmDngD"
      },
      "outputs": [],
      "source": [
        "# cv fitting and df transformation\n",
        "cv_model = cv.fit(newcatewoo)\n",
        "df_catwoo_cv = cv_model.transform(newcatewoo)"
      ]
    },
    {
      "cell_type": "code",
      "execution_count": null,
      "metadata": {
        "id": "uHNmJOE-D004"
      },
      "outputs": [],
      "source": [
        "#get the three categories occuring most often for each cluster\n",
        "kmeancate = three_highest_catpluscount(df_catwoo_cv)"
      ]
    },
    {
      "cell_type": "code",
      "execution_count": null,
      "metadata": {
        "colab": {
          "base_uri": "https://localhost:8080/"
        },
        "id": "GTpFPsvuD4MC",
        "outputId": "f6454691-1b2f-4f7a-f5a7-e17c18462fc0"
      },
      "outputs": [
        {
          "data": {
            "text/plain": [
              "['',\n",
              " 'None',\n",
              " 'Software',\n",
              " 'Mobile',\n",
              " 'Biotechnology',\n",
              " 'E-Commerce',\n",
              " 'Curated Web',\n",
              " 'Social Media',\n",
              " 'Enterprise Software',\n",
              " 'Advertising',\n",
              " 'Games',\n",
              " 'Hardware',\n",
              " 'Health Care',\n",
              " 'Finance',\n",
              " 'Education',\n",
              " 'Clean Technology',\n",
              " 'Analytics',\n",
              " 'Health and Wellness',\n",
              " 'SaaS',\n",
              " 'Internet',\n",
              " 'Apps',\n",
              " 'Manufacturing',\n",
              " 'Security',\n",
              " 'Video',\n",
              " 'Fashion',\n",
              " 'Search',\n",
              " 'Consulting',\n",
              " 'Travel',\n",
              " 'News',\n",
              " 'Cloud Computing',\n",
              " 'Web Hosting',\n",
              " 'Hospitality',\n",
              " 'Music',\n",
              " 'Networking',\n",
              " 'Technology',\n",
              " 'Social Network Media',\n",
              " 'Entertainment',\n",
              " 'Sales and Marketing',\n",
              " 'Real Estate',\n",
              " 'Marketplaces',\n",
              " 'Messaging',\n",
              " 'Semiconductors',\n",
              " 'Big Data',\n",
              " 'Sports',\n",
              " 'Photography',\n",
              " 'iPhone',\n",
              " 'Media',\n",
              " 'Android',\n",
              " 'Startups',\n",
              " 'Medical',\n",
              " 'Web Development',\n",
              " 'Retail',\n",
              " 'Design',\n",
              " 'Automotive',\n",
              " 'Content',\n",
              " 'Events',\n",
              " 'Location Based Services',\n",
              " 'Digital Media',\n",
              " 'Enterprises',\n",
              " 'Facebook Applications',\n",
              " 'Collaboration',\n",
              " 'Publishing',\n",
              " 'Reviews and Recommendations',\n",
              " 'Payments',\n",
              " 'Information Technology',\n",
              " 'iOS',\n",
              " 'Local',\n",
              " 'Transportation',\n",
              " 'Consumer Electronics',\n",
              " 'Services',\n",
              " 'Social Commerce',\n",
              " 'Video Streaming',\n",
              " 'Financial Services',\n",
              " 'CRM',\n",
              " 'Internet Marketing',\n",
              " 'Public Relations',\n",
              " 'Crowdsourcing',\n",
              " 'Brand Marketing',\n",
              " 'Business Services',\n",
              " 'B2B',\n",
              " 'Wireless',\n",
              " 'Shopping',\n",
              " 'Recruiting',\n",
              " 'Mobile Commerce',\n",
              " 'Television',\n",
              " 'Nonprofits',\n",
              " 'Human Resources',\n",
              " 'Real Time',\n",
              " 'Telecommunications',\n",
              " 'Big Data Analytics',\n",
              " 'File Sharing',\n",
              " 'iPad',\n",
              " 'Business Intelligence',\n",
              " 'Social Media Marketing',\n",
              " 'Medical Devices',\n",
              " 'Restaurants',\n",
              " 'Online Shopping',\n",
              " 'SEO',\n",
              " 'Mobile Payments',\n",
              " 'Email',\n",
              " 'Web Tools',\n",
              " 'Social Games',\n",
              " 'Public Transportation',\n",
              " 'Storage',\n",
              " 'Fitness',\n",
              " 'Databases',\n",
              " 'Small and Medium Businesses',\n",
              " 'Twitter Applications',\n",
              " 'Internet of Things',\n",
              " 'Customer Service',\n",
              " 'Pharmaceuticals',\n",
              " 'Mobile Games',\n",
              " 'Legal',\n",
              " 'Lifestyle',\n",
              " 'Peer-to-Peer',\n",
              " 'Photo Sharing',\n",
              " 'Open Source',\n",
              " 'Productivity Software',\n",
              " 'Consumers',\n",
              " 'Blogging Platforms',\n",
              " 'Crowdfunding',\n",
              " 'Venture Capital',\n",
              " 'Developer APIs',\n",
              " 'Health Care Information Technology',\n",
              " 'Local Businesses',\n",
              " 'Coupons',\n",
              " 'Kids',\n",
              " 'Loyalty Programs',\n",
              " 'Employment',\n",
              " 'Audio',\n",
              " 'Project Management',\n",
              " 'Consumer Goods',\n",
              " 'Cloud Data Services',\n",
              " 'Colleges',\n",
              " 'Hotels',\n",
              " 'Finance Technology',\n",
              " 'Ticketing',\n",
              " 'Marketing Automation',\n",
              " 'Career Management',\n",
              " 'Art',\n",
              " 'Chat',\n",
              " 'Predictive Analytics',\n",
              " 'App Marketing',\n",
              " 'Personalization',\n",
              " 'Discounts',\n",
              " 'Lead Generation',\n",
              " 'Machine Learning',\n",
              " 'Nanotechnology',\n",
              " 'Web Design',\n",
              " 'Virtualization',\n",
              " 'PaaS',\n",
              " 'Clean Energy',\n",
              " 'Gamification',\n",
              " 'Electronics',\n",
              " 'Network Security',\n",
              " 'Artificial Intelligence',\n",
              " 'Communities',\n",
              " 'Ediscovery',\n",
              " 'Banking',\n",
              " 'Incentives',\n",
              " 'SMS',\n",
              " 'Cars',\n",
              " 'Training',\n",
              " 'Trading',\n",
              " 'Parenting',\n",
              " 'Logistics',\n",
              " 'Online Dating',\n",
              " 'Tracking',\n",
              " 'Maps',\n",
              " '3D',\n",
              " 'Energy',\n",
              " 'Collaborative Consumption',\n",
              " 'Entrepreneur',\n",
              " 'Market Research',\n",
              " 'Gift Card',\n",
              " 'VoIP',\n",
              " 'Tablets',\n",
              " 'Home & Garden',\n",
              " 'Beauty',\n",
              " 'Video Games',\n",
              " 'Data Security',\n",
              " 'Optimization',\n",
              " 'Identity',\n",
              " 'Auctions',\n",
              " 'Personal Finance',\n",
              " 'All Students',\n",
              " 'Bitcoin',\n",
              " 'Film',\n",
              " 'Email Marketing',\n",
              " 'Data Visualization',\n",
              " 'Home Automation',\n",
              " 'Mobile Advertising',\n",
              " 'Semantic Search',\n",
              " 'Graphics',\n",
              " 'Insurance',\n",
              " 'Price Comparison',\n",
              " 'Mobile Software Tools',\n",
              " 'Accounting',\n",
              " 'Online Reservations',\n",
              " 'Consumer Internet',\n",
              " 'Weddings',\n",
              " 'Web CMS',\n",
              " 'Local Search',\n",
              " 'Creative',\n",
              " 'Online Scheduling',\n",
              " 'Pets',\n",
              " 'Investment Management',\n",
              " 'Game',\n",
              " 'Gps',\n",
              " 'Cloud Management',\n",
              " 'Online Travel',\n",
              " 'Freelancers',\n",
              " 'Advertising Platforms',\n",
              " 'Energy Efficiency',\n",
              " 'Online Rental',\n",
              " 'Distribution',\n",
              " 'Social Buying',\n",
              " 'Solar',\n",
              " 'Ad Targeting',\n",
              " 'Hospitals',\n",
              " 'Language Learning',\n",
              " 'Privacy',\n",
              " 'Mobility',\n",
              " 'Information Services',\n",
              " 'Promotional',\n",
              " 'Data Integration',\n",
              " 'Point of Sale',\n",
              " 'Monetization',\n",
              " 'Outsourcing',\n",
              " 'Printing',\n",
              " 'Augmented Reality',\n",
              " 'Virtual Worlds',\n",
              " 'Task Management',\n",
              " 'Tourism',\n",
              " 'Private Social Networking',\n",
              " 'Environmental Innovation',\n",
              " 'Mobile Health',\n",
              " 'Sustainability',\n",
              " 'Travel & Tourism',\n",
              " 'Sensors',\n",
              " 'Event Management',\n",
              " 'Data Centers',\n",
              " 'Broadcasting',\n",
              " 'Teachers',\n",
              " 'Wine And Spirits',\n",
              " 'Robotics',\n",
              " 'Social Search',\n",
              " 'Semantic Web',\n",
              " 'Document Management',\n",
              " 'Business Development',\n",
              " 'Life Sciences',\n",
              " 'Testing',\n",
              " 'Renewable Energies',\n",
              " 'Infrastructure',\n",
              " 'Data Mining',\n",
              " 'Subscription Businesses',\n",
              " 'Concerts',\n",
              " 'Risk Management',\n",
              " 'Universities',\n",
              " 'Green',\n",
              " 'Agriculture',\n",
              " 'Contact Management',\n",
              " 'Visualization',\n",
              " 'Mobile Security',\n",
              " 'App Stores',\n",
              " 'Retail Technology',\n",
              " 'Politics',\n",
              " 'Image Recognition',\n",
              " 'Journalism',\n",
              " 'Computers',\n",
              " 'Classifieds',\n",
              " 'Navigation',\n",
              " 'Browser Extensions',\n",
              " 'Gambling',\n",
              " 'Tutoring',\n",
              " 'NFC',\n",
              " 'User Experience Design',\n",
              " 'Video on Demand',\n",
              " 'Shipping',\n",
              " 'Women',\n",
              " 'Flash Storage',\n",
              " 'Supply Chain Management',\n",
              " 'Opinions',\n",
              " 'Social CRM',\n",
              " 'Mobile Devices',\n",
              " 'Application Platforms',\n",
              " 'Service Providers',\n",
              " 'Jewelry',\n",
              " 'Billing',\n",
              " 'Textbooks',\n",
              " 'Reputation',\n",
              " 'Surveys',\n",
              " 'Stock Exchanges',\n",
              " 'Therapeutics',\n",
              " 'mHealth',\n",
              " 'E-Commerce Platforms',\n",
              " 'Credit Cards',\n",
              " 'QR Codes',\n",
              " 'Professional Services',\n",
              " 'Presentations',\n",
              " 'Healthcare Services',\n",
              " 'Content Delivery',\n",
              " 'Property Management',\n",
              " 'Social Television',\n",
              " 'Translation',\n",
              " 'Social Recruiting',\n",
              " 'Food Processing',\n",
              " 'Development Platforms',\n",
              " 'Direct Marketing',\n",
              " 'Natural Language Processing',\n",
              " 'Identity Management',\n",
              " 'Construction',\n",
              " 'Charity',\n",
              " 'IaaS',\n",
              " 'MMO Games',\n",
              " 'Doctors',\n",
              " 'Meeting Software',\n",
              " 'Career Planning',\n",
              " 'Information Security',\n",
              " 'Recycling',\n",
              " 'Cloud Infrastructure',\n",
              " 'M2M',\n",
              " 'Skill Assessment',\n",
              " 'Search Marketing',\n",
              " 'Customer Support Tools',\n",
              " 'Virtual Currency',\n",
              " 'Online Gaming',\n",
              " 'Developer Tools',\n",
              " 'Cloud Security',\n",
              " 'Vacation Rentals',\n",
              " 'Local Based Services',\n",
              " 'K-12 Education',\n",
              " 'Group Buying',\n",
              " 'Social Media Monitoring',\n",
              " 'Flash Sales',\n",
              " 'Psychology',\n",
              " 'Personal Health',\n",
              " 'Specialty Foods',\n",
              " 'High Schools',\n",
              " 'Electronic Health Records',\n",
              " 'Aerospace',\n",
              " 'Incubators',\n",
              " 'Social Bookmarking',\n",
              " 'Business Analytics',\n",
              " 'Celebrity',\n",
              " 'Artists Globally',\n",
              " 'Social Media Advertising',\n",
              " 'Portals',\n",
              " 'Computer Vision',\n",
              " 'Video Chat',\n",
              " 'Diagnostics',\n",
              " 'World Domination',\n",
              " 'Nightlife',\n",
              " 'Non Profit',\n",
              " 'Credit',\n",
              " 'IT Management',\n",
              " 'Health and Insurance',\n",
              " 'Fantasy Sports',\n",
              " 'Mobile Social',\n",
              " 'Utilities',\n",
              " 'Polling',\n",
              " 'Toys',\n",
              " 'Commercial Real Estate',\n",
              " 'Mobile Video',\n",
              " 'Nutrition',\n",
              " 'Cosmetics',\n",
              " 'Knowledge Management',\n",
              " 'Content Discovery',\n",
              " 'Systems',\n",
              " 'Physicians',\n",
              " 'Interest Graph',\n",
              " 'Guides',\n",
              " 'Forums',\n",
              " 'Energy Management',\n",
              " 'Shoes',\n",
              " 'Music Services',\n",
              " 'Freemium',\n",
              " 'Smart Grid',\n",
              " 'Video Conferencing',\n",
              " 'Leisure',\n",
              " 'Communications Hardware',\n",
              " 'Social Media Management',\n",
              " 'Tech Field Support',\n",
              " 'Product Development Services',\n",
              " 'Lighting',\n",
              " 'Communications Infrastructure',\n",
              " 'Content Syndication',\n",
              " 'Social Travel',\n",
              " 'MicroBlogging',\n",
              " 'RFID',\n",
              " 'Professional Networking',\n",
              " 'Cyber Security',\n",
              " 'Social',\n",
              " 'Soccer',\n",
              " 'Local Advertising',\n",
              " 'Advice',\n",
              " 'Advertising Networks',\n",
              " 'Social Business',\n",
              " 'Water',\n",
              " 'Algorithms',\n",
              " 'Comparison Shopping',\n",
              " 'IT and Cybersecurity',\n",
              " 'Sales Automation',\n",
              " 'iPod Touch',\n",
              " 'Mass Customization',\n",
              " 'P2P Money Transfer',\n",
              " 'Fraud Detection',\n",
              " 'Cooking',\n",
              " 'Emerging Markets',\n",
              " 'Displays',\n",
              " 'Auto',\n",
              " 'Exercise',\n",
              " 'Internet TV',\n",
              " 'Product Design',\n",
              " 'Social Media Platforms',\n",
              " 'Geospatial',\n",
              " 'DIY',\n",
              " 'Performance Marketing',\n",
              " 'Online Video Advertising',\n",
              " 'Babies',\n",
              " 'Oil & Gas',\n",
              " 'Wholesale',\n",
              " 'Gadget',\n",
              " 'Clinical Trials',\n",
              " 'Groceries',\n",
              " 'Recipes',\n",
              " 'Architecture',\n",
              " 'Synchronization',\n",
              " 'Digital Signage',\n",
              " '3D Printing',\n",
              " 'Interface Design',\n",
              " 'Adventure Travel',\n",
              " 'Law Enforcement',\n",
              " 'Humanitarian',\n",
              " 'All Markets',\n",
              " 'Dental',\n",
              " 'Domains',\n",
              " 'Enterprise Search',\n",
              " 'Home Renovation',\n",
              " 'Mobile Shopping',\n",
              " 'Governments',\n",
              " 'Staffing Firms',\n",
              " 'Educational Games',\n",
              " 'Oil',\n",
              " 'Diabetes',\n",
              " 'Bridging Online and Offline',\n",
              " 'Licensing',\n",
              " 'Craft Beer',\n",
              " 'Rental Housing',\n",
              " 'E-Books',\n",
              " 'Nightclubs',\n",
              " 'Organic Food',\n",
              " 'FreetoPlay Gaming',\n",
              " 'Telephony',\n",
              " 'Unifed Communications',\n",
              " 'Entertainment Industry',\n",
              " 'Batteries',\n",
              " 'Video Editing',\n",
              " 'Homeland Security',\n",
              " 'Organic',\n",
              " 'Proximity Internet',\n",
              " 'Windows Phone 7',\n",
              " 'Employer Benefits Programs',\n",
              " 'Digital Entertainment',\n",
              " 'Corporate Training',\n",
              " 'Mobile Enterprise',\n",
              " 'Defense',\n",
              " 'Mobile Analytics',\n",
              " 'Match-Making',\n",
              " 'Intellectual Property',\n",
              " 'Fleet Management',\n",
              " '3D Technology',\n",
              " 'Intellectual Asset Management',\n",
              " 'Contests',\n",
              " 'Visual Search',\n",
              " 'Enterprise 2.0',\n",
              " 'Trusted Networks',\n",
              " 'Business Productivity',\n",
              " 'Embedded Hardware and Software',\n",
              " 'Virtual Goods',\n",
              " 'Neuroscience',\n",
              " 'Office Space',\n",
              " 'Digital Rights Management',\n",
              " 'Web Browsers',\n",
              " 'Outdoors',\n",
              " 'Mobile Coupons',\n",
              " 'Lead Management',\n",
              " 'Linux',\n",
              " 'Procurement',\n",
              " 'Brokers',\n",
              " 'Text Analytics',\n",
              " 'Social Fundraising',\n",
              " 'Photo Editing',\n",
              " 'Biometrics',\n",
              " 'College Campuses',\n",
              " 'Innovation Management',\n",
              " 'Collectibles',\n",
              " 'Internet Radio Market',\n",
              " 'Archiving',\n",
              " 'Postal and Courier Services',\n",
              " 'Google Apps',\n",
              " 'Charter Schools',\n",
              " 'Transaction Processing',\n",
              " 'Natural Resources',\n",
              " 'Home Decor',\n",
              " 'Gas',\n",
              " 'Parking',\n",
              " 'Drones',\n",
              " 'Industrial',\n",
              " 'Coffee',\n",
              " 'Mobile Emergency&Health',\n",
              " 'Innovation Engineering',\n",
              " 'Music Venues',\n",
              " 'SNS',\n",
              " 'New Product Development',\n",
              " 'Vertical Search',\n",
              " 'Usability',\n",
              " 'Farming',\n",
              " 'Content Creators',\n",
              " 'Film Production',\n",
              " 'Chemicals',\n",
              " 'Sporting Goods',\n",
              " 'Human Computer Interaction',\n",
              " 'Writers',\n",
              " 'Speech Recognition',\n",
              " 'Teenagers',\n",
              " 'Kinect',\n",
              " 'Families',\n",
              " 'Certification Test',\n",
              " 'Real Estate Investors',\n",
              " 'Offline Businesses',\n",
              " 'Bio-Pharm',\n",
              " 'Virtual Workforces',\n",
              " 'CAD',\n",
              " 'Interior Design',\n",
              " 'Mac',\n",
              " 'Designers',\n",
              " 'Application Performance Monitoring',\n",
              " 'Contact Centers',\n",
              " 'Email Newsletters',\n",
              " 'DOD/Military',\n",
              " 'Medical Professionals',\n",
              " 'Sponsorship',\n",
              " 'English-Speaking',\n",
              " 'Smart Building',\n",
              " 'Electrical Distribution',\n",
              " 'Franchises',\n",
              " 'University Students',\n",
              " 'Internet Service Providers',\n",
              " 'Angels',\n",
              " 'Wealth Management',\n",
              " 'Cyber',\n",
              " 'Corporate Wellness',\n",
              " 'Health Services Industry',\n",
              " 'Rapidly Expanding',\n",
              " 'Web Presence Management',\n",
              " 'Engineering Firms',\n",
              " 'Material Science',\n",
              " 'Specialty Retail',\n",
              " 'Craigslist Killers',\n",
              " 'Consumer Behavior',\n",
              " 'Oil and Gas',\n",
              " 'Simulation',\n",
              " 'Q&A',\n",
              " 'Advertising Exchanges',\n",
              " 'Industrial Automation',\n",
              " 'Realtors',\n",
              " 'Indoor Positioning',\n",
              " 'Creative Industries',\n",
              " 'Carbon',\n",
              " 'Local Coupons',\n",
              " 'Consumer Lending',\n",
              " 'Hedge Funds',\n",
              " 'Cloud-Based Music',\n",
              " 'Water Purification',\n",
              " 'New Technologies',\n",
              " 'Comics',\n",
              " 'Online Identity',\n",
              " 'Demographies',\n",
              " 'Mining Technologies',\n",
              " 'Active Lifestyle',\n",
              " 'Spas',\n",
              " 'Senior Citizens',\n",
              " 'Software Compliance',\n",
              " 'Game Mechanics',\n",
              " 'Test and Measurement',\n",
              " 'Estimation and Quoting',\n",
              " 'Theatre',\n",
              " 'Residential Solar',\n",
              " 'Financial Exchanges',\n",
              " 'Handmade',\n",
              " 'High Tech',\n",
              " 'Flowers',\n",
              " 'Bicycles',\n",
              " 'Mens Specific',\n",
              " 'College Recruiting',\n",
              " 'Alumni',\n",
              " 'ICT',\n",
              " 'Government Innovation',\n",
              " 'Self Development',\n",
              " 'Direct Sales',\n",
              " 'Public Safety',\n",
              " 'Cable',\n",
              " 'Social Innovation',\n",
              " 'Business Information Systems',\n",
              " 'Electric Vehicles',\n",
              " 'Wind',\n",
              " 'Gold',\n",
              " 'Textiles',\n",
              " 'Enterprise Security',\n",
              " 'Enterprise Resource Planning',\n",
              " 'Taxis',\n",
              " 'Elder Care',\n",
              " 'Commodities',\n",
              " 'Shared Services',\n",
              " 'Social News',\n",
              " 'Advanced Materials',\n",
              " 'Enterprise Application',\n",
              " 'Insurance Companies',\n",
              " 'Energy IT',\n",
              " 'Religion',\n",
              " 'Lasers',\n",
              " 'RIM',\n",
              " 'Data Center Infrastructure',\n",
              " 'Limousines',\n",
              " 'Online Auctions',\n",
              " 'Lingerie',\n",
              " 'Automated Kiosk',\n",
              " 'Genetic Testing',\n",
              " 'EBooks',\n",
              " 'Mobile Infrastructure',\n",
              " 'WebOS',\n",
              " 'Corporate IT',\n",
              " 'Plumbers',\n",
              " 'Recreation',\n",
              " 'Commercial Solar',\n",
              " 'Fuels',\n",
              " 'Infrastructure Builders',\n",
              " 'Lifestyle Products',\n",
              " 'Quantified Self',\n",
              " 'Ventures for Good',\n",
              " 'Product Search',\n",
              " 'Distributors',\n",
              " 'Intelligent Systems',\n",
              " 'Heavy Industry',\n",
              " 'Waste Management',\n",
              " 'Young Adults',\n",
              " 'Registrars',\n",
              " 'Internet Infrastructure',\n",
              " 'Independent Music Labels',\n",
              " 'Spam Filtering',\n",
              " 'Minerals',\n",
              " 'In-Flight Entertainment',\n",
              " 'Mechanical Solutions',\n",
              " 'Bioinformatics',\n",
              " 'Local Commerce',\n",
              " 'Medication Adherence',\n",
              " 'PC Gaming',\n",
              " 'Personal Branding',\n",
              " 'Coworking',\n",
              " 'General Public Worldwide',\n",
              " 'Senior Health',\n",
              " 'Sunglasses',\n",
              " 'Deep Information Technology',\n",
              " 'Resorts',\n",
              " 'Call Center Automation',\n",
              " 'Animal Feed',\n",
              " 'Human Resource Automation',\n",
              " 'Console Gaming',\n",
              " 'Eyewear',\n",
              " 'Cosmetic Surgery',\n",
              " 'Gift Registries',\n",
              " 'Film Distribution',\n",
              " 'Dietary Supplements',\n",
              " 'Enterprise Hardware',\n",
              " 'Green Consumer Goods',\n",
              " 'Industrial Energy Efficiency',\n",
              " 'Custom Retail',\n",
              " 'Multi-level Marketing',\n",
              " 'Personal Data',\n",
              " 'Field Support Services',\n",
              " 'Internet Technology',\n",
              " 'Music Education',\n",
              " 'Child Care',\n",
              " 'Group SMS',\n",
              " 'Logistics Company',\n",
              " 'Brewing',\n",
              " 'Social Media Agent',\n",
              " 'Building Products',\n",
              " 'Data Center Automation',\n",
              " 'Outdoor Advertising',\n",
              " 'Sex',\n",
              " 'Energy Storage',\n",
              " 'Semiconductor Manufacturing Equipment',\n",
              " 'Racing',\n",
              " 'Baby Accessories',\n",
              " 'Video Processing',\n",
              " 'Farmers Market',\n",
              " 'Physical Security',\n",
              " 'App Discovery',\n",
              " 'Rehabilitation',\n",
              " 'Enterprise Purchasing',\n",
              " 'Social Investing',\n",
              " 'TV Production',\n",
              " 'Diving',\n",
              " 'Civil Engineers',\n",
              " 'Specialty Chemicals',\n",
              " 'Space Travel',\n",
              " 'Assisitive Technology',\n",
              " 'Alternative Medicine',\n",
              " 'Home Owners',\n",
              " 'Veterinary',\n",
              " 'BPO Services',\n",
              " 'Retirement',\n",
              " 'Moneymaking',\n",
              " 'Tea',\n",
              " 'Data Privacy',\n",
              " 'Motion Capture',\n",
              " 'Musicians',\n",
              " 'Impact Investing',\n",
              " 'Surfing Community',\n",
              " 'Niche Specific',\n",
              " 'Cause Marketing',\n",
              " 'Twin-Tip Skis',\n",
              " 'Gift Exchange',\n",
              " 'EDA Tools',\n",
              " 'Early-Stage Technology',\n",
              " 'Face Recognition',\n",
              " 'Performing Arts',\n",
              " 'Remediation',\n",
              " 'Boating Industry',\n",
              " 'Radical Breakthrough Startups',\n",
              " 'Utility Land Vehicles',\n",
              " 'Debt Collecting',\n",
              " 'Lotteries',\n",
              " 'Service Industries',\n",
              " 'Medical Marijuana Patients',\n",
              " 'Underserved Children',\n",
              " 'Social Opinion Platform',\n",
              " 'Mobile Search',\n",
              " 'Temporary Staffing',\n",
              " 'Private School',\n",
              " 'Green Building',\n",
              " 'Assisted Living',\n",
              " 'Renewable Tech',\n",
              " 'Pervasive Computing',\n",
              " 'Sailing Community',\n",
              " 'Golf Equipment',\n",
              " 'China Internet',\n",
              " 'Technical Continuing Education',\n",
              " 'B2B Express Delivery',\n",
              " 'Rural Energy',\n",
              " 'Baby Boomers',\n",
              " 'Swimming',\n",
              " 'Skate Wear',\n",
              " 'Optical Communications',\n",
              " 'Video Game Tournaments',\n",
              " 'Disruptive Models',\n",
              " 'Google Glass',\n",
              " 'Vending and Concessions',\n",
              " 'Fmcg',\n",
              " 'Homeless Shelter',\n",
              " 'Operating Systems',\n",
              " 'Nutraceutical',\n",
              " 'Casual Games',\n",
              " 'Edutainment',\n",
              " 'Funeral Industry',\n",
              " 'Aquaculture',\n",
              " 'Quantitative Marketing',\n",
              " 'Motors',\n",
              " 'Guide to Nightlife',\n",
              " 'Hip Hop',\n",
              " 'Reading Apps',\n",
              " 'Bananas',\n",
              " 'Lifestyle Businesses',\n",
              " 'Clean Technology IT',\n",
              " 'Business Travelers',\n",
              " 'Charities',\n",
              " 'Natural Gas Uses',\n",
              " 'Group Email',\n",
              " 'Green Advertising',\n",
              " 'Experience Design',\n",
              " 'Skill Gaming',\n",
              " 'Pre Seed',\n",
              " 'Content Summarization',\n",
              " 'Landsacping',\n",
              " 'Labor Optimization',\n",
              " 'UHB LEDs',\n",
              " 'Biofuels',\n",
              " 'Biotechnology and Semiconductor',\n",
              " 'Generation Y-Z',\n",
              " 'English Speaking World',\n",
              " 'Invention',\n",
              " 'Mob',\n",
              " 'Synthetic Biology',\n",
              " 'Indians',\n",
              " 'English Speaking Caribbean',\n",
              " 'Virtual Desktop',\n",
              " 'Social Activists',\n",
              " 'Weird Hardware',\n",
              " 'Self Storage',\n",
              " 'Outsourci',\n",
              " 'Musical Instruments',\n",
              " 'Building Owners',\n",
              " 'Salesforce Killers',\n",
              " 'Tobacco',\n",
              " 'Sports Stadiums',\n",
              " 'Serious Games',\n",
              " 'Distributed Generation',\n",
              " 'UV LEDs',\n",
              " 'Direct Advertising',\n",
              " 'Shipping Broker Industry',\n",
              " 'Low Bid Auctions',\n",
              " 'Enterprise Softw',\n",
              " 'Governance',\n",
              " 'Mobile Analyt',\n",
              " 'Wire',\n",
              " 'Unmanned Air Systems',\n",
              " 'Early Stage IT',\n",
              " 'Timeshares',\n",
              " 'Biomass Power Generation',\n",
              " 'Hunting Industry',\n",
              " 'South East Asia',\n",
              " 'Real']"
            ]
          },
          "execution_count": 68,
          "metadata": {
            "tags": []
          },
          "output_type": "execute_result"
        }
      ],
      "source": [
        "wordvector_catwoo = cv_model.vocabulary\n",
        "wordvector_catwoo"
      ]
    },
    {
      "cell_type": "code",
      "execution_count": null,
      "metadata": {
        "id": "WRyhqGOrD88K"
      },
      "outputs": [],
      "source": [
        "# add categories to index\n",
        "kmeancate_words = add_category_words(kmeancate)"
      ]
    },
    {
      "cell_type": "code",
      "execution_count": null,
      "metadata": {
        "id": "UuokzELNEAK_"
      },
      "outputs": [],
      "source": [
        "#create final representative category value for each cluster\n",
        "final = create_final_category(kmeancate_words)"
      ]
    },
    {
      "cell_type": "code",
      "execution_count": null,
      "metadata": {
        "colab": {
          "base_uri": "https://localhost:8080/",
          "height": 33
        },
        "id": "MIuoV3A1ELgq",
        "outputId": "c1f9810e-5703-47b5-b06f-c47c7d8a38e9"
      },
      "outputs": [
        {
          "data": {
            "text/plain": [
              "DataFrame[category_final: string, count: bigint]"
            ]
          },
          "metadata": {
            "tags": []
          },
          "output_type": "display_data"
        }
      ],
      "source": [
        "display(\n",
        "  final.\\\n",
        "  groupby(\"category_final\").\\\n",
        "  agg(fn.count(\"category_final\").alias(\"count\")).\\\n",
        "  filter(col(\"count\") > 1).\\\n",
        "  sort(col(\"count\").desc())\n",
        ")"
      ]
    },
    {
      "cell_type": "code",
      "execution_count": null,
      "metadata": {
        "colab": {
          "base_uri": "https://localhost:8080/"
        },
        "id": "mGFvLN-NEOw0",
        "outputId": "b2f356e8-d77d-4513-ed04-7acb7c320a5a"
      },
      "outputs": [
        {
          "data": {
            "text/plain": [
              "3"
            ]
          },
          "execution_count": 72,
          "metadata": {
            "tags": []
          },
          "output_type": "execute_result"
        }
      ],
      "source": [
        "#get number of unique categories\n",
        "final.select(\"category_final\").distinct().count()"
      ]
    },
    {
      "cell_type": "markdown",
      "metadata": {
        "id": "oWh8JootEUcl"
      },
      "source": [
        "check if companies are unique"
      ]
    },
    {
      "cell_type": "code",
      "execution_count": null,
      "metadata": {
        "colab": {
          "base_uri": "https://localhost:8080/",
          "height": 33
        },
        "id": "WKEqTe6PERFt",
        "outputId": "2aebc647-eb0f-412c-e9f0-f056691240de"
      },
      "outputs": [
        {
          "data": {
            "text/plain": [
              "DataFrame[permalink: string, count(permalink): bigint]"
            ]
          },
          "metadata": {
            "tags": []
          },
          "output_type": "display_data"
        }
      ],
      "source": [
        "#look for permalinks that occur twice \n",
        "display(dfcom.select(\"permalink\").groupBy(\"permalink\").agg(fn.count(\"permalink\")).where(fn.count(\"permalink\") == 2))"
      ]
    },
    {
      "cell_type": "code",
      "execution_count": null,
      "metadata": {
        "colab": {
          "base_uri": "https://localhost:8080/",
          "height": 53
        },
        "id": "zBvLPODSElHV",
        "outputId": "6c33ab12-6a6f-41a3-ff38-bdf94c2307a4"
      },
      "outputs": [
        {
          "data": {
            "text/plain": [
              "DataFrame[permalink: string, name: string, homepage_url: string, category_list: string, market: string, funding_total_usd: string, status: string, country_code: string, state_code: string, region: string, city: string, funding_rounds: string, founded_at: string, founded_month: string, founded_quarter: string, founded_year: string, first_funding_at: string, last_funding_at: string]"
            ]
          },
          "metadata": {
            "tags": []
          },
          "output_type": "display_data"
        }
      ],
      "source": [
        "#investigate duplicates\n",
        "display(dfcom.filter((col(\"permalink\") == \"/organization/prysm\")|(col(\"permalink\") == \"/organization/treasure-valley-urology-services\")))"
      ]
    },
    {
      "cell_type": "markdown",
      "metadata": {
        "id": "9wjMvXOCErag"
      },
      "source": [
        "remove duplicates with less information"
      ]
    },
    {
      "cell_type": "code",
      "execution_count": null,
      "metadata": {
        "id": "zB9okZe8Eobt"
      },
      "outputs": [],
      "source": [
        "#select observation with less information of duplicate 1\n",
        "dfcomsubtr1 = dfcom.filter((col(\"permalink\") == \"/organization/prysm\") & ((col(\"permalink\") == \"/organization/prysm\") & (col(\"funding_rounds\") == 1)))"
      ]
    },
    {
      "cell_type": "code",
      "execution_count": null,
      "metadata": {
        "id": "06pxYi-HEyR1"
      },
      "outputs": [],
      "source": [
        "#select observation with less information of duplicate 2\n",
        "dfcomsubtr2 = dfcom.filter((col(\"permalink\") == \"/organization/treasure-valley-urology-services\") & ((col(\"permalink\") == \"/organization/treasure-valley-urology-services\") & (col(\"funding_rounds\") == 1)))"
      ]
    },
    {
      "cell_type": "code",
      "execution_count": null,
      "metadata": {
        "id": "oZ8-9EXIE2Ui"
      },
      "outputs": [],
      "source": [
        "#get rid of duplicates (deprecated entries)\n",
        "dfcom = dfcom.subtract(dfcomsubtr1).subtract(dfcomsubtr2)"
      ]
    },
    {
      "cell_type": "code",
      "execution_count": null,
      "metadata": {
        "colab": {
          "base_uri": "https://localhost:8080/",
          "height": 33
        },
        "id": "m25iTfDWE5SK",
        "outputId": "3c3cd5d8-e78a-4c2b-bc6d-d03a48e001d4"
      },
      "outputs": [
        {
          "data": {
            "text/plain": [
              "DataFrame[permalink: string, count(permalink): bigint]"
            ]
          },
          "metadata": {
            "tags": []
          },
          "output_type": "display_data"
        }
      ],
      "source": [
        "#double check if preparation worked out\n",
        "display(dfcom.select(\"permalink\").groupBy(\"permalink\").agg(fn.count(\"permalink\")).sort(\"count(permalink)\", ascending=False))"
      ]
    },
    {
      "cell_type": "markdown",
      "metadata": {
        "id": "CEL3tcZZE_4y"
      },
      "source": [
        "define calculations for aggregation when joining the spreadsheets"
      ]
    },
    {
      "cell_type": "code",
      "execution_count": null,
      "metadata": {
        "id": "Yw3O04gpE8r9"
      },
      "outputs": [],
      "source": [
        "#calculate the age of a company based on year of founding, the appropriate quarter and 2015, which is the date when the data set was created\n",
        "age_calc = fn.when(col(\"quarter_new\") == \"Q2\", 2015 - col(\"founded_year\") - 0.25).\\\n",
        "  otherwise(fn.when(col(\"quarter_new\") == \"Q3\", 2015 - col(\"founded_year\") - 0.5).\\\n",
        "            otherwise(fn.when(col(\"quarter_new\") == \"Q4\", 2015 - col(\"founded_year\") - 0.75).\\\n",
        "                      otherwise(2015 - col(\"founded_year\"))))"
      ]
    },
    {
      "cell_type": "code",
      "execution_count": null,
      "metadata": {
        "id": "yijS3ZJbFKdP"
      },
      "outputs": [],
      "source": [
        "#calculate the time to funding of a company based on date of funding and date of data set creation \n",
        "time_to_funding_calc = fn.when(col(\"funded_quarter_new\") == \"Q2\", col(\"funded_year\") + 0.25 - (2015 - col(\"age\"))).\\\n",
        "  otherwise(fn.when(col(\"funded_quarter_new\") == \"Q3\", col(\"funded_year\") + 0.5 - (2015 - col(\"age\"))).\\\n",
        "            otherwise(fn.when(col(\"funded_quarter_new\") == \"Q4\", col(\"funded_year\") + 0.75 - (2015 - col(\"age\"))).\\\n",
        "                      otherwise(col(\"funded_year\") - (2015 - col(\"age\")))))"
      ]
    },
    {
      "cell_type": "markdown",
      "metadata": {
        "id": "yIhhP0dbGGP6"
      },
      "source": [
        "define subsets before joining"
      ]
    },
    {
      "cell_type": "code",
      "execution_count": null,
      "metadata": {
        "id": "OzIElMTlGDcr"
      },
      "outputs": [],
      "source": [
        "#select subsets before joining to exclude information/observations which will not be used\n",
        "dfcomsub = dfcom.\\\n",
        "  withColumn(\"quarter_new\", col(\"founded_quarter\").substr(6,2)).\\\n",
        "  withColumn(\"age\", age_calc).\\\n",
        "  select(\"permalink\", \"name\", \"market\", \"funding_total_usd\", \"status\", \"country_code\", \"city\", \"funding_rounds\", \"founded_year\", \"quarter_new\",\"age\")\n",
        "\n",
        "dfinvsub = dfinv.\\\n",
        "  withColumn(\"funded_quarter_new\", col(\"funded_quarter\").substr(6,2)).\\\n",
        "  select(\"company_permalink\", \"investor_permalink\", \"investor_name\", \"investor_country_code\", \"funding_round_type\", \"funded_quarter_new\", \"funded_year\", \"raised_amount_usd\")"
      ]
    },
    {
      "cell_type": "markdown",
      "metadata": {
        "id": "u58zokLjGL-s"
      },
      "source": [
        "join companies and investments data"
      ]
    },
    {
      "cell_type": "code",
      "execution_count": null,
      "metadata": {
        "id": "SFL1P3erGNES"
      },
      "outputs": [],
      "source": [
        "#multiple rows in dfinv for each permalink\n",
        "dfmaster = dfcomsub.join(dfinvsub, dfcomsub[\"permalink\"] == dfinvsub[\"company_permalink\"], 'leftouter')\n",
        "dfmaster2 = dfmaster.\\\n",
        "  withColumn(\"time_to_funding\", time_to_funding_calc)"
      ]
    },
    {
      "cell_type": "markdown",
      "metadata": {
        "id": "YyPSiZZaGZIg"
      },
      "source": [
        "aggregate multiple entries for each company"
      ]
    },
    {
      "cell_type": "code",
      "execution_count": null,
      "metadata": {
        "id": "oZP1jgr3GfsD"
      },
      "outputs": [],
      "source": [
        "dfmaster2_agg = dfmaster2.\\\n",
        "  groupby(col(\"permalink\").alias(\"permalink_agg\")).\\\n",
        "  agg(fn.count(\"investor_permalink\").alias(\"count_investor\"),\n",
        "      fn.min(\"time_to_funding\").alias(\"time_to_first_funding\"),\n",
        "      fn.concat_ws(\", \", fn.collect_list(col(\"investor_country_code\"))).alias(\"investor_country_codes\"),\n",
        "      fn.concat_ws(\", \", fn.collect_list(col(\"funding_round_type\"))).alias(\"funding_round_types\"),\n",
        "      fn.sum(\"raised_amount_usd\").alias(\"total_raised_usd\"))"
      ]
    },
    {
      "cell_type": "code",
      "execution_count": null,
      "metadata": {
        "colab": {
          "base_uri": "https://localhost:8080/"
        },
        "id": "RcDzVRcwGkQy",
        "outputId": "4ad598a9-a738-4f83-bc26-4ae4aae94d94"
      },
      "outputs": [
        {
          "data": {
            "text/plain": [
              "49437"
            ]
          },
          "execution_count": 84,
          "metadata": {
            "tags": []
          },
          "output_type": "execute_result"
        }
      ],
      "source": [
        "dfmaster2_agg.count()"
      ]
    },
    {
      "cell_type": "markdown",
      "metadata": {
        "id": "Qko6WeERGq-O"
      },
      "source": [
        "join aggregated values to companies subset dataframe"
      ]
    },
    {
      "cell_type": "code",
      "execution_count": null,
      "metadata": {
        "id": "9jxozE_uGogv"
      },
      "outputs": [],
      "source": [
        "dfmaster_final = dfcomsub.join(dfmaster2_agg, dfcomsub[\"permalink\"] == dfmaster2_agg[\"permalink_agg\"], 'leftouter')"
      ]
    },
    {
      "cell_type": "code",
      "execution_count": null,
      "metadata": {
        "colab": {
          "base_uri": "https://localhost:8080/",
          "height": 53
        },
        "id": "IHuNl-qxG2Y0",
        "outputId": "1f847a0c-bc74-41eb-cd96-ffcc5c92db56"
      },
      "outputs": [
        {
          "data": {
            "text/plain": [
              "DataFrame[permalink: string, name: string, market: string, funding_total_usd: string, status: string, country_code: string, city: string, funding_rounds: string, founded_year: string, quarter_new: string, age: double, permalink_agg: string, count_investor: bigint, time_to_first_funding: double, investor_country_codes: string, funding_round_types: string, total_raised_usd: double]"
            ]
          },
          "metadata": {
            "tags": []
          },
          "output_type": "display_data"
        }
      ],
      "source": [
        "display(dfmaster_final)"
      ]
    },
    {
      "cell_type": "code",
      "execution_count": null,
      "metadata": {
        "colab": {
          "base_uri": "https://localhost:8080/"
        },
        "id": "3qSr3RPjG7bz",
        "outputId": "856479c3-d89f-4c9f-97c7-28f9f6525624"
      },
      "outputs": [
        {
          "data": {
            "text/plain": [
              "49437"
            ]
          },
          "execution_count": 87,
          "metadata": {
            "tags": []
          },
          "output_type": "execute_result"
        }
      ],
      "source": [
        "dfmaster_final.count()"
      ]
    },
    {
      "cell_type": "code",
      "execution_count": null,
      "metadata": {
        "colab": {
          "base_uri": "https://localhost:8080/",
          "height": 53
        },
        "id": "2dcsVWRIG9wB",
        "outputId": "a8bb3a06-28e9-4f8e-e854-19b03007a351"
      },
      "outputs": [
        {
          "data": {
            "text/plain": [
              "DataFrame[permalink: string, name: string, market: string, funding_total_usd: string, status: string, country_code: string, city: string, funding_rounds: string, founded_year: string, quarter_new: string, age: double, company_permalink: string, investor_permalink: string, investor_name: string, investor_country_code: string, funding_round_type: string, funded_quarter_new: string, funded_year: string, raised_amount_usd: string]"
            ]
          },
          "metadata": {
            "tags": []
          },
          "output_type": "display_data"
        }
      ],
      "source": [
        "#examination of observations with target variable acquired\n",
        "display(dfmaster.where(col(\"status\") == \"acquired\"))"
      ]
    },
    {
      "cell_type": "code",
      "execution_count": null,
      "metadata": {
        "id": "_PgkICi3HED4"
      },
      "outputs": [],
      "source": [
        "#drop column which exists twice with different name\n",
        "dfmaster3 = dfmaster2.drop(\"company_permalink\")"
      ]
    },
    {
      "cell_type": "markdown",
      "metadata": {
        "id": "1iAlX5dvHVHF"
      },
      "source": [
        "investigate quarter of founding and funds"
      ]
    },
    {
      "cell_type": "code",
      "execution_count": null,
      "metadata": {
        "id": "K4eOwnklHIyd"
      },
      "outputs": [],
      "source": [
        "#summarize raised amount of USD for each quarter\n",
        "investperquarter = dfmaster3.\\\n",
        "select(\"quarter_new\", \"raised_amount_usd\").\\\n",
        "groupby(\"quarter_new\").\\\n",
        "agg(fn.sum(\"raised_amount_usd\")).\\\n",
        "sort(\"quarter_new\")"
      ]
    },
    {
      "cell_type": "code",
      "execution_count": null,
      "metadata": {
        "id": "K8rqn4_UHcmx"
      },
      "outputs": [],
      "source": [
        "investperquarternona = investperquarter.na.drop()"
      ]
    },
    {
      "cell_type": "code",
      "execution_count": null,
      "metadata": {
        "colab": {
          "base_uri": "https://localhost:8080/",
          "height": 33
        },
        "id": "hqV8vfP_Hfft",
        "outputId": "0147478a-ebdd-4a5d-9c9a-fd9b04243327"
      },
      "outputs": [
        {
          "data": {
            "text/plain": [
              "DataFrame[quarter_new: string, sum(raised_amount_usd): double]"
            ]
          },
          "metadata": {
            "tags": []
          },
          "output_type": "display_data"
        }
      ],
      "source": [
        "#companies which were founded in quarter 1 tend to get more funds than others\n",
        "display(investperquarternona)"
      ]
    },
    {
      "cell_type": "markdown",
      "metadata": {
        "id": "7pqQXKzwHl_l"
      },
      "source": [
        "join custom category column to dataframe of companies and investments data"
      ]
    },
    {
      "cell_type": "code",
      "execution_count": null,
      "metadata": {
        "id": "Oq7CmpxeHiSS"
      },
      "outputs": [],
      "source": [
        "#select permalink, category and kmeans_feat\n",
        "df_join1 = df_catid_kmeans.\\\n",
        "  select(\"permalink\", \"category\", \"kmeans_feat\")"
      ]
    },
    {
      "cell_type": "code",
      "execution_count": null,
      "metadata": {
        "id": "VpOUv5mqH0hO"
      },
      "outputs": [],
      "source": [
        "#join to final custom category df\n",
        "df_final_permas = df_join1.join(final, df_join1[\"kmeans_feat\"] == final[\"kmean_feat\"], 'leftouter')"
      ]
    },
    {
      "cell_type": "code",
      "execution_count": null,
      "metadata": {
        "colab": {
          "base_uri": "https://localhost:8080/",
          "height": 33
        },
        "id": "kHUBaLTDH33Y",
        "outputId": "2d9fff32-d918-4322-b8a8-ed17a33aa813"
      },
      "outputs": [
        {
          "data": {
            "text/plain": [
              "DataFrame[permalink: string, category: array<string>, kmeans_feat: int, category_final: string, kmean_feat: double]"
            ]
          },
          "metadata": {
            "tags": []
          },
          "output_type": "display_data"
        }
      ],
      "source": [
        "display(df_final_permas)"
      ]
    },
    {
      "cell_type": "code",
      "execution_count": null,
      "metadata": {
        "id": "8FAG2QmzICtL"
      },
      "outputs": [],
      "source": [
        "#select subset and rename permalink column to ensure unique column names\n",
        "df_final_permas_sub = df_final_permas.\\\n",
        "  select(col(\"permalink\").alias(\"permalink_sub\"),\"category_final\")"
      ]
    },
    {
      "cell_type": "code",
      "execution_count": null,
      "metadata": {
        "id": "5oleZ9XPIFmI"
      },
      "outputs": [],
      "source": [
        "#join custom categories to master df which is the one resulting from joining companies and investment spreadsheet (inlcuding aggregation)\n",
        "df_master_final_cate = dfmaster_final.join(df_final_permas_sub, dfmaster_final[\"permalink\"] == df_final_permas_sub[\"permalink_sub\"], 'leftouter')"
      ]
    },
    {
      "cell_type": "code",
      "execution_count": null,
      "metadata": {
        "colab": {
          "base_uri": "https://localhost:8080/",
          "height": 53
        },
        "id": "6qWaNtavIIiZ",
        "outputId": "37f2d5e9-d64b-4e87-c866-eb2a4d91f81f"
      },
      "outputs": [
        {
          "data": {
            "text/plain": [
              "DataFrame[permalink: string, name: string, market: string, funding_total_usd: string, status: string, country_code: string, city: string, funding_rounds: string, founded_year: string, quarter_new: string, age: double, permalink_agg: string, count_investor: bigint, time_to_first_funding: double, investor_country_codes: string, funding_round_types: string, total_raised_usd: double, permalink_sub: string, category_final: string]"
            ]
          },
          "metadata": {
            "tags": []
          },
          "output_type": "display_data"
        }
      ],
      "source": [
        "display(df_master_final_cate)"
      ]
    },
    {
      "cell_type": "markdown",
      "metadata": {
        "id": "uwRoTUm4IMi_"
      },
      "source": [
        "get majority of investor_country_codes and funding_round_types to reduce complexity"
      ]
    },
    {
      "cell_type": "code",
      "execution_count": null,
      "metadata": {
        "id": "7hdt8fa6IPuI"
      },
      "outputs": [],
      "source": [
        "#select subset of appropriate columns\n",
        "dfmastermajority = df_master_final_cate.select(\"permalink\", \"investor_country_codes\", \"funding_round_types\")"
      ]
    },
    {
      "cell_type": "code",
      "execution_count": null,
      "metadata": {
        "id": "jxTYAdyAISyG"
      },
      "outputs": [],
      "source": [
        "#the blank strings have to get converted to NULL for further functions\n",
        "dfmajority = dfmastermajority.\\\n",
        "  withColumn(\"investor_country_codes\", blank_as_null(\"investor_country_codes\")).\\\n",
        "  withColumn(\"funding_round_types\", blank_as_null(\"funding_round_types\"))"
      ]
    },
    {
      "cell_type": "code",
      "execution_count": null,
      "metadata": {
        "id": "k9ET9UnPIiOi"
      },
      "outputs": [],
      "source": [
        "#write investor_country_codes string and funding_round_types strings that a separated by commas into a list\n",
        "majority = dfmajority.\\\n",
        "  withColumn(\"investor_country_codes\", split(col(\"investor_country_codes\"), \",\\s*\")).\\\n",
        "  withColumn(\"funding_round_types\", split(col(\"funding_round_types\"), \",\\s*\"))"
      ]
    },
    {
      "cell_type": "code",
      "execution_count": null,
      "metadata": {
        "id": "MfV_LhL1IlKb"
      },
      "outputs": [],
      "source": [
        "#dropping of rows with NULL values\n",
        "majoritydropinv = majority.select(\"permalink\",\"investor_country_codes\").na.drop()\n",
        "majoritydropround = majority.select(\"permalink\",\"funding_round_types\").na.drop()"
      ]
    },
    {
      "cell_type": "code",
      "execution_count": null,
      "metadata": {
        "id": "Op20XISoItdE"
      },
      "outputs": [],
      "source": [
        "# Counter vectorizing the investor_country_codes and funding_round_types feature in order to use the vector to calculate the majority count for each observation\n",
        "\n",
        "cv_inv = feature.CountVectorizer(inputCol='investor_country_codes', outputCol='tf')\n",
        "\n",
        "cv_round = feature.CountVectorizer(inputCol='funding_round_types', outputCol='tf')\n",
        "\n",
        "\n",
        "cv_inv_model = cv_inv.fit(majoritydropinv)\n",
        "df_cv_inv = cv_inv_model.transform(majoritydropinv)\n",
        "\n",
        "cv_round_model = cv_round.fit(majoritydropround)\n",
        "df_cv_round = cv_round_model.transform(majoritydropround)"
      ]
    },
    {
      "cell_type": "code",
      "execution_count": null,
      "metadata": {
        "id": "Aw_gfkHWI0xh"
      },
      "outputs": [],
      "source": [
        "#calculate the two highest counts of the investor_country_code for each company \n",
        "invtwo = two_highest_catpluscount(df_cv_inv)"
      ]
    },
    {
      "cell_type": "code",
      "execution_count": null,
      "metadata": {
        "id": "RJC_2AhvI3m1"
      },
      "outputs": [],
      "source": [
        "#assign the words of the counter vectorizer of the investor_country_codes\n",
        "inv_words = cv_inv_model.vocabulary"
      ]
    },
    {
      "cell_type": "code",
      "execution_count": null,
      "metadata": {
        "id": "DuT70O9uI5tx"
      },
      "outputs": [],
      "source": [
        "#assign the corresponding investor_country_codes to the counts for each company\n",
        "invplus_words = add_inv_words(invtwo)"
      ]
    },
    {
      "cell_type": "code",
      "execution_count": null,
      "metadata": {
        "id": "qbSNgnIlI8bj"
      },
      "outputs": [],
      "source": [
        "#calculate the two highest counts of the funding_round_types for each company \n",
        "roundtwo = two_highest_catpluscount(df_cv_round)"
      ]
    },
    {
      "cell_type": "code",
      "execution_count": null,
      "metadata": {
        "id": "p7_HGVIJI-on"
      },
      "outputs": [],
      "source": [
        "#assign the corresponding funding_round_types to the counts for each company\n",
        "round_words = cv_round_model.vocabulary"
      ]
    },
    {
      "cell_type": "code",
      "execution_count": null,
      "metadata": {
        "id": "0mAg8Eu5JAdt"
      },
      "outputs": [],
      "source": [
        "#assign the corresponding funding_round_types to the counts for each company\n",
        "roundpluswords = add_round_words(roundtwo)"
      ]
    },
    {
      "cell_type": "code",
      "execution_count": null,
      "metadata": {
        "id": "ZZLUQeFXJC-p"
      },
      "outputs": [],
      "source": [
        "#join the \"majority\" investor_country_codes to the master table\n",
        "masternew = df_master_final_cate.join(invplus_words.select(\"perma\",col(\"category\").alias(\"investor_country_code\")), df_master_final_cate[\"permalink\"] == invplus_words[\"perma\"], 'leftouter')"
      ]
    },
    {
      "cell_type": "code",
      "execution_count": null,
      "metadata": {
        "id": "quOelCflJGPB"
      },
      "outputs": [],
      "source": [
        "#selection in order to rename and for better joining\n",
        "roundpluswords = roundpluswords.select(col(\"perma\").alias(\"permaround\"),col(\"category\").alias(\"funding_round_type\"))"
      ]
    },
    {
      "cell_type": "code",
      "execution_count": null,
      "metadata": {
        "id": "BVb7EPBmJJDd"
      },
      "outputs": [],
      "source": [
        "#join the \"majority\" funding_round_types to the master table\n",
        "masternew = masternew.join(roundpluswords, masternew[\"permalink\"] == roundpluswords[\"permaround\"], 'leftouter')"
      ]
    },
    {
      "cell_type": "code",
      "execution_count": null,
      "metadata": {
        "colab": {
          "base_uri": "https://localhost:8080/",
          "height": 53
        },
        "id": "vo0MCWjpJwkH",
        "outputId": "217548ac-1c06-47c0-bca7-bf0c80cb75a6"
      },
      "outputs": [
        {
          "data": {
            "text/plain": [
              "DataFrame[permalink: string, name: string, market: string, funding_total_usd: string, status: string, country_code: string, city: string, funding_rounds: string, founded_year: string, quarter_new: string, age: double, permalink_agg: string, count_investor: bigint, time_to_first_funding: double, investor_country_codes: string, funding_round_types: string, total_raised_usd: double, permalink_sub: string, category_final: string, perma: string, investor_country_code: string, permaround: string, funding_round_type: string]"
            ]
          },
          "metadata": {
            "tags": []
          },
          "output_type": "display_data"
        }
      ],
      "source": [
        "display(masternew)"
      ]
    },
    {
      "cell_type": "markdown",
      "metadata": {
        "id": "YiA7rFcv7qFC"
      },
      "source": [
        "This dataframe \"masternew\" is imported in the modelling notebooks as \"master.csv\""
      ]
    },
    {
      "cell_type": "code",
      "execution_count": null,
      "metadata": {
        "id": "KIc6FVHEJ1nV"
      },
      "outputs": [],
      "source": [
        "#this dataframe was exported and then imported in another notebook \n",
        "#the entire project is split into two notebooks\n",
        "\n",
        "masterdropped = masternew.drop(\"funding_total_usd\", \"permalink_agg\", \"investor_country_codes\", \"funding_round_types\", \"permalink_sub\", \"perma\", \"permaround\")"
      ]
    },
    {
      "cell_type": "code",
      "execution_count": null,
      "metadata": {
        "colab": {
          "base_uri": "https://localhost:8080/"
        },
        "id": "1e1cENRMJ5Bh",
        "outputId": "8ea0cc65-b25c-4e9c-e796-cd582a3b7e44"
      },
      "outputs": [
        {
          "data": {
            "text/plain": [
              "49445"
            ]
          },
          "execution_count": 115,
          "metadata": {
            "tags": []
          },
          "output_type": "execute_result"
        }
      ],
      "source": [
        "masterdropped.count()"
      ]
    },
    {
      "cell_type": "code",
      "execution_count": null,
      "metadata": {
        "colab": {
          "base_uri": "https://localhost:8080/",
          "height": 53
        },
        "id": "C1ZFjaasKBHx",
        "outputId": "738516e5-c95a-4918-cb5e-e3f6523e9e5b"
      },
      "outputs": [
        {
          "data": {
            "text/plain": [
              "DataFrame[permalink: string, name: string, market: string, status: string, country_code: string, city: string, funding_rounds: string, founded_year: string, quarter_new: string, age: double, count_investor: bigint, time_to_first_funding: double, total_raised_usd: double, category_final: string, investor_country_code: string, funding_round_type: string]"
            ]
          },
          "metadata": {
            "tags": []
          },
          "output_type": "display_data"
        }
      ],
      "source": [
        "display(masterdropped)"
      ]
    },
    {
      "cell_type": "markdown",
      "metadata": {
        "id": "IY9Jd2YcKL95"
      },
      "source": [
        "create binary value for target variable"
      ]
    },
    {
      "cell_type": "code",
      "execution_count": null,
      "metadata": {
        "id": "FCBn3WrRKNEA"
      },
      "outputs": [],
      "source": [
        "#create new column with 1 or 0 depending on value of target variable: acquired = 1, otherwise 0\n",
        "finaltarget = masterdropped.\\\n",
        "  withColumn(\"label\", fn.when(col(\"status\") == \"acquired\",1).otherwise(0))"
      ]
    },
    {
      "cell_type": "code",
      "execution_count": null,
      "metadata": {
        "colab": {
          "base_uri": "https://localhost:8080/",
          "height": 53
        },
        "id": "2qJ7iNJhKQD_",
        "outputId": "90a6ff09-aecb-412e-b949-23bc1a5beed5"
      },
      "outputs": [
        {
          "data": {
            "text/plain": [
              "DataFrame[permalink: string, name: string, market: string, status: string, country_code: string, city: string, funding_rounds: string, founded_year: string, quarter_new: string, age: double, count_investor: bigint, time_to_first_funding: double, total_raised_usd: double, category_final: string, investor_country_code: string, funding_round_type: string, label: int]"
            ]
          },
          "metadata": {
            "tags": []
          },
          "output_type": "display_data"
        }
      ],
      "source": [
        "display(finaltarget)"
      ]
    },
    {
      "cell_type": "markdown",
      "metadata": {
        "id": "kwlLrK1lKWYK"
      },
      "source": [
        "drop missing values"
      ]
    },
    {
      "cell_type": "code",
      "execution_count": null,
      "metadata": {
        "id": "g1dQlypHKTTC"
      },
      "outputs": [],
      "source": [
        "#create subset of dataframe without missing values\n",
        "finalwithoutna = finaltarget.na.drop()"
      ]
    },
    {
      "cell_type": "markdown",
      "metadata": {
        "id": "Pc--Lu4fK4Pd"
      },
      "source": [
        "Understanding of final dataset without missing values"
      ]
    },
    {
      "cell_type": "code",
      "execution_count": null,
      "metadata": {
        "id": "EsZBZSkoK1Dp"
      },
      "outputs": [],
      "source": [
        "df = finalwithoutna"
      ]
    },
    {
      "cell_type": "code",
      "execution_count": null,
      "metadata": {
        "colab": {
          "base_uri": "https://localhost:8080/",
          "height": 33
        },
        "id": "Rbv8XMliLAeo",
        "outputId": "cf7d6270-e335-4a3b-d60e-b7449d89e2c0"
      },
      "outputs": [
        {
          "data": {
            "text/plain": [
              "DataFrame[status: string, count(status): bigint]"
            ]
          },
          "metadata": {
            "tags": []
          },
          "output_type": "display_data"
        }
      ],
      "source": [
        "#distribution of categories in target variable\n",
        "display(\n",
        "  df.select(\"status\").\\\n",
        "  groupby(col(\"status\")).\\\n",
        "  agg(fn.count(\"status\"))\n",
        ")"
      ]
    },
    {
      "cell_type": "code",
      "execution_count": null,
      "metadata": {
        "colab": {
          "base_uri": "https://localhost:8080/",
          "height": 33
        },
        "id": "AFv3D4JjLDrg",
        "outputId": "363e3423-ae0a-443b-86c5-006684f72377"
      },
      "outputs": [
        {
          "data": {
            "text/plain": [
              "DataFrame[label: int, count(label): bigint]"
            ]
          },
          "metadata": {
            "tags": []
          },
          "output_type": "display_data"
        }
      ],
      "source": [
        "#class balance target label\n",
        "display(\n",
        "  df.select(\"label\").\\\n",
        "  groupby(col(\"label\")).\\\n",
        "  agg(fn.count(\"label\"))\n",
        ")"
      ]
    },
    {
      "cell_type": "code",
      "execution_count": null,
      "metadata": {
        "id": "bbZegq9WLRy9"
      },
      "outputs": [],
      "source": [
        "#which categories occur most often\n",
        "categories_master = df.select(\"category_final\").\\\n",
        "  groupby(col(\"category_final\")).\\\n",
        "  agg(fn.count(\"category_final\")).\\\n",
        "  sort(\"count(category_final)\", ascending=False)"
      ]
    },
    {
      "cell_type": "code",
      "execution_count": null,
      "metadata": {
        "colab": {
          "base_uri": "https://localhost:8080/",
          "height": 33
        },
        "id": "WnxMjv-FLT7g",
        "outputId": "2111f1e7-7932-4bbd-9b6b-467c037c0a90"
      },
      "outputs": [
        {
          "data": {
            "text/plain": [
              "[Row(category_final='', count(category_final)=4)]"
            ]
          },
          "metadata": {
            "tags": []
          },
          "output_type": "display_data"
        }
      ],
      "source": [
        "display(categories_master.take(10))"
      ]
    },
    {
      "cell_type": "code",
      "execution_count": null,
      "metadata": {
        "id": "O2nh7exELXJg"
      },
      "outputs": [],
      "source": [
        "#investigate in which cities most of the startups are\n",
        "cities_master = df.select(\"name\", \"city\").\\\n",
        "  groupBy(\"city\").\\\n",
        "  agg(fn.count(\"city\")).\\\n",
        "  sort(\"count(city)\", ascending=False)"
      ]
    },
    {
      "cell_type": "code",
      "execution_count": null,
      "metadata": {
        "colab": {
          "base_uri": "https://localhost:8080/",
          "height": 83
        },
        "id": "xL2egRpGLZeq",
        "outputId": "af7e6e9c-d177-402f-fdfe-da07626073d4"
      },
      "outputs": [
        {
          "data": {
            "text/plain": [
              "[Row(city='Madrid', count(city)=1),\n",
              " Row(city='Dallas', count(city)=1),\n",
              " Row(city='London', count(city)=1),\n",
              " Row(city='New York', count(city)=1)]"
            ]
          },
          "metadata": {
            "tags": []
          },
          "output_type": "display_data"
        }
      ],
      "source": [
        "display(cities_master.take(10))"
      ]
    },
    {
      "cell_type": "code",
      "execution_count": null,
      "metadata": {
        "id": "LRX7zJ92Ln-a"
      },
      "outputs": [],
      "source": [
        "#investigate in which countries most of the startups of our data are\n",
        "countries_master = df.select(\"name\", \"country_code\").\\\n",
        "  groupBy(\"country_code\").\\\n",
        "  agg(fn.count(\"country_code\")).\\\n",
        "  sort(\"count(country_code)\", ascending=False)"
      ]
    },
    {
      "cell_type": "code",
      "execution_count": null,
      "metadata": {
        "colab": {
          "base_uri": "https://localhost:8080/",
          "height": 33
        },
        "id": "V0MoJ48QLqcu",
        "outputId": "45214804-2e24-4b64-8909-301ae422ab30"
      },
      "outputs": [
        {
          "data": {
            "text/plain": [
              "DataFrame[country_code: string, count(country_code): bigint]"
            ]
          },
          "metadata": {
            "tags": []
          },
          "output_type": "display_data"
        }
      ],
      "source": [
        "display(countries_master)"
      ]
    },
    {
      "cell_type": "code",
      "execution_count": null,
      "metadata": {
        "id": "kU9ukiOfLsYu"
      },
      "outputs": [],
      "source": [
        "# get compnay name, number of investment and total amount of invested usd sorted by number of investors\n",
        "investors_master_count = df.\\\n",
        "  select(\"name\", \"count_investor\", \"total_raised_usd\", \"category_final\").\\\n",
        "  groupby(col(\"name\")).\\\n",
        "  agg(fn.max(\"count_investor\"), fn.max(\"total_raised_usd\"), fn.first(\"category_final\")).\\\n",
        "  sort(\"max(count_investor)\", ascending=False)"
      ]
    },
    {
      "cell_type": "code",
      "execution_count": null,
      "metadata": {
        "colab": {
          "base_uri": "https://localhost:8080/",
          "height": 83
        },
        "id": "akCfRW3bLuY_",
        "outputId": "a5800c03-db8d-4c2d-d6bd-6a2cdaa2438d"
      },
      "outputs": [
        {
          "data": {
            "text/plain": [
              "[Row(name='Teladoc', max(count_investor)=17, max(total_raised_usd)=90.0, first(category_final)=''),\n",
              " Row(name='Shot & Shop', max(count_investor)=8, max(total_raised_usd)=1608.0, first(category_final)=''),\n",
              " Row(name='Monitise', max(count_investor)=5, max(total_raised_usd)=231.0, first(category_final)=''),\n",
              " Row(name='Branching Minds', max(count_investor)=4, max(total_raised_usd)=510.0, first(category_final)='')]"
            ]
          },
          "metadata": {
            "tags": []
          },
          "output_type": "display_data"
        }
      ],
      "source": [
        "display(investors_master_count.take(10))"
      ]
    },
    {
      "cell_type": "code",
      "execution_count": null,
      "metadata": {
        "id": "z7giZ33FLxD1"
      },
      "outputs": [],
      "source": [
        "# get investor name, number of investment and total amount of invested usd sorted by raised usd\n",
        "investors_master_usd = df.\\\n",
        "  select(\"name\", \"count_investor\", \"total_raised_usd\", \"category_final\").\\\n",
        "  groupby(col(\"name\")).\\\n",
        "  agg(fn.max(\"count_investor\"), fn.max(\"total_raised_usd\"), fn.first(\"category_final\")).\\\n",
        "  sort(\"max(total_raised_usd)\", ascending=False)"
      ]
    },
    {
      "cell_type": "code",
      "execution_count": null,
      "metadata": {
        "colab": {
          "base_uri": "https://localhost:8080/",
          "height": 83
        },
        "id": "XqLezBA9L6zH",
        "outputId": "7249e22f-5076-4801-87f4-36fcbfec5e38"
      },
      "outputs": [
        {
          "data": {
            "text/plain": [
              "[Row(name='Shot & Shop', max(count_investor)=8, max(total_raised_usd)=1608.0, first(category_final)=''),\n",
              " Row(name='Branching Minds', max(count_investor)=4, max(total_raised_usd)=510.0, first(category_final)=''),\n",
              " Row(name='Monitise', max(count_investor)=5, max(total_raised_usd)=231.0, first(category_final)=''),\n",
              " Row(name='Teladoc', max(count_investor)=17, max(total_raised_usd)=90.0, first(category_final)='')]"
            ]
          },
          "metadata": {
            "tags": []
          },
          "output_type": "display_data"
        }
      ],
      "source": [
        "display(investors_master_usd.take(10))"
      ]
    },
    {
      "cell_type": "code",
      "execution_count": null,
      "metadata": {
        "id": "s9wyMzmUL8fa"
      },
      "outputs": [],
      "source": [
        "# get categories of funding rounds and the number of their occurrence\n",
        "fundingrounds_master = df.\\\n",
        "  select(\"funding_round_type\").\\\n",
        "  groupBy(\"funding_round_type\").\\\n",
        "  agg(fn.count(\"funding_round_type\")).\\\n",
        "  sort(\"count(funding_round_type)\", ascending=False)"
      ]
    },
    {
      "cell_type": "code",
      "execution_count": null,
      "metadata": {
        "colab": {
          "background_save": true,
          "base_uri": "https://localhost:8080/",
          "height": 67
        },
        "id": "nm0M1Jf2L-2i",
        "outputId": "04f59624-68b2-4034-dcd9-99bc01a15637"
      },
      "outputs": [
        {
          "data": {
            "text/plain": [
              "[Row(funding_round_type='seed', count(funding_round_type)=2),\n",
              " Row(funding_round_type='venture', count(funding_round_type)=1),\n",
              " Row(funding_round_type='post_ipo_equity', count(funding_round_type)=1)]"
            ]
          },
          "metadata": {
            "tags": []
          },
          "output_type": "display_data"
        }
      ],
      "source": [
        "display(fundingrounds_master.take(10))"
      ]
    },
    {
      "cell_type": "code",
      "execution_count": null,
      "metadata": {
        "id": "d9zhNZ5vNxVL"
      },
      "outputs": [],
      "source": [
        "masternew.toPandas().to_csv('master.csv')"
      ]
    }
  ],
  "metadata": {
    "colab": {
      "collapsed_sections": [],
      "name": "thesis_data-preparation.ipynb",
      "provenance": []
    },
    "kernelspec": {
      "display_name": "Python 3",
      "name": "python3"
    }
  },
  "nbformat": 4,
  "nbformat_minor": 0
}
