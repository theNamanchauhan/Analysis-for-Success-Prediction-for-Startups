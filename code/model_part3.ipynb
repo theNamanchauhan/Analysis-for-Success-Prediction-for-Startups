{
  "cells": [
    {
      "cell_type": "code",
      "execution_count": null,
      "metadata": {
        "colab": {
          "base_uri": "https://localhost:8080/"
        },
        "id": "cK10uzzbM-OF",
        "outputId": "09cf158e-88dc-4088-f724-e1e2ccf4b7d0"
      },
      "outputs": [
        {
          "name": "stdout",
          "output_type": "stream",
          "text": [
            "Requirement already satisfied: pandas in /usr/local/lib/python3.6/dist-packages (1.1.5)\n",
            "Requirement already satisfied: pytz>=2017.2 in /usr/local/lib/python3.6/dist-packages (from pandas) (2018.9)\n",
            "Requirement already satisfied: numpy>=1.15.4 in /usr/local/lib/python3.6/dist-packages (from pandas) (1.19.5)\n",
            "Requirement already satisfied: python-dateutil>=2.7.3 in /usr/local/lib/python3.6/dist-packages (from pandas) (2.8.1)\n",
            "Requirement already satisfied: six>=1.5 in /usr/local/lib/python3.6/dist-packages (from python-dateutil>=2.7.3->pandas) (1.15.0)\n",
            "Requirement already satisfied: numpy in /usr/local/lib/python3.6/dist-packages (1.19.5)\n",
            "Requirement already satisfied: matplotlib in /usr/local/lib/python3.6/dist-packages (3.2.2)\n",
            "Requirement already satisfied: cycler>=0.10 in /usr/local/lib/python3.6/dist-packages (from matplotlib) (0.10.0)\n",
            "Requirement already satisfied: kiwisolver>=1.0.1 in /usr/local/lib/python3.6/dist-packages (from matplotlib) (1.3.1)\n",
            "Requirement already satisfied: numpy>=1.11 in /usr/local/lib/python3.6/dist-packages (from matplotlib) (1.19.5)\n",
            "Requirement already satisfied: pyparsing!=2.0.4,!=2.1.2,!=2.1.6,>=2.0.1 in /usr/local/lib/python3.6/dist-packages (from matplotlib) (2.4.7)\n",
            "Requirement already satisfied: python-dateutil>=2.1 in /usr/local/lib/python3.6/dist-packages (from matplotlib) (2.8.1)\n",
            "Requirement already satisfied: six in /usr/local/lib/python3.6/dist-packages (from cycler>=0.10->matplotlib) (1.15.0)\n",
            "Collecting pyspark\n",
            "\u001b[?25l  Downloading https://files.pythonhosted.org/packages/f0/26/198fc8c0b98580f617cb03cb298c6056587b8f0447e20fa40c5b634ced77/pyspark-3.0.1.tar.gz (204.2MB)\n",
            "\u001b[K     |████████████████████████████████| 204.2MB 72kB/s \n",
            "\u001b[?25hCollecting py4j==0.10.9\n",
            "\u001b[?25l  Downloading https://files.pythonhosted.org/packages/9e/b6/6a4fb90cd235dc8e265a6a2067f2a2c99f0d91787f06aca4bcf7c23f3f80/py4j-0.10.9-py2.py3-none-any.whl (198kB)\n",
            "\u001b[K     |████████████████████████████████| 204kB 41.7MB/s \n",
            "\u001b[?25hBuilding wheels for collected packages: pyspark\n",
            "  Building wheel for pyspark (setup.py) ... \u001b[?25l\u001b[?25hdone\n",
            "  Created wheel for pyspark: filename=pyspark-3.0.1-py2.py3-none-any.whl size=204612242 sha256=1c789d8cf7ee9c9fb0403cbb98758800db75e1b6270c19c8770b3867366f3f76\n",
            "  Stored in directory: /root/.cache/pip/wheels/5e/bd/07/031766ca628adec8435bb40f0bd83bb676ce65ff4007f8e73f\n",
            "Successfully built pyspark\n",
            "Installing collected packages: py4j, pyspark\n",
            "Successfully installed py4j-0.10.9 pyspark-3.0.1\n"
          ]
        }
      ],
      "source": [
        "!pip install pandas\n",
        "!pip install numpy\n",
        "!pip install matplotlib\n",
        "!pip install pyspark"
      ]
    },
    {
      "cell_type": "code",
      "execution_count": null,
      "metadata": {
        "id": "j3xTpH-jMyb9"
      },
      "outputs": [],
      "source": [
        "import pandas as pd\n",
        "import numpy as np\n",
        "# Load functionality to manipulate dataframes\n",
        "from pyspark.sql import functions as fn\n",
        "import matplotlib.pyplot as plt\n",
        "from pyspark.sql.functions import stddev, mean, col\n",
        "from pyspark.sql import SQLContext\n",
        "from pyspark.sql import SparkSession\n",
        "# Functionality for computing features\n",
        "from pyspark.ml import feature, regression, classification, Pipeline\n",
        "from pyspark.ml.classification import LogisticRegression\n",
        "from pyspark.ml import feature, regression, classification, Pipeline\n",
        "from pyspark.ml.feature import Tokenizer, VectorAssembler, HashingTF, Word2Vec, StringIndexer, OneHotEncoder\n",
        "from pyspark.ml import clustering\n",
        "from itertools import chain\n",
        "from pyspark.ml.linalg import Vectors, VectorUDT\n",
        "from pyspark.ml import classification\n",
        "from pyspark.ml.classification import LogisticRegression, RandomForestClassifier, DecisionTreeClassifier, GBTClassifier\n",
        "from pyspark.ml import evaluation\n",
        "from pyspark.ml.evaluation import BinaryClassificationEvaluator,MulticlassClassificationEvaluator\n",
        "from pyspark import keyword_only\n",
        "from pyspark.ml import Transformer\n",
        "from pyspark.ml.param.shared import HasInputCol, HasOutputCol, Param\n",
        "#Classification Report\n",
        "from sklearn.metrics import classification_report, confusion_matrix"
      ]
    },
    {
      "cell_type": "code",
      "execution_count": null,
      "metadata": {
        "colab": {
          "base_uri": "https://localhost:8080/",
          "height": 72,
          "resources": {
            "http://localhost:8080/nbextensions/google.colab/files.js": {
              "data": "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",
              "headers": [
                [
                  "content-type",
                  "application/javascript"
                ]
              ],
              "ok": true,
              "status": 200,
              "status_text": ""
            }
          }
        },
        "id": "2Fl2cEb9O9YI",
        "outputId": "bfd1e6fe-bcd4-41d5-e4f6-7e1d2221afdb"
      },
      "outputs": [
        {
          "data": {
            "text/html": [
              "\n",
              "     <input type=\"file\" id=\"files-2d2de7e9-123d-4196-b345-a4d214949a4d\" name=\"files[]\" multiple disabled\n",
              "        style=\"border:none\" />\n",
              "     <output id=\"result-2d2de7e9-123d-4196-b345-a4d214949a4d\">\n",
              "      Upload widget is only available when the cell has been executed in the\n",
              "      current browser session. Please rerun this cell to enable.\n",
              "      </output>\n",
              "      <script src=\"/nbextensions/google.colab/files.js\"></script> "
            ],
            "text/plain": [
              "<IPython.core.display.HTML object>"
            ]
          },
          "metadata": {
            "tags": []
          },
          "output_type": "display_data"
        },
        {
          "name": "stdout",
          "output_type": "stream",
          "text": [
            "Saving master.csv to master.csv\n"
          ]
        }
      ],
      "source": [
        "from google.colab import files\n",
        "uploaded = files.upload()"
      ]
    },
    {
      "cell_type": "code",
      "execution_count": null,
      "metadata": {
        "id": "TGAOtNcnPK50"
      },
      "outputs": [],
      "source": [
        "MAX_MEMORY = \"45g\"\n",
        "\n",
        "spark = SparkSession \\\n",
        "    .builder \\\n",
        "    .appName(\"how to read csv file\") \\\n",
        "    .config(\"spark.executor.memory\", MAX_MEMORY) \\\n",
        "    .config(\"spark.driver.memory\", MAX_MEMORY) \\\n",
        "    .getOrCreate()"
      ]
    },
    {
      "cell_type": "code",
      "execution_count": null,
      "metadata": {
        "id": "NBpeEo-0PXZP"
      },
      "outputs": [],
      "source": [
        "# load master dataset\n",
        "dfmaster = spark.read.format(\"csv\").load(\"master.csv\", delimiter = \",\", header = True)"
      ]
    },
    {
      "cell_type": "markdown",
      "metadata": {
        "id": "2LB5xRi2QFU2"
      },
      "source": [
        "\n",
        "Preparations and Understanding before Modeling"
      ]
    },
    {
      "cell_type": "code",
      "execution_count": null,
      "metadata": {
        "id": "mIkm1LgHQCCk"
      },
      "outputs": [],
      "source": [
        "# create a 0/1 column for acquistions\n",
        "dfmaster = dfmaster.\\\n",
        "  withColumn(\"labelacq\", fn.when(col(\"status\") == \"acquired\",\"1\").otherwise(\"0\"))"
      ]
    },
    {
      "cell_type": "code",
      "execution_count": null,
      "metadata": {
        "colab": {
          "base_uri": "https://localhost:8080/"
        },
        "id": "ZknlsZTQQIhG",
        "outputId": "6477bf55-482b-4307-b7a0-87987c27f255"
      },
      "outputs": [
        {
          "name": "stdout",
          "output_type": "stream",
          "text": [
            "49445\n"
          ]
        }
      ],
      "source": [
        "# number of rows in master table\n",
        "print(dfmaster.count())"
      ]
    },
    {
      "cell_type": "code",
      "execution_count": null,
      "metadata": {
        "colab": {
          "base_uri": "https://localhost:8080/"
        },
        "id": "b4V3vRukgnqD",
        "outputId": "fd232e7d-d43a-43ed-9e5f-9150c6b21042"
      },
      "outputs": [
        {
          "data": {
            "text/plain": [
              "DataFrame[_c0: string, permalink: string, name: string, market: string, funding_total_usd: string, status: string, country_code: string, city: string, funding_rounds: string, founded_year: string, quarter_new: string, age: string, permalink_agg: string, count_investor: string, time_to_first_funding: string, investor_country_codes: string, funding_round_types: string, total_raised_usd: string, permalink_sub: string, category_final: string, perma: string, investor_country_code: string, permaround: string, funding_round_type: string, labelacq: string]"
            ]
          },
          "execution_count": 8,
          "metadata": {
            "tags": []
          },
          "output_type": "execute_result"
        }
      ],
      "source": [
        "dfmaster"
      ]
    },
    {
      "cell_type": "markdown",
      "metadata": {
        "id": "gQ-F_CvoQKqZ"
      },
      "source": [
        "NAs and market column (with too many levels) handeling"
      ]
    },
    {
      "cell_type": "code",
      "execution_count": null,
      "metadata": {
        "colab": {
          "base_uri": "https://localhost:8080/"
        },
        "id": "lQjuF2P-QNvT",
        "outputId": "61256d46-a9dc-4fb2-fa14-9a29b057f919"
      },
      "outputs": [
        {
          "data": {
            "text/plain": [
              "_c0                           0\n",
              "permalink                     1\n",
              "name                          1\n",
              "market                     3967\n",
              "funding_total_usd             1\n",
              "status                     1315\n",
              "country_code               5273\n",
              "city                       6116\n",
              "funding_rounds                1\n",
              "founded_year              10956\n",
              "quarter_new               10956\n",
              "age                       10956\n",
              "permalink_agg                 1\n",
              "count_investor                1\n",
              "time_to_first_funding     24731\n",
              "investor_country_codes    20954\n",
              "funding_round_types       17110\n",
              "total_raised_usd          49435\n",
              "permalink_sub                 1\n",
              "category_final            45459\n",
              "perma                     20954\n",
              "investor_country_code     20954\n",
              "permaround                17110\n",
              "funding_round_type        17110\n",
              "labelacq                      0\n",
              "dtype: int64"
            ]
          },
          "execution_count": 9,
          "metadata": {
            "tags": []
          },
          "output_type": "execute_result"
        }
      ],
      "source": [
        "# check for missing values \n",
        "dfmaster.toPandas().isnull().sum()"
      ]
    },
    {
      "cell_type": "code",
      "execution_count": null,
      "metadata": {
        "id": "AiaaUGk0QcQB"
      },
      "outputs": [],
      "source": [
        "# drop market columns because of too many level and better breakdown with the category_final column\n",
        "dfmaster1 = dfmaster.drop(\"market\")"
      ]
    },
    {
      "cell_type": "code",
      "execution_count": null,
      "metadata": {
        "colab": {
          "base_uri": "https://localhost:8080/",
          "height": 560
        },
        "id": "kjOYJTFidt0c",
        "outputId": "95bc42c5-974f-4170-8284-e203b1d86180"
      },
      "outputs": [
        {
          "data": {
            "text/html": [
              "<div>\n",
              "<style scoped>\n",
              "    .dataframe tbody tr th:only-of-type {\n",
              "        vertical-align: middle;\n",
              "    }\n",
              "\n",
              "    .dataframe tbody tr th {\n",
              "        vertical-align: top;\n",
              "    }\n",
              "\n",
              "    .dataframe thead th {\n",
              "        text-align: right;\n",
              "    }\n",
              "</style>\n",
              "<table border=\"1\" class=\"dataframe\">\n",
              "  <thead>\n",
              "    <tr style=\"text-align: right;\">\n",
              "      <th></th>\n",
              "      <th>_c0</th>\n",
              "      <th>permalink</th>\n",
              "      <th>name</th>\n",
              "      <th>funding_total_usd</th>\n",
              "      <th>status</th>\n",
              "      <th>country_code</th>\n",
              "      <th>city</th>\n",
              "      <th>funding_rounds</th>\n",
              "      <th>founded_year</th>\n",
              "      <th>quarter_new</th>\n",
              "      <th>age</th>\n",
              "      <th>permalink_agg</th>\n",
              "      <th>count_investor</th>\n",
              "      <th>time_to_first_funding</th>\n",
              "      <th>investor_country_codes</th>\n",
              "      <th>funding_round_types</th>\n",
              "      <th>total_raised_usd</th>\n",
              "      <th>permalink_sub</th>\n",
              "      <th>category_final</th>\n",
              "      <th>perma</th>\n",
              "      <th>investor_country_code</th>\n",
              "      <th>permaround</th>\n",
              "      <th>funding_round_type</th>\n",
              "      <th>labelacq</th>\n",
              "    </tr>\n",
              "  </thead>\n",
              "  <tbody>\n",
              "    <tr>\n",
              "      <th>0</th>\n",
              "      <td>0</td>\n",
              "      <td>/organization/1lay</td>\n",
              "      <td>1Lay</td>\n",
              "      <td>1,70,000</td>\n",
              "      <td>operating</td>\n",
              "      <td>None</td>\n",
              "      <td>None</td>\n",
              "      <td>1</td>\n",
              "      <td>2013</td>\n",
              "      <td>Q3</td>\n",
              "      <td>1.5</td>\n",
              "      <td>/organization/1lay</td>\n",
              "      <td>0.0</td>\n",
              "      <td>None</td>\n",
              "      <td>None</td>\n",
              "      <td>None</td>\n",
              "      <td>None</td>\n",
              "      <td>/organization/1lay</td>\n",
              "      <td>None</td>\n",
              "      <td>None</td>\n",
              "      <td>None</td>\n",
              "      <td>None</td>\n",
              "      <td>None</td>\n",
              "      <td>0</td>\n",
              "    </tr>\n",
              "    <tr>\n",
              "      <th>1</th>\n",
              "      <td>1</td>\n",
              "      <td>/organization/24pagebooks</td>\n",
              "      <td>24PageBooks</td>\n",
              "      <td>50,000</td>\n",
              "      <td>closed</td>\n",
              "      <td>USA</td>\n",
              "      <td>Rochester</td>\n",
              "      <td>1</td>\n",
              "      <td>2010</td>\n",
              "      <td>Q1</td>\n",
              "      <td>5.0</td>\n",
              "      <td>/organization/24pagebooks</td>\n",
              "      <td>1.0</td>\n",
              "      <td>1.25</td>\n",
              "      <td>FRA</td>\n",
              "      <td>seed</td>\n",
              "      <td>None</td>\n",
              "      <td>/organization/24pagebooks</td>\n",
              "      <td>None</td>\n",
              "      <td>/organization/24pagebooks</td>\n",
              "      <td>FRA</td>\n",
              "      <td>/organization/24pagebooks</td>\n",
              "      <td>seed</td>\n",
              "      <td>0</td>\n",
              "    </tr>\n",
              "    <tr>\n",
              "      <th>2</th>\n",
              "      <td>2</td>\n",
              "      <td>/organization/5min</td>\n",
              "      <td>5min Media</td>\n",
              "      <td>1,28,00,000</td>\n",
              "      <td>acquired</td>\n",
              "      <td>USA</td>\n",
              "      <td>New York</td>\n",
              "      <td>3</td>\n",
              "      <td>2007</td>\n",
              "      <td>Q1</td>\n",
              "      <td>8.0</td>\n",
              "      <td>/organization/5min</td>\n",
              "      <td>3.0</td>\n",
              "      <td>0.75</td>\n",
              "      <td>USA, USA, USA</td>\n",
              "      <td>venture, venture, venture</td>\n",
              "      <td>None</td>\n",
              "      <td>/organization/5min</td>\n",
              "      <td>None</td>\n",
              "      <td>/organization/5min</td>\n",
              "      <td>USA</td>\n",
              "      <td>/organization/5min</td>\n",
              "      <td>venture</td>\n",
              "      <td>1</td>\n",
              "    </tr>\n",
              "    <tr>\n",
              "      <th>3</th>\n",
              "      <td>3</td>\n",
              "      <td>/organization/abpathfinder</td>\n",
              "      <td>ABPathfinder</td>\n",
              "      <td>9,60,000</td>\n",
              "      <td>operating</td>\n",
              "      <td>USA</td>\n",
              "      <td>Overland Park</td>\n",
              "      <td>3</td>\n",
              "      <td>2010</td>\n",
              "      <td>Q2</td>\n",
              "      <td>4.75</td>\n",
              "      <td>/organization/abpathfinder</td>\n",
              "      <td>4.0</td>\n",
              "      <td>2.5</td>\n",
              "      <td>USA, USA, USA</td>\n",
              "      <td>venture, venture, venture, venture</td>\n",
              "      <td>None</td>\n",
              "      <td>/organization/abpathfinder</td>\n",
              "      <td>None</td>\n",
              "      <td>/organization/abpathfinder</td>\n",
              "      <td>USA</td>\n",
              "      <td>/organization/abpathfinder</td>\n",
              "      <td>venture</td>\n",
              "      <td>0</td>\n",
              "    </tr>\n",
              "    <tr>\n",
              "      <th>4</th>\n",
              "      <td>4</td>\n",
              "      <td>/organization/acid-labs</td>\n",
              "      <td>Acid Labs</td>\n",
              "      <td>-</td>\n",
              "      <td>operating</td>\n",
              "      <td>USA</td>\n",
              "      <td>Santa Monica</td>\n",
              "      <td>1</td>\n",
              "      <td>2003</td>\n",
              "      <td>Q1</td>\n",
              "      <td>12.0</td>\n",
              "      <td>/organization/acid-labs</td>\n",
              "      <td>0.0</td>\n",
              "      <td>None</td>\n",
              "      <td>None</td>\n",
              "      <td>None</td>\n",
              "      <td>None</td>\n",
              "      <td>/organization/acid-labs</td>\n",
              "      <td>None</td>\n",
              "      <td>None</td>\n",
              "      <td>None</td>\n",
              "      <td>None</td>\n",
              "      <td>None</td>\n",
              "      <td>0</td>\n",
              "    </tr>\n",
              "    <tr>\n",
              "      <th>...</th>\n",
              "      <td>...</td>\n",
              "      <td>...</td>\n",
              "      <td>...</td>\n",
              "      <td>...</td>\n",
              "      <td>...</td>\n",
              "      <td>...</td>\n",
              "      <td>...</td>\n",
              "      <td>...</td>\n",
              "      <td>...</td>\n",
              "      <td>...</td>\n",
              "      <td>...</td>\n",
              "      <td>...</td>\n",
              "      <td>...</td>\n",
              "      <td>...</td>\n",
              "      <td>...</td>\n",
              "      <td>...</td>\n",
              "      <td>...</td>\n",
              "      <td>...</td>\n",
              "      <td>...</td>\n",
              "      <td>...</td>\n",
              "      <td>...</td>\n",
              "      <td>...</td>\n",
              "      <td>...</td>\n",
              "      <td>...</td>\n",
              "    </tr>\n",
              "    <tr>\n",
              "      <th>49440</th>\n",
              "      <td>49440</td>\n",
              "      <td>/organization/yieldmo</td>\n",
              "      <td>Yieldmo</td>\n",
              "      <td>2,21,00,000</td>\n",
              "      <td>operating</td>\n",
              "      <td>USA</td>\n",
              "      <td>New York</td>\n",
              "      <td>3</td>\n",
              "      <td>2012</td>\n",
              "      <td>Q2</td>\n",
              "      <td>2.75</td>\n",
              "      <td>/organization/yieldmo</td>\n",
              "      <td>12.0</td>\n",
              "      <td>0.25</td>\n",
              "      <td>USA, USA, USA, USA, USA, ISR, USA, USA, USA, U...</td>\n",
              "      <td>venture, venture, venture, venture, venture, v...</td>\n",
              "      <td>None</td>\n",
              "      <td>/organization/yieldmo</td>\n",
              "      <td>None</td>\n",
              "      <td>/organization/yieldmo</td>\n",
              "      <td>USA</td>\n",
              "      <td>/organization/yieldmo</td>\n",
              "      <td>venture</td>\n",
              "      <td>0</td>\n",
              "    </tr>\n",
              "    <tr>\n",
              "      <th>49441</th>\n",
              "      <td>49441</td>\n",
              "      <td>/organization/youxinpai</td>\n",
              "      <td>Youxinpai</td>\n",
              "      <td>3,00,00,000</td>\n",
              "      <td>operating</td>\n",
              "      <td>CHN</td>\n",
              "      <td>Beijing</td>\n",
              "      <td>1</td>\n",
              "      <td>2011</td>\n",
              "      <td>Q3</td>\n",
              "      <td>3.5</td>\n",
              "      <td>/organization/youxinpai</td>\n",
              "      <td>4.0</td>\n",
              "      <td>1.75</td>\n",
              "      <td>CHN, USA, CHN</td>\n",
              "      <td>venture, venture, venture, venture</td>\n",
              "      <td>None</td>\n",
              "      <td>/organization/youxinpai</td>\n",
              "      <td>None</td>\n",
              "      <td>/organization/youxinpai</td>\n",
              "      <td>CHN</td>\n",
              "      <td>/organization/youxinpai</td>\n",
              "      <td>venture</td>\n",
              "      <td>0</td>\n",
              "    </tr>\n",
              "    <tr>\n",
              "      <th>49442</th>\n",
              "      <td>49442</td>\n",
              "      <td>/organization/zeropercent-us</td>\n",
              "      <td>ZeroPercent.us</td>\n",
              "      <td>-</td>\n",
              "      <td>operating</td>\n",
              "      <td>USA</td>\n",
              "      <td>Chicago</td>\n",
              "      <td>1</td>\n",
              "      <td>2011</td>\n",
              "      <td>Q3</td>\n",
              "      <td>3.5</td>\n",
              "      <td>/organization/zeropercent-us</td>\n",
              "      <td>1.0</td>\n",
              "      <td>2.5</td>\n",
              "      <td>USA</td>\n",
              "      <td>seed</td>\n",
              "      <td>None</td>\n",
              "      <td>/organization/zeropercent-us</td>\n",
              "      <td>None</td>\n",
              "      <td>/organization/zeropercent-us</td>\n",
              "      <td>USA</td>\n",
              "      <td>/organization/zeropercent-us</td>\n",
              "      <td>seed</td>\n",
              "      <td>0</td>\n",
              "    </tr>\n",
              "    <tr>\n",
              "      <th>49443</th>\n",
              "      <td>49443</td>\n",
              "      <td>/organization/zinch</td>\n",
              "      <td>Zinch</td>\n",
              "      <td>54,86,842</td>\n",
              "      <td>acquired</td>\n",
              "      <td>USA</td>\n",
              "      <td>Orem</td>\n",
              "      <td>3</td>\n",
              "      <td>2007</td>\n",
              "      <td>Q1</td>\n",
              "      <td>8.0</td>\n",
              "      <td>/organization/zinch</td>\n",
              "      <td>3.0</td>\n",
              "      <td>0.75</td>\n",
              "      <td>USA, USA</td>\n",
              "      <td>venture, venture, angel</td>\n",
              "      <td>None</td>\n",
              "      <td>/organization/zinch</td>\n",
              "      <td>None</td>\n",
              "      <td>/organization/zinch</td>\n",
              "      <td>USA</td>\n",
              "      <td>/organization/zinch</td>\n",
              "      <td>venture</td>\n",
              "      <td>1</td>\n",
              "    </tr>\n",
              "    <tr>\n",
              "      <th>49444</th>\n",
              "      <td>49444</td>\n",
              "      <td>/organization/zippy-com-au-pty-ltd</td>\n",
              "      <td>Zippy.com.au Pty LTD</td>\n",
              "      <td>2,00,000</td>\n",
              "      <td>acquired</td>\n",
              "      <td>AUS</td>\n",
              "      <td>Brisbane</td>\n",
              "      <td>1</td>\n",
              "      <td>None</td>\n",
              "      <td>None</td>\n",
              "      <td>None</td>\n",
              "      <td>/organization/zippy-com-au-pty-ltd</td>\n",
              "      <td>0.0</td>\n",
              "      <td>None</td>\n",
              "      <td>None</td>\n",
              "      <td>None</td>\n",
              "      <td>None</td>\n",
              "      <td>/organization/zippy-com-au-pty-ltd</td>\n",
              "      <td>None</td>\n",
              "      <td>None</td>\n",
              "      <td>None</td>\n",
              "      <td>None</td>\n",
              "      <td>None</td>\n",
              "      <td>1</td>\n",
              "    </tr>\n",
              "  </tbody>\n",
              "</table>\n",
              "<p>49445 rows × 24 columns</p>\n",
              "</div>"
            ],
            "text/plain": [
              "         _c0                           permalink  ... funding_round_type labelacq\n",
              "0          0                  /organization/1lay  ...               None        0\n",
              "1          1           /organization/24pagebooks  ...               seed        0\n",
              "2          2                  /organization/5min  ...            venture        1\n",
              "3          3          /organization/abpathfinder  ...            venture        0\n",
              "4          4             /organization/acid-labs  ...               None        0\n",
              "...      ...                                 ...  ...                ...      ...\n",
              "49440  49440               /organization/yieldmo  ...            venture        0\n",
              "49441  49441             /organization/youxinpai  ...            venture        0\n",
              "49442  49442        /organization/zeropercent-us  ...               seed        0\n",
              "49443  49443                 /organization/zinch  ...            venture        1\n",
              "49444  49444  /organization/zippy-com-au-pty-ltd  ...               None        1\n",
              "\n",
              "[49445 rows x 24 columns]"
            ]
          },
          "execution_count": 11,
          "metadata": {
            "tags": []
          },
          "output_type": "execute_result"
        }
      ],
      "source": [
        "dfmaster1 = dfmaster1.toPandas()\n",
        "dfmaster1"
      ]
    },
    {
      "cell_type": "code",
      "execution_count": null,
      "metadata": {
        "id": "ASU37NVbh1LN"
      },
      "outputs": [],
      "source": [
        "# Replace NaN with mode for categorical variables\n",
        "dfmaster1['total_raised_usd'] = dfmaster1['total_raised_usd'].fillna(dfmaster1['total_raised_usd'].mode()[0])\n",
        "dfmaster1['time_to_first_funding'] = dfmaster1['time_to_first_funding'].fillna(dfmaster1['time_to_first_funding'].mode()[0])\n",
        "dfmaster1['founded_year'] = dfmaster1['founded_year'].fillna(dfmaster1['founded_year'].mode()[0])\n",
        "dfmaster1['age'] = dfmaster1['age'].fillna(dfmaster1['age'].mode()[0])\n",
        "dfmaster1['status'] = dfmaster1['status'].fillna(dfmaster1['status'].mode()[0])\n",
        "dfmaster1['country_code'] = dfmaster1['country_code'].fillna(dfmaster1['country_code'].mode()[0])\n",
        "dfmaster1['city'] = dfmaster1['city'].fillna(dfmaster1['city'].mode()[0])\n",
        "dfmaster1['quarter_new'] = dfmaster1['quarter_new'].fillna(dfmaster1['quarter_new'].mode()[0])\n",
        "dfmaster1['investor_country_codes'] = dfmaster1['investor_country_codes'].fillna(dfmaster1['investor_country_codes'].mode()[0])\n",
        "dfmaster1['funding_round_types'] = dfmaster1['funding_round_types'].fillna(dfmaster1['funding_round_types'].mode()[0])\n",
        "dfmaster1['permaround'] = dfmaster1['permaround'].fillna(dfmaster1['permaround'].mode()[0])\n",
        "dfmaster1['investor_country_code'] = dfmaster1['investor_country_code'].fillna(dfmaster1['investor_country_code'].mode()[0])\n",
        "dfmaster1['funding_round_type'] = dfmaster1['funding_round_type'].fillna(dfmaster1['funding_round_type'].mode()[0])\n",
        "dfmaster1['category_final'] = dfmaster1['category_final'].fillna(dfmaster1['category_final'].mode()[0])\n",
        "dfmaster1['perma'] = dfmaster1['perma'].fillna(dfmaster1['perma'].mode()[0])"
      ]
    },
    {
      "cell_type": "code",
      "execution_count": null,
      "metadata": {
        "colab": {
          "base_uri": "https://localhost:8080/"
        },
        "id": "wZyY7LbojbJ7",
        "outputId": "f8f06ddd-2d5d-49c2-d6b5-7b855d6ea20d"
      },
      "outputs": [
        {
          "data": {
            "text/plain": [
              "_c0                       0\n",
              "permalink                 1\n",
              "name                      1\n",
              "funding_total_usd         1\n",
              "status                    0\n",
              "country_code              0\n",
              "city                      0\n",
              "funding_rounds            1\n",
              "founded_year              0\n",
              "quarter_new               0\n",
              "age                       0\n",
              "permalink_agg             1\n",
              "count_investor            1\n",
              "time_to_first_funding     0\n",
              "investor_country_codes    0\n",
              "funding_round_types       0\n",
              "total_raised_usd          0\n",
              "permalink_sub             1\n",
              "category_final            0\n",
              "perma                     0\n",
              "investor_country_code     0\n",
              "permaround                0\n",
              "funding_round_type        0\n",
              "labelacq                  0\n",
              "dtype: int64"
            ]
          },
          "execution_count": 13,
          "metadata": {
            "tags": []
          },
          "output_type": "execute_result"
        }
      ],
      "source": [
        "# check for missing values \n",
        "dfmaster1.isnull().sum()"
      ]
    },
    {
      "cell_type": "code",
      "execution_count": null,
      "metadata": {
        "id": "9zAO9vMnp1JM"
      },
      "outputs": [],
      "source": [
        "# drop rows with missing values\n",
        "dfmaster1drop = dfmaster1.dropna()"
      ]
    },
    {
      "cell_type": "code",
      "execution_count": null,
      "metadata": {
        "colab": {
          "base_uri": "https://localhost:8080/"
        },
        "id": "yyf7mW3xqOWu",
        "outputId": "d72eecee-46d1-445e-c2a1-542dc1288a38"
      },
      "outputs": [
        {
          "name": "stdout",
          "output_type": "stream",
          "text": [
            "_c0                       49444\n",
            "permalink                 49444\n",
            "name                      49444\n",
            "funding_total_usd         49444\n",
            "status                    49444\n",
            "country_code              49444\n",
            "city                      49444\n",
            "funding_rounds            49444\n",
            "founded_year              49444\n",
            "quarter_new               49444\n",
            "age                       49444\n",
            "permalink_agg             49444\n",
            "count_investor            49444\n",
            "time_to_first_funding     49444\n",
            "investor_country_codes    49444\n",
            "funding_round_types       49444\n",
            "total_raised_usd          49444\n",
            "permalink_sub             49444\n",
            "category_final            49444\n",
            "perma                     49444\n",
            "investor_country_code     49444\n",
            "permaround                49444\n",
            "funding_round_type        49444\n",
            "labelacq                  49444\n",
            "dtype: int64\n"
          ]
        }
      ],
      "source": [
        "print(dfmaster1drop.count())"
      ]
    },
    {
      "cell_type": "code",
      "execution_count": null,
      "metadata": {
        "id": "4hQFr6Ymqsya"
      },
      "outputs": [],
      "source": [
        "sql = SQLContext(spark)"
      ]
    },
    {
      "cell_type": "code",
      "execution_count": null,
      "metadata": {
        "id": "1aCy3ZSIrCsT"
      },
      "outputs": [],
      "source": [
        "dfmaster2 = sql.createDataFrame(dfmaster1drop)"
      ]
    },
    {
      "cell_type": "code",
      "execution_count": null,
      "metadata": {
        "colab": {
          "base_uri": "https://localhost:8080/",
          "height": 53
        },
        "id": "bfy-lv0nrSAk",
        "outputId": "38bbee81-828c-4942-ab8d-da7b85321fd9"
      },
      "outputs": [
        {
          "data": {
            "text/plain": [
              "DataFrame[_c0: string, permalink: string, name: string, funding_total_usd: string, status: string, country_code: string, city: string, funding_rounds: string, founded_year: string, quarter_new: string, age: string, permalink_agg: string, count_investor: string, time_to_first_funding: string, investor_country_codes: string, funding_round_types: string, total_raised_usd: string, permalink_sub: string, category_final: string, perma: string, investor_country_code: string, permaround: string, funding_round_type: string, labelacq: string]"
            ]
          },
          "metadata": {
            "tags": []
          },
          "output_type": "display_data"
        }
      ],
      "source": [
        "display(dfmaster2)"
      ]
    },
    {
      "cell_type": "markdown",
      "metadata": {
        "id": "bBzVi9rNQmhv"
      },
      "source": [
        "String indexer, one hot encoder and casting to numerics"
      ]
    },
    {
      "cell_type": "code",
      "execution_count": null,
      "metadata": {
        "id": "z3w-8St8QkEA"
      },
      "outputs": [],
      "source": [
        "# create index for categorical variables\n",
        "# use pipline to apply indexer\n",
        "list1 = [\"country_code\",\"city\",\"quarter_new\",\"investor_country_code\",\"funding_round_type\",\"category_final\"]\n",
        "indexers = [StringIndexer(inputCol=column, outputCol=column+\"_index\").fit(dfmaster2) for column in list1]\n",
        "pipelineindex = Pipeline(stages=indexers).fit(dfmaster2)\n",
        "dfmasternew = pipelineindex.transform(dfmaster2)"
      ]
    },
    {
      "cell_type": "code",
      "execution_count": null,
      "metadata": {
        "id": "ofJqkkyJQqyL"
      },
      "outputs": [],
      "source": [
        "# convert string to double for numerical variables\n",
        "dfmasternew = dfmasternew.\\\n",
        "  withColumn(\"numeric_funding_rounds\", dfmasternew[\"funding_rounds\"].cast(\"int\")).\\\n",
        "  withColumn(\"numeric_age\", dfmasternew[\"age\"].cast(\"int\")).\\\n",
        "  withColumn(\"numeric_count_investor\", dfmasternew[\"count_investor\"].cast(\"int\")).\\\n",
        "  withColumn(\"numeric_time_to_first_funding\", dfmasternew[\"time_to_first_funding\"].cast(\"int\")).\\\n",
        "  withColumn(\"numeric_total_raised_usd\", dfmasternew[\"total_raised_usd\"].cast(\"int\")).\\\n",
        "  withColumn(\"label\", dfmasternew[\"labelacq\"].cast(\"int\"))"
      ]
    },
    {
      "cell_type": "code",
      "execution_count": null,
      "metadata": {
        "id": "v_vGMKkl2vor"
      },
      "outputs": [],
      "source": [
        "dfmasternew = dfmasternew.\\\n",
        "  withColumn(\"funding_round_type\", dfmasternew[\"funding_round_type\"].cast(\"double\")).\\\n",
        "  withColumn(\"country_code_index\", dfmasternew[\"country_code_index\"].cast(\"double\")).\\\n",
        "  withColumn(\"city_index\", dfmasternew[\"city_index\"].cast(\"double\")).\\\n",
        "  withColumn(\"quarter_new_index\", dfmasternew[\"quarter_new_index\"].cast(\"double\")).\\\n",
        "  withColumn(\"labelacq\", dfmasternew[\"labelacq\"].cast(\"double\"))"
      ]
    },
    {
      "cell_type": "code",
      "execution_count": null,
      "metadata": {
        "id": "M9frd6bGQ0h7"
      },
      "outputs": [],
      "source": [
        "# save\n",
        "dfone = dfmasternew"
      ]
    },
    {
      "cell_type": "code",
      "execution_count": null,
      "metadata": {
        "colab": {
          "base_uri": "https://localhost:8080/",
          "height": 53
        },
        "id": "waO0Uf_aQ5Fr",
        "outputId": "c10f3599-1aa9-4c13-a4e6-25403b56a9d4"
      },
      "outputs": [
        {
          "data": {
            "text/plain": [
              "DataFrame[_c0: string, permalink: string, name: string, funding_total_usd: string, status: string, country_code: string, city: string, funding_rounds: string, founded_year: string, quarter_new: string, age: string, permalink_agg: string, count_investor: string, time_to_first_funding: string, investor_country_codes: string, funding_round_types: string, total_raised_usd: string, permalink_sub: string, category_final: string, perma: string, investor_country_code: string, permaround: string, funding_round_type: double, labelacq: double, country_code_index: double, city_index: double, quarter_new_index: double, investor_country_code_index: double, funding_round_type_index: double, category_final_index: double, numeric_funding_rounds: int, numeric_age: int, numeric_count_investor: int, numeric_time_to_first_funding: int, numeric_total_raised_usd: int, label: int]"
            ]
          },
          "metadata": {
            "tags": []
          },
          "output_type": "display_data"
        }
      ],
      "source": [
        "display(dfone)"
      ]
    },
    {
      "cell_type": "code",
      "execution_count": null,
      "metadata": {
        "colab": {
          "base_uri": "https://localhost:8080/"
        },
        "id": "b22orTWg_Ep8",
        "outputId": "e291d5d5-597c-4143-cd9b-0bfd2dfed9bf"
      },
      "outputs": [
        {
          "name": "stdout",
          "output_type": "stream",
          "text": [
            "49444\n"
          ]
        }
      ],
      "source": [
        "print(dfone.count())"
      ]
    },
    {
      "cell_type": "code",
      "execution_count": null,
      "metadata": {
        "colab": {
          "base_uri": "https://localhost:8080/"
        },
        "id": "z-ocjzD4Q6Yb",
        "outputId": "98733877-cdad-43a8-96d3-cf4456342ebd"
      },
      "outputs": [
        {
          "data": {
            "text/plain": [
              "['country_code_index',\n",
              " 'city_index',\n",
              " 'quarter_new_index',\n",
              " 'investor_country_code_index',\n",
              " 'funding_round_type_index',\n",
              " 'category_final_index']"
            ]
          },
          "execution_count": 25,
          "metadata": {
            "tags": []
          },
          "output_type": "execute_result"
        }
      ],
      "source": [
        "# list of index columns of categorical variables for the onehotencoder\n",
        "list2 = dfone.columns[24:30]\n",
        "list2"
      ]
    },
    {
      "cell_type": "code",
      "execution_count": null,
      "metadata": {
        "id": "fbl2eaDKRFwz"
      },
      "outputs": [],
      "source": [
        "# create sparse matrix of indexed categorical columns\n",
        "# use pipline to apply the encoder\n",
        "onehotencoder_stages = [OneHotEncoder(inputCol=c, outputCol='onehotencoded_' + c) for c in list2]\n",
        "pipelineonehot = Pipeline(stages=onehotencoder_stages)\n",
        "pipeline_mode = pipelineonehot.fit(dfone)\n",
        "df_coded = pipeline_mode.transform(dfone)"
      ]
    },
    {
      "cell_type": "code",
      "execution_count": null,
      "metadata": {
        "colab": {
          "base_uri": "https://localhost:8080/"
        },
        "id": "18vlEgxt3och",
        "outputId": "01f30982-5912-4f2a-da80-036fd69a073f"
      },
      "outputs": [
        {
          "name": "stdout",
          "output_type": "stream",
          "text": [
            "+---+--------------------+--------------------+-----------------+---------+------------+-------------+--------------+------------+-----------+----+--------------------+--------------+---------------------+----------------------+--------------------+----------------+--------------------+--------------+--------------------+---------------------+--------------------+------------------+--------+------------------+----------+-----------------+---------------------------+------------------------+--------------------+----------------------+-----------+----------------------+-----------------------------+------------------------+-----+--------------------------------+------------------------+-------------------------------+-----------------------------------------+--------------------------------------+----------------------------------+\n",
            "|_c0|           permalink|                name|funding_total_usd|   status|country_code|         city|funding_rounds|founded_year|quarter_new| age|       permalink_agg|count_investor|time_to_first_funding|investor_country_codes| funding_round_types|total_raised_usd|       permalink_sub|category_final|               perma|investor_country_code|          permaround|funding_round_type|labelacq|country_code_index|city_index|quarter_new_index|investor_country_code_index|funding_round_type_index|category_final_index|numeric_funding_rounds|numeric_age|numeric_count_investor|numeric_time_to_first_funding|numeric_total_raised_usd|label|onehotencoded_country_code_index|onehotencoded_city_index|onehotencoded_quarter_new_index|onehotencoded_investor_country_code_index|onehotencoded_funding_round_type_index|onehotencoded_category_final_index|\n",
            "+---+--------------------+--------------------+-----------------+---------+------------+-------------+--------------+------------+-----------+----+--------------------+--------------+---------------------+----------------------+--------------------+----------------+--------------------+--------------+--------------------+---------------------+--------------------+------------------+--------+------------------+----------+-----------------+---------------------------+------------------------+--------------------+----------------------+-----------+----------------------+-----------------------------+------------------------+-----+--------------------------------+------------------------+-------------------------------+-----------------------------------------+--------------------------------------+----------------------------------+\n",
            "|  0|  /organization/1lay|                1Lay|        1,70,000 |operating|         USA|San Francisco|             1|        2013|         Q3| 1.5|  /organization/1lay|           0.0|                  0.0|                   USA|                seed|           118.0|  /organization/1lay|          None| /organization/prysm|                  USA| /organization/prysm|              null|     0.0|               0.0|       0.0|              2.0|                        0.0|                     0.0|                 0.0|                     1|          1|                     0|                            0|                     118|    0|                 (114,[0],[1.0])|        (4187,[0],[1.0])|                  (3,[2],[1.0])|                           (77,[0],[1.0])|                        (12,[0],[1.0])|                     (1,[0],[1.0])|\n",
            "|  1|/organization/24p...|         24PageBooks|          50,000 |   closed|         USA|    Rochester|             1|        2010|         Q1| 5.0|/organization/24p...|           1.0|                 1.25|                   FRA|                seed|           118.0|/organization/24p...|          None|/organization/24p...|                  FRA|/organization/24p...|              null|     0.0|               0.0|     156.0|              0.0|                        2.0|                     1.0|                 0.0|                     1|          5|                     1|                            1|                     118|    0|                 (114,[0],[1.0])|      (4187,[156],[1.0])|                  (3,[0],[1.0])|                           (77,[2],[1.0])|                        (12,[1],[1.0])|                     (1,[0],[1.0])|\n",
            "|  2|  /organization/5min|          5min Media|     1,28,00,000 | acquired|         USA|     New York|             3|        2007|         Q1| 8.0|  /organization/5min|           3.0|                 0.75|         USA, USA, USA|venture, venture,...|           118.0|  /organization/5min|          None|  /organization/5min|                  USA|  /organization/5min|              null|     1.0|               0.0|       1.0|              0.0|                        0.0|                     0.0|                 0.0|                     3|          8|                     3|                            0|                     118|    1|                 (114,[0],[1.0])|        (4187,[1],[1.0])|                  (3,[0],[1.0])|                           (77,[0],[1.0])|                        (12,[0],[1.0])|                     (1,[0],[1.0])|\n",
            "|  3|/organization/abp...|        ABPathfinder|        9,60,000 |operating|         USA|Overland Park|             3|        2010|         Q2|4.75|/organization/abp...|           4.0|                  2.5|         USA, USA, USA|venture, venture,...|           118.0|/organization/abp...|          None|/organization/abp...|                  USA|/organization/abp...|              null|     0.0|               0.0|     282.0|              1.0|                        0.0|                     0.0|                 0.0|                     3|          4|                     4|                            2|                     118|    0|                 (114,[0],[1.0])|      (4187,[282],[1.0])|                  (3,[1],[1.0])|                           (77,[0],[1.0])|                        (12,[0],[1.0])|                     (1,[0],[1.0])|\n",
            "|  4|/organization/aci...|           Acid Labs|             -   |operating|         USA| Santa Monica|             1|        2003|         Q1|12.0|/organization/aci...|           0.0|                  0.0|                   USA|                seed|           118.0|/organization/aci...|          None| /organization/prysm|                  USA| /organization/prysm|              null|     0.0|               0.0|      26.0|              0.0|                        0.0|                     0.0|                 0.0|                     1|         12|                     0|                            0|                     118|    0|                 (114,[0],[1.0])|       (4187,[26],[1.0])|                  (3,[0],[1.0])|                           (77,[0],[1.0])|                        (12,[0],[1.0])|                     (1,[0],[1.0])|\n",
            "|  5|/organization/acl...|Aclaris Therapeutics|     4,20,00,000 |operating|         USA|      Malvern|             2|        2012|         Q1| 3.0|/organization/acl...|           6.0|                  0.0|  USA, USA, USA, US...|venture, venture,...|           118.0|/organization/acl...|          None|/organization/acl...|                  USA|/organization/acl...|              null|     0.0|               0.0|     217.0|              0.0|                        0.0|                     0.0|                 0.0|                     2|          3|                     6|                            0|                     118|    0|                 (114,[0],[1.0])|      (4187,[217],[1.0])|                  (3,[0],[1.0])|                           (77,[0],[1.0])|                        (12,[0],[1.0])|                     (1,[0],[1.0])|\n",
            "|  6|/organization/ada...|          Adaptivity|     2,48,45,955 | acquired|         USA|    Charlotte|             6|        2007|         Q1| 8.0|/organization/ada...|           9.0|                 3.75|  USA, USA, USA, US...|venture, venture,...|           118.0|/organization/ada...|          None|/organization/ada...|                  USA|/organization/ada...|              null|     1.0|               0.0|      92.0|              0.0|                        0.0|                     0.0|                 0.0|                     6|          8|                     9|                            3|                     118|    1|                 (114,[0],[1.0])|       (4187,[92],[1.0])|                  (3,[0],[1.0])|                           (77,[0],[1.0])|                        (12,[0],[1.0])|                     (1,[0],[1.0])|\n",
            "|  7|/organization/aer...| Aerpio Therapeutics|     6,30,00,000 |operating|         USA|   Cincinnati|             4|        2011|         Q1| 4.0|/organization/aer...|          16.0|                  1.5|  USA, USA, CHE, US...|venture, venture,...|           118.0|/organization/aer...|          None|/organization/aer...|                  USA|/organization/aer...|              null|     0.0|               0.0|      72.0|              0.0|                        0.0|                     0.0|                 0.0|                     4|          4|                    16|                            1|                     118|    0|                 (114,[0],[1.0])|       (4187,[72],[1.0])|                  (3,[0],[1.0])|                           (77,[0],[1.0])|                        (12,[0],[1.0])|                     (1,[0],[1.0])|\n",
            "|  8| /organization/aider|               Aider|          44,645 |operating|         KOR|San Francisco|             1|        2012|         Q2|2.75| /organization/aider|           2.0|                 1.25|              KOR, KOR|    venture, venture|           118.0| /organization/aider|          None| /organization/aider|                  KOR| /organization/aider|              null|     0.0|              19.0|       0.0|              1.0|                       20.0|                     0.0|                 0.0|                     1|          2|                     2|                            1|                     118|    0|                (114,[19],[1.0])|        (4187,[0],[1.0])|                  (3,[1],[1.0])|                          (77,[20],[1.0])|                        (12,[0],[1.0])|                     (1,[0],[1.0])|\n",
            "|  9|/organization/alt...|            Altobeam|     2,60,00,000 |operating|         CHN|      Beijing|             4|        2007|         Q2|7.75|/organization/alt...|          14.0|                 1.75|  USA, USA, USA, CH...|venture, venture,...|           118.0|/organization/alt...|          None|/organization/alt...|                  USA|/organization/alt...|              null|     0.0|               3.0|      11.0|              1.0|                        0.0|                     0.0|                 0.0|                     4|          7|                    14|                            1|                     118|    0|                 (114,[3],[1.0])|       (4187,[11],[1.0])|                  (3,[1],[1.0])|                           (77,[0],[1.0])|                        (12,[0],[1.0])|                     (1,[0],[1.0])|\n",
            "| 10|/organization/amt...|AMTT Digital Serv...|     1,00,00,000 |operating|         CHN|      Beijing|             1|        2008|         Q1| 7.0|/organization/amt...|           1.0|                  1.0|                   HKG|             venture|           118.0|/organization/amt...|          None|/organization/amt...|                  HKG|/organization/amt...|              null|     0.0|               3.0|      11.0|              0.0|                       14.0|                     0.0|                 0.0|                     1|          7|                     1|                            1|                     118|    0|                 (114,[3],[1.0])|       (4187,[11],[1.0])|                  (3,[0],[1.0])|                          (77,[14],[1.0])|                        (12,[0],[1.0])|                     (1,[0],[1.0])|\n",
            "| 11|/organization/ana...|       Analyte Logic|        7,00,000 |operating|         USA|       Denver|             1|        2008|         Q1| 7.0|/organization/ana...|           0.0|                  0.0|                   USA|                seed|           118.0|/organization/ana...|          None| /organization/prysm|                  USA| /organization/prysm|              null|     0.0|               0.0|      35.0|              0.0|                        0.0|                     0.0|                 0.0|                     1|          7|                     0|                            0|                     118|    0|                 (114,[0],[1.0])|       (4187,[35],[1.0])|                  (3,[0],[1.0])|                           (77,[0],[1.0])|                        (12,[0],[1.0])|                     (1,[0],[1.0])|\n",
            "| 12|/organization/apo...|            Aposense|     2,23,00,000 |operating|         ISR|  Petah Tiqva|             3|        1996|         Q1|19.0|/organization/apo...|          12.0|                10.75|  USA, ISR, USA, IS...|venture, venture,...|           118.0|/organization/apo...|          None|/organization/apo...|                  ISR|/organization/apo...|              null|     0.0|               7.0|     265.0|              0.0|                        8.0|                     0.0|                 0.0|                     3|         19|                    12|                           10|                     118|    0|                 (114,[7],[1.0])|      (4187,[265],[1.0])|                  (3,[0],[1.0])|                           (77,[8],[1.0])|                        (12,[0],[1.0])|                     (1,[0],[1.0])|\n",
            "| 13|/organization/arg...|             arGEN-X|     6,19,49,000 |operating|         NLD|    Rotterdam|             3|        2012|         Q1| 3.0|/organization/arg...|          18.0|                  0.0|  FRA, USA, USA, NL...|venture, venture,...|           118.0|/organization/arg...|          None|/organization/arg...|                  NLD|/organization/arg...|              null|     0.0|              13.0|     307.0|              0.0|                       19.0|                     0.0|                 0.0|                     3|          3|                    18|                            0|                     118|    0|                (114,[13],[1.0])|      (4187,[307],[1.0])|                  (3,[0],[1.0])|                          (77,[19],[1.0])|                        (12,[0],[1.0])|                     (1,[0],[1.0])|\n",
            "| 14|/organization/art...|     Articulinx Inc.|       22,00,000 |operating|         USA|    Cupertino|             1|        2007|         Q1| 8.0|/organization/art...|           1.0|                 5.75|                   USA|             venture|           118.0|/organization/art...|          None|/organization/art...|                  USA|/organization/art...|              null|     0.0|               0.0|      88.0|              0.0|                        0.0|                     0.0|                 0.0|                     1|          8|                     1|                            5|                     118|    0|                 (114,[0],[1.0])|       (4187,[88],[1.0])|                  (3,[0],[1.0])|                           (77,[0],[1.0])|                        (12,[0],[1.0])|                     (1,[0],[1.0])|\n",
            "| 15|/organization/ast...|  Aster Data Systems|     5,30,00,000 | acquired|         USA|   San Carlos|             4|        2005|         Q3| 9.5|/organization/ast...|          18.0|                 0.25|  USA, USA, USA, US...|venture, venture,...|           118.0|/organization/ast...|          None|/organization/ast...|                  USA|/organization/ast...|              null|     1.0|               0.0|     150.0|              2.0|                        0.0|                     0.0|                 0.0|                     4|          9|                    18|                            0|                     118|    1|                 (114,[0],[1.0])|      (4187,[150],[1.0])|                  (3,[2],[1.0])|                           (77,[0],[1.0])|                        (12,[0],[1.0])|                     (1,[0],[1.0])|\n",
            "| 16|/organization/atm...|          Atmospheir|       14,00,000 |operating|         USA|     Brooklyn|             2|        2011|         Q4|3.25|/organization/atm...|           0.0|                  0.0|                   USA|                seed|           118.0|/organization/atm...|          None| /organization/prysm|                  USA| /organization/prysm|              null|     0.0|               0.0|      49.0|              3.0|                        0.0|                     0.0|                 0.0|                     2|          3|                     0|                            0|                     118|    0|                 (114,[0],[1.0])|       (4187,[49],[1.0])|                      (3,[],[])|                           (77,[0],[1.0])|                        (12,[0],[1.0])|                     (1,[0],[1.0])|\n",
            "| 17|/organization/att...|        Attune Foods|       50,00,000 |operating|         USA|San Francisco|             1|        2006|         Q1| 9.0|/organization/att...|           0.0|                  0.0|                   USA|                seed|           118.0|/organization/att...|          None| /organization/prysm|                  USA| /organization/prysm|              null|     0.0|               0.0|       0.0|              0.0|                        0.0|                     0.0|                 0.0|                     1|          9|                     0|                            0|                     118|    0|                 (114,[0],[1.0])|        (4187,[0],[1.0])|                  (3,[0],[1.0])|                           (77,[0],[1.0])|                        (12,[0],[1.0])|                     (1,[0],[1.0])|\n",
            "| 18|/organization/atvenu|              atVenu|       11,00,000 |operating|         USA|    Sausalito|             1|        2012|         Q1| 3.0|/organization/atvenu|           1.0|                  2.0|                   CAN|                seed|           118.0|/organization/atvenu|          None|/organization/atvenu|                  CAN|/organization/atvenu|              null|     0.0|               0.0|     349.0|              0.0|                        6.0|                     1.0|                 0.0|                     1|          3|                     1|                            2|                     118|    0|                 (114,[0],[1.0])|      (4187,[349],[1.0])|                  (3,[0],[1.0])|                           (77,[6],[1.0])|                        (12,[1],[1.0])|                     (1,[0],[1.0])|\n",
            "| 19| /organization/avast|      AVAST Software|    10,00,00,000 |operating|         CZE|       Prague|             2|        1988|         Q1|27.0| /organization/avast|           2.0|                 22.5|              GBR, USA|private_equity, p...|           118.0| /organization/avast|          None| /organization/avast|                  USA| /organization/avast|              null|     0.0|              37.0|     212.0|              0.0|                        0.0|                     4.0|                 0.0|                     2|         27|                     2|                           22|                     118|    0|                (114,[37],[1.0])|      (4187,[212],[1.0])|                  (3,[0],[1.0])|                           (77,[0],[1.0])|                        (12,[4],[1.0])|                     (1,[0],[1.0])|\n",
            "+---+--------------------+--------------------+-----------------+---------+------------+-------------+--------------+------------+-----------+----+--------------------+--------------+---------------------+----------------------+--------------------+----------------+--------------------+--------------+--------------------+---------------------+--------------------+------------------+--------+------------------+----------+-----------------+---------------------------+------------------------+--------------------+----------------------+-----------+----------------------+-----------------------------+------------------------+-----+--------------------------------+------------------------+-------------------------------+-----------------------------------------+--------------------------------------+----------------------------------+\n",
            "only showing top 20 rows\n",
            "\n"
          ]
        }
      ],
      "source": [
        "df_coded.show()"
      ]
    },
    {
      "cell_type": "markdown",
      "metadata": {
        "id": "FUEDzSq13rsG"
      },
      "source": [
        "\n",
        "Data split, defining vector assemblers & standard scaler and creating labellist"
      ]
    },
    {
      "cell_type": "code",
      "execution_count": null,
      "metadata": {
        "id": "ZcsTHOZr3vTD"
      },
      "outputs": [],
      "source": [
        "# split dataset into training, validaiton and testing dataset\n",
        "training_df, validation_df, testing_df = df_coded.randomSplit([0.6, 0.3, 0.1])"
      ]
    },
    {
      "cell_type": "code",
      "execution_count": null,
      "metadata": {
        "colab": {
          "base_uri": "https://localhost:8080/"
        },
        "id": "o9LmQ1xN30F9",
        "outputId": "28d8af0a-54ca-472b-e9df-e00acc75f7b3"
      },
      "outputs": [
        {
          "data": {
            "text/plain": [
              "['numeric_funding_rounds',\n",
              " 'numeric_age',\n",
              " 'numeric_count_investor',\n",
              " 'numeric_time_to_first_funding',\n",
              " 'numeric_total_raised_usd']"
            ]
          },
          "execution_count": 29,
          "metadata": {
            "tags": []
          },
          "output_type": "execute_result"
        }
      ],
      "source": [
        "training_df.columns[30:35]"
      ]
    },
    {
      "cell_type": "code",
      "execution_count": null,
      "metadata": {
        "colab": {
          "base_uri": "https://localhost:8080/"
        },
        "id": "ezy5qwM84oTe",
        "outputId": "471f799e-e2d2-4e72-c942-aab1db4a2166"
      },
      "outputs": [
        {
          "data": {
            "text/plain": [
              "['onehotencoded_country_code_index',\n",
              " 'onehotencoded_city_index',\n",
              " 'onehotencoded_quarter_new_index',\n",
              " 'onehotencoded_investor_country_code_index',\n",
              " 'onehotencoded_funding_round_type_index',\n",
              " 'onehotencoded_category_final_index']"
            ]
          },
          "execution_count": 30,
          "metadata": {
            "tags": []
          },
          "output_type": "execute_result"
        }
      ],
      "source": [
        "training_df.columns[36:42]"
      ]
    },
    {
      "cell_type": "code",
      "execution_count": null,
      "metadata": {
        "id": "oUeZlYsO5Haw"
      },
      "outputs": [],
      "source": [
        "# define vector assembler with the features for the modelling\n",
        "vanum = VectorAssembler(). \\\n",
        "      setInputCols(training_df.columns[30:35]). \\\n",
        "      setOutputCol('features_nonstd')"
      ]
    },
    {
      "cell_type": "code",
      "execution_count": null,
      "metadata": {
        "id": "oTA1QXoP5LpN"
      },
      "outputs": [],
      "source": [
        "# define vector assembler with the features for the modelling\n",
        "vacate = VectorAssembler(). \\\n",
        "      setInputCols(training_df.columns[36:42]). \\\n",
        "      setOutputCol('featurescate')"
      ]
    },
    {
      "cell_type": "code",
      "execution_count": null,
      "metadata": {
        "id": "U38mX6ex5OIV"
      },
      "outputs": [],
      "source": [
        "va = VectorAssembler(). \\\n",
        "      setInputCols(['featuresnum','featurescate']). \\\n",
        "      setOutputCol('features')"
      ]
    },
    {
      "cell_type": "code",
      "execution_count": null,
      "metadata": {
        "id": "WXfCTaHu5QkA"
      },
      "outputs": [],
      "source": [
        "std = feature.StandardScaler(withMean=True, withStd=True).setInputCol('features_nonstd').setOutputCol('featuresnum')"
      ]
    },
    {
      "cell_type": "code",
      "execution_count": null,
      "metadata": {
        "id": "SSogkbno5UBy"
      },
      "outputs": [],
      "source": [
        "# suffix for investor country code because intersection with county_code of  the companies\n",
        "invcc = ['{}_{}'.format(a, \"investor\") for a in indexers[3].labels]"
      ]
    },
    {
      "cell_type": "code",
      "execution_count": null,
      "metadata": {
        "id": "Xh_gzS3f5XDD"
      },
      "outputs": [],
      "source": [
        "# define labellist by using the indexer stages for displaying the weights & loadings\n",
        "labellist = training_df.columns[30:35] + indexers[0].labels + indexers[1].labels + indexers[2].labels + invcc + indexers[4].labels + indexers[5].labels"
      ]
    },
    {
      "cell_type": "code",
      "execution_count": null,
      "metadata": {
        "colab": {
          "base_uri": "https://localhost:8080/"
        },
        "id": "wi6qlUeU5hq-",
        "outputId": "38c3d097-5b91-4abc-b6c7-fa790f4b75c6"
      },
      "outputs": [
        {
          "name": "stdout",
          "output_type": "stream",
          "text": [
            "null dummy for onehotencoded_country_code_index\n",
            "115\n",
            "['USA', 'GBR', 'CAN', 'CHN', 'DEU', 'FRA', 'IND', 'ISR', 'ESP', 'RUS', 'SWE', 'AUS', 'ITA', 'NLD', 'IRL', 'SGP', 'BRA', 'CHL', 'JPN', 'KOR', 'CHE', 'DNK', 'FIN', 'ARG', 'BEL', 'HKG', 'TUR', 'AUT', 'NOR', 'POL', 'MEX', 'PRT', 'BGR', 'ARE', 'NZL', 'IDN', 'ZAF', 'CZE', 'MYS', 'UKR', 'EST', 'HUN', 'TWN', 'THA', 'COL', 'PHL', 'GRC', 'LTU', 'PER', 'NGA', 'KEN', 'EGY', 'LUX', 'ROM', 'VNM', 'DZA', 'JOR', 'PAK', 'ISL', 'SVK', 'LBN', 'CYP', 'LVA', 'URY', 'CYM', 'GHA', 'SVN', 'KHM', 'SRB', 'UGA', 'HRV', 'BGD', 'SAU', 'TZA', 'CRI', 'PAN', 'BMU', 'BWA', 'GTM', 'AZE', 'BHR', 'BLR', 'DOM', 'MAR', 'MLT', 'SLV', 'TUN', 'ARM', 'BHS', 'CMR', 'ECU', 'GIB', 'KWT', 'LAO', 'MDA', 'MKD', 'MMR', 'NIC', 'NPL', 'ALB', 'BRN', 'CIV', 'JAM', 'JEY', 'LIE', 'MAF', 'MCO', 'MOZ', 'MUS', 'OMN', 'SOM', 'SYC', 'TTO', 'UZB', 'ZWE']\n",
            "null dummy for onehotencoded_city_index\n",
            "['San Francisco', 'New York', 'London', 'Palo Alto', 'Austin', 'Cambridge', 'Seattle', 'Chicago', 'Los Angeles', 'Mountain View', 'San Diego', 'Beijing', 'Boston', 'Paris', 'Toronto', 'San Jose', 'Sunnyvale', 'Berlin', 'Atlanta', 'Santa Clara', 'Singapore', 'San Mateo', 'Moscow', 'Santiago', 'Dublin', 'Redwood City', 'Santa Monica', 'Shanghai', 'Vancouver', 'Tel Aviv', 'Menlo Park', 'Bangalore', 'Tokyo', 'Seoul', 'Portland', 'Denver', 'Houston', 'Pittsburgh', 'Barcelona', 'Dallas', 'Irvine', 'Boulder', 'Washington', 'Madrid', 'Mumbai', 'Nashville', 'Philadelphia', 'Waltham', 'Montr�al', 'Brooklyn', 'Miami', 'Amsterdam', 'Las Vegas', 'Bellevue', 'Buenos Aires', 'Cleveland', 'S�o Paulo', 'Minneapolis', 'Scottsdale', 'Salt Lake City', 'Stockholm', 'Durham', 'Fremont', 'Copenhagen', 'Helsinki', 'Indianapolis', 'Munich', 'Hong Kong', 'St Louis', 'Vienna', 'Shenzhen', 'Baltimore', 'Cincinnati', 'Raleigh', 'Sydney', 'Madison', 'New Delhi', 'Ottawa', 'Ann Arbor', 'Columbus', 'Milan', 'Berkeley', 'Istanbul', 'Lexington', 'Tampa', 'Burlington', 'Carlsbad', 'Fayetteville', 'Cupertino', 'Oakland', 'San Antonio', 'Reston', 'Charlotte', 'Memphis', 'Providence', 'Santa Barbara', 'Calgary', 'Hamburg', 'Campbell', 'Rockville', 'Bethesda', 'Dubai', 'Louisville', 'Pasadena', 'Plano', 'Richmond', 'Birmingham', 'Boca Raton', 'Gurgaon', 'Melbourne', 'Phoenix', 'South San Francisco', 'Wilmington', 'Edinburgh', 'Manchester', 'Pleasanton', 'Burlingame', 'Los Gatos', 'Z�rich', 'Orlando', 'Valencia', 'Arlington', 'Chennai', 'Los Altos', 'Newark', 'Redmond', 'Woburn', 'Columbia', 'La Jolla', 'Hyderabad', 'Mclean', 'Sofia', 'Newton', 'Fort Lauderdale', 'Milpitas', 'Omaha', 'Culver City', 'Emeryville', 'Albuquerque', 'Aliso Viejo', 'Alpharetta', 'Herzliya', 'Tucson', 'Kirkland', 'Detroit', 'Morrisville', 'New Haven', 'Princeton', 'Beverly Hills', 'Provo', 'San Carlos', 'Chattanooga', 'Greenville', 'Mexico City', 'Oslo', 'Richardson', 'Rochester', 'Brentwood', 'Jakarta', 'Newport Beach', 'Bedford', 'Venice', 'West Hollywood', 'Charlottesville', 'Cologne', 'Foster City', 'Franklin', 'Honolulu', 'Jerusalem', 'Rio De Janeiro', 'Guangzhou', 'Saint Paul', 'Hangzhou', 'Little Rock', 'Lucerne Valley', 'Stamford', 'Waterloo', 'Wayne', 'Herndon', 'San Ramon', 'Buffalo', 'El Segundo', 'Oxford', 'Budapest', 'Irles', 'Sacramento', 'Warsaw', 'Liverpool', 'Marlborough', 'New Orleans', 'Ramat Gan', 'Tallinn', '�an', 'Bristol', 'Cape Town', 'Espoo', 'Greenwood Village', 'Jacksonville', 'Jersey City', 'Noida', 'Quebec', 'Saint Petersburg', 'Brisbane', 'Broomfield', 'Colorado Springs', 'Halifax', 'Kansas City', 'Andover', 'Athens', 'Boise', 'Edmonton', 'Knoxville', 'Prague', 'Rome', 'Burnaby', 'Geneva', 'Irving', 'Malvern', 'Milwaukee', 'Oklahoma City', 'Sheffield', 'St. Petersburg', 'Alexandria', 'Bangkok', 'Bogot�', 'Brussels', 'Hayward', 'Plymouth', 'Pune', 'Taipei', 'Tempe', 'Vilnius', 'Champaign', 'Englewood', 'Glasgow', 'Reading', 'Torrance', 'Burbank', 'Concord', 'Eden Prairie', 'Lausanne', 'Lima', 'Littleton', 'Malm�', 'Minnetonka', 'M�nchen', 'Netanya', 'Newcastle Upon Tyne', 'San Bruno', 'San Clemente', 'Beaverton', 'Bothell', 'Framingham', 'Mississauga', 'Roncade', 'Saint Louis', 'Troy', 'Tulsa', 'Woodland Hills', 'Gainesville', 'Gaithersburg', 'Huntsville', 'Kuala Lumpur', 'Norcross', 'Orem', 'Petah Tiqva', 'Sandy', 'Somerville', 'Centennial', 'Chandler', 'Charleston', 'Draper', 'Kiev', 'Lafayette', 'Lincoln', 'Lyon', 'Victoria', 'Auckland', 'Aurora', 'Chapel Hill', 'Dresden', 'Kitchener', 'Overland Park', 'Portsmouth', \"Ra'anana\", 'Reno', 'Sarasota', 'Addison', 'Belfast', 'Belmont', 'Cary', 'Fairfield', 'Fort Collins', 'Fort Worth', 'Longmont', 'Lund', 'Miami Beach', 'Nairobi', 'Watertown', 'Wellesley', 'West Palm Beach', 'Annapolis', 'Cork', 'Glendale', 'King Of Prussia', 'Nashua', 'Norwalk', 'Rotterdam', 'Santa Ana', 'Santa Rosa', 'Syracuse', 'Wellington', 'Westlake Village', 'Alameda', 'Billerica', 'Conshohocken', 'Deutsch', 'Encinitas', 'Evanston', 'Fairfax', 'Gothenburg', 'Roswell', 'Abingdon', 'Amman', 'Baton Rouge', 'Belo Horizonte', 'Chengdu', 'Delray Beach', 'Henderson', 'Kfar Saba', 'Lehi', 'Manhattan Beach', 'Naples', 'Perth', 'Petaluma', 'San Rafael', 'Sherman Oaks', 'Silver Spring', 'Westborough', 'Westminster', 'Acton', 'Bath', 'Bend', 'Beverly', 'Issaquah', 'Lakewood', 'Marina Del Rey', 'Needham', 'Santa Cruz', 'Sausalito', 'South Jordan', 'Westport', 'Akron', 'Blacksburg', 'D�sseldorf', 'Germantown', 'Grand Rapids', 'Kalamazoo', 'Kista', 'Lagos', 'Lisbon', 'Lowell', 'Natick', 'Porto', 'Richmond Hill', 'Southampton', 'Stuttgart', 'Virginia Beach', 'Ashburn', 'Bethlehem', 'Bloomington', 'Boulogne-billancourt', 'Brighton', 'Calabasas', 'Costa Mesa', 'Edison', 'Eindhoven', 'Guildford', 'Hamilton', 'Ithaca', 'Lake Forest', 'Lancaster', 'Lawrence', 'Livermore', 'Morristown', 'Norwich', 'Nottingham', 'Palm Beach Gardens', 'Pompano Beach', 'Suzhou', 'Worcester', 'Yoqne`am `illit', 'Asheville', 'Bel', 'Bridgewater', 'Caesarea', 'Cardiff', 'Carrollton', 'Chelmsford', 'Coventry', 'Duluth', 'Goleta', 'Hanover', 'Hillsboro', 'Leeds', 'Markham', 'Mesa', 'Mill Valley', 'Oulu', 'Redwood Shores', 'Rehovot', 'Reykjav�k', 'Santa Fe', 'Southfield', 'Sterling', 'Walnut Creek', 'Weston', 'Zug', 'Ahmedabad', 'Arlington Heights', 'Bengaluru', 'Bozeman', 'Chevy Chase', 'Des Moines', 'Dulles', 'Frederick', 'Glen Allen', 'G�teborg', 'Ho Chi Minh City', 'Karlsruhe', 'Link�ping', 'Maynard', 'Medford', 'Nanjing', 'Naperville', 'Park City', 'Roseville', 'San Juan Capistrano', 'Saratoga', 'Shelton', 'Solana Beach', 'Torino', 'Tustin', 'Clearwater', 'Del Mar', 'Delft', 'Delhi', 'Doylestown', 'Encino', 'Exton', 'Folsom', 'Frankfurt', 'Galway', 'Haifa', 'Hoboken', 'Hudson', 'Laguna Hills', 'Livingston', 'Melbourne Beach', 'Montclair', 'Montevideo', 'Montpellier', 'Nantes', 'Parsippany', 'Petaling Jaya', 'Potsdam', 'Poway', 'Radnor', 'Riga', 'Roanoke', 'Somerset', 'Spokane', 'Surry Hills', 'Wakefield', 'Warwick', 'West Lafayette', 'White Plains', 'Aberdeen', 'Allentown', 'Bucharest', 'Cairo', 'Carmel', 'Chatsworth', 'Coral Gables', 'Frisco', 'Huntington Beach', 'Jena', 'Kent', 'Kolkata', 'Krak�w', 'Kyiv', 'Lawrenceville', 'Lenexa', 'Lisle', 'Lod', 'Long Beach', 'Makati', 'Marietta', 'Middleton', 'Northbrook', 'Orange', 'Porto Alegre', 'Red Bank', 'Roma', 'Salem', 'Temecula', 'Toledo', 'Turku', 'Westwood', 'Auburn', 'Beirut', 'Belgrade', 'Bilbao', 'Bloomfield Hills', 'Bologna', 'Branford', 'Bratislava', 'Carson City', 'Cedar Rapids', 'Chantilly', 'Cranbury', 'Davis', 'East Hartford', 'Golden', 'Haidian', 'Hartford', 'Heidelberg', 'Hermosa Beach', 'Itasca', 'It�', 'Kennesaw', 'Loveland', 'Maple Grove', 'Marseille', 'Mckinney', 'Milford', 'Minato', 'Monmouth Junction', 'Plymouth Meeting', 'Quincy', 'Riverside', 'Rogers', 'San Luis Obispo', 'Springfield', 'Tampere', 'Tartu', 'Trondheim', 'Valbonne', 'Ventura', 'Walnut', 'Wroclaw', 'Accra', 'Alachua', 'American Fork', 'Amherst', 'Antwerp', 'Basel', 'Bentonville', 'Burnsville', 'Daresbury', 'Eagan', 'Fishers', 'Florence', 'Fort Lee', 'Gent', 'Grenoble', 'Guilford', 'Hod Hasharon', 'Horsham', 'Independence', 'Kampala', 'Lahore', 'Lake Oswego', 'Laval', 'Lebanon', 'Ljubljana', 'Long Island City', 'Manhattan', 'Missoula', 'Newbury', 'Newtown', 'Owings Mills', 'Rennes', 'Rolling Meadows', 'San Leandro', 'Schaumburg', 'Seminole', 'Seville', 'Skokie', 'Stony Brook', 'Sugar Land', 'Tallahassee', 'Thousand Oaks', 'Tualatin', 'Utrecht', 'Westford', 'Wexford', 'Windsor', 'Winnipeg', 'Winston Salem', 'Winter Park', 'Woodinville', 'Agoura Hills', 'Anaheim', 'Anchorage', 'Beachwood', 'Bellingham', 'Blue Bell', 'Boxborough', 'Camarillo', 'Chanhassen', 'Chaoyang', 'Chesterfield', 'Clifton', 'Corte Madera', 'Corvallis', 'Deerfield Beach', 'El Dorado Hills', 'Foothill Ranch', 'Fort Washington', 'Hardwick', 'Haryana', 'Hollywood', 'Johannesburg', 'Kelowna', 'Kenansville', 'K�ln', 'Laguna Beach', 'Leiden', 'Leipzig', 'Marlton', 'Mission Viejo', 'Morgan Hill', 'Mount Pleasant', 'Napa', 'New Albany', 'North Andover', 'North Billerica', 'Novato', 'Olathe', 'Or Yehuda', 'Oxton', 'Phnom Penh', 'Ponte Vedra Beach', \"Rosh Ha'ayin\", 'Scotts Valley', 'Sebastopol', 'South Plainfield', \"St. John's\", 'Suwanee', 'Tacoma', 'Uppsala', 'Van Nuys', 'Wa Keeney', 'Warszawa', 'Xiamen', 'Aachen', 'Aarhus', 'Basingstoke', 'Belvedere Tiburon', 'Bloomfield', 'Bordeaux', 'Cedar Park', 'Cheyenne', 'Chico', 'College Park', 'Conway', 'Corona', 'Covington', 'Curitiba', 'Decatur', 'Dhaka', 'Dover', 'Eugene', 'Farmington', 'Florian�polis', 'Flower Mound', 'Fort Myers', 'Frankfurt Am Main', 'Fredericton', 'Fresno', 'Georgetown', 'Grand Cayman', 'Greensboro', 'Haarlem', 'Hackensack', 'Hampton', 'Hanoi', 'Hawthorne', 'Helsingborg', 'Iowa City', 'Issy-les-moulineaux', 'Jackson', 'Lake Mary', 'Lakeland', 'Largo', 'Leesburg', 'Limerick', 'Lindon', 'Los Altos Hills', 'Macclesfield', 'Maplewood', 'Marblehead', 'Melville', 'Mercer Island', 'Middletown', 'Midvale', 'Milton', 'Misgav', 'Monroe', 'M�laga', 'Newtown Square', 'Norfolk', 'Odessa', 'Ogden', 'Palm Harbor', 'Rancho Santa Margarita', 'Redondo Beach', 'Regensburg', 'Southborough', 'Southlake', 'Stuart', 'Tewksbury', 'Tianjin', 'Treviso', 'Turin', 'Vista', 'West Chester', 'Westfield', 'Woodbridge', 'Aix-en-provence', 'Albany', 'Alcobendas', 'Ames', 'Aventura', 'Avon', 'Bonn', 'Bowie', 'Boynton Beach', 'Bracknell', 'Bridgeport', 'Brookline', 'Bundangdong', 'California City', 'Carpinteria', 'Carthage', 'Cheltenham', 'Chongqing', 'Coral Springs', 'Cracow', 'Danville', 'Dayton', 'Deerfield', 'East Lansing', 'East Providence', 'Elmhurst', 'Erlangen', 'Esch-sur-alzette', 'Excelsior', 'Exeter', 'Farmington Hills', 'Florham Park', 'Fort Wayne', 'Fullerton', 'Fuzhou Shi', 'Gloucester', 'Greenwich', 'Guadalajara', 'Hallandale', 'Hasselt', 'Hauppauge', 'Jupiter', 'Kanata', 'Larkspur', 'Leuven', 'Lewes', 'Lille', 'Louvain-la-neuve', 'Lubbock', 'Lugano', 'Lutherville Timonium', 'Luxemburg', 'Malibu', 'Marion', 'Mi Wuk Village', 'Millbrae', 'Neuilly-sur-seine', 'Newport', 'Newtonville', 'Nicosia', 'North Vancouver', 'Pensacola', 'Plainfield', 'Playa Vista', 'Potomac', 'Powell', \"Saint John's\", 'Sammamish', 'Sewickley', 'Simi Valley', 'Sioux Falls', 'Solna', 'State College', 'Subiaco', 'Sudbury', 'Swindon', 'Thunder Bay', 'Toulouse', 'Towson', 'Vi�a Del Mar', 'Wallingford', 'Wan Chai', 'West Des Moines', 'West Hartford', 'Williston', 'Woodstock', 'Xian', 'Yardley', 'York', 'Allen', 'Allston', 'Ashland', 'Bainbridge Island', 'Barrington', 'Batavia', 'Bedminster', 'Beltsville', 'Berwyn', 'Bonita Springs', 'Bountiful', 'Brno', 'California', 'Castle Rock', 'Chester', 'City Of Industry', 'Clarkton', 'Cochin', 'Courbevoie', 'Cumberland', 'Cypress', 'C�rdoba', 'Daejeon', 'Darien', 'Darmstadt', 'Dedham', 'Dubendorf', 'Dunwoody', 'Ecublens', 'Edmond', 'El Cajon', 'Erie', 'Falls Church', 'Firenze', 'Fountain Valley', 'Garden City', 'Gateshead', 'Ghent', 'Gilbert', 'Glen Burnie', 'Green Bay', 'Guangdong', 'Hamden', 'Harrisburg', 'Hopkinton', 'Huddersfield', 'Hunt Valley', 'Huntington', 'Jaipur', 'Kelayres', 'Kingston', 'Lab�ge', 'Langhorne', 'Lansing', 'Leawood', 'Lewisville', 'Limassol', 'Lisboa', 'Loughborough', 'Maidenhead', 'Mansfield', 'Mason', 'Merrimack', 'Middlesbrough', 'Milton Keynes', 'Misgav Dov', 'Moffett Field', 'Monrovia', 'Montgomery', 'Moorestown', 'Mougins', 'Murrieta', 'Napoli', 'Ness Ziona', 'New Brunswick', 'Newcastle', 'North Little Rock', 'Norwood', 'Oak Brook', 'Oak Park', 'Oakville', 'Oceanside', 'Orono', 'Orsay', 'Osaka', 'Palma De Mallorca', 'Pasig', 'Port St. Lucie', 'Portola Valley', 'Poznan', 'Praha', 'Rancho Cucamonga', 'Rocklin', 'Round Rock', 'Rye', 'Saint-cloud', 'San Sebasti�n De Los Reyes', 'Sandston', 'Schlieren', 'Secaucus', 'Sheung Wan', 'South Bend', 'Southport', 'Spartanburg', 'Springdale', 'Stafford', 'Stockton', 'Studio City', 'Surrey', 'Swansea', 'Taiwan', 'Tullahoma', 'Valhalla', 'Vernon Hills', 'Vero Beach', 'Verona', 'Wayland', 'Westlake', 'Wheat Ridge', 'Woking', 'Yavne', 'Youngstown', 'A Coru�a', 'Abuja', 'Altadena', 'Altrincham', 'Ambler', 'Amersfoort', 'Ankara', 'Arvada', 'Azusa', 'Bala Cynwyd', 'Ballerup', 'Beaver Creek', 'Bellaire', 'Bellshill', 'Berkeley Heights', 'Berlin-baumschulenweg', 'Bet Shemesh', 'Bidart', 'Bolingbrook', 'Bolton Upon Dearne', 'Boulogne', 'Bras�lia', 'Brea', 'Brescia', 'Bronx', 'Brownsburg', 'Brunswick', 'Bryan', 'Bryn Mawr', 'Buena Park', 'Cagliari', 'Canberra', 'Canton', 'Catania', 'Cedar Knolls', 'Changsha', 'Charlottetown', 'Clinton', \"Coeur D'alene\", 'Coppell', 'Coralville', 'Crestwood', 'Croydon', 'Danbury', 'Danvers', 'Davie', 'Denton', 'Didcot', 'Dundee', 'East Orange', 'East Palo Alto', 'Eatontown', 'Elyria', 'Escondido', 'Essen', 'Eveleth', 'Evergreen', 'Fair Lawn', 'Fargo', 'Feasterville Trevose', 'Foxboro', 'Fredericksburg', 'Frederiksberg', 'Freeport', 'Gardena', 'Gatineau', 'Gdansk', 'Glastonbury', 'Glen Ellyn', 'Grand Prairie', 'Great Neck', 'Greenwood', 'G�za', 'Harrogate', 'Herisau', 'High Point', 'Highland Park', 'Hsinchu', 'Incline Village', 'Innsbruck', 'Irvington', 'Iselin', 'Katy', 'Kazan', 'Kenmore', 'Kochi', 'Kongens Lyngby', 'Kowloon City', 'Laguna Niguel', 'Las Condes', 'Laurel', 'Leicester', 'Liberty Lake', 'Lincolnshire', 'Livonia', 'Lochristi', 'Logan', 'Longwood', 'Mainz', 'Mannheim', 'Martinsried', 'Marysville', 'Maumelle', 'Mechelen-bovelingen', 'Meridian', 'Modena', 'Moncton', 'Monroeville', 'Mont-saint-guibert', 'Monterrey', 'Montreuil', 'Morgantown', 'Murray', 'New Hope', 'Norman', 'North Brunswick', 'North Sydney', 'Northborough', 'Nossa Senhora Das Gra�as', 'Novosibirsk', 'Oak Ridge', 'Oakmont', 'Odense', 'Old Saybrook', 'Olympia', 'Omez', 'Or Akiva', 'Palermo', 'Panama City', 'Paramus', 'Park Ridge', 'Pembroke Pines', 'Pittsford', 'Pleasant Grove', 'Port Washington', 'Prairie Village', 'Preston', 'Providencia', 'Puteaux', 'Ramat Hasharon', 'Rancho Cordova', 'Recife', 'Renton', 'Ridgeland', 'Rochester Hills', 'Roseland', 'Rotherham', 'Royal Oak', 'Saint Augustine', 'San Marcos', 'Sanibel', 'Saskatoon', 'Savage', 'Savannah', 'Schenectady', 'Seal Beach', 'Seongnam', 'Shoreline', 'Snodland', 'Solon', 'Sonoma', 'South Orange', 'St. Charles', 'Stanford', 'Starnberg', 'Suresnes', 'Tarrytown', 'Taunton', 'Teaneck', 'The Hague', 'Toluca Lake', 'Trento', 'Tucker', 'Twinsburg', 'Union', 'Vantaa', 'Wake Forest', 'Wayzata', 'Wichita', 'Wiesbaden', 'Wilkes Barre', 'Willowbrook', 'Wilsonville', 'Windermere', 'Winkelman', 'Woodcliff Lake', 'Wuhan', 'Yorba Linda', 'Zafirovo', 'Zaragoza', 'Zhuhai', 'Aalborg', 'Adelaide', 'Alamo', 'Allendale', 'Altamonte Springs', 'Amarillo', 'Amstelveen', 'Anderson', 'Apple Valley', 'Appleton', 'Aptos', 'Atherton', 'Atlantic Highlands', 'Auburndale', 'Audubon', 'Ayer', 'Bandung', 'Bangor', 'Beaconsfield', 'Beaumont', 'Bhubaneswar', 'Blaine', 'Bochum', 'Bondi', 'Bonsall', 'Bossier City', 'Bowling Green', 'Braintree', 'Brandon', 'Braunschweig', 'Breukelen', 'Brevard', 'Brookfield', 'Buffalo Grove', 'Camberley', 'Canandaigua', 'Canterbury', 'Carbondale', 'Cardiff By The Sea', 'Carlisle', 'Carlstadt', 'Casablanca', 'Caxias Do Sul', 'Cedar City', 'Chagrin Falls', 'Chandigarh', 'Changzhou', 'Charlestown', 'Chaska', 'Cherry Hill', 'Chino', 'Clyde', 'Coimbr�', 'Colchester', 'Cold Spring Harbor', 'Coleraine', 'College Station', 'Collinsville', 'Columbia City', 'Cranston', 'Crown Point', 'Cuyahoga Falls', 'Dartmouth', 'De Armanville', 'Delaware City', 'Delta', 'Denville', 'Derby', 'Dongan', 'Dortmund', 'Dorval', 'Eagle', 'East Brunswick', 'East Greenbush', 'Eau Claire', 'Edwardsville', 'Ekaterinburg', 'El Paso', 'Elk Grove Village', 'Enschede', 'Etobicoke', 'Euclid', 'Everett', 'E�lingen', 'Fairport', 'Farnborough', 'Ferndale', 'Fort Mill', 'Freiburg', 'Fribourg', 'Garden Grove', 'Gdynia', 'Gig Harbor', 'Girona', 'Glen Cove', 'Gold Coast', 'Goodyear', 'Goshen', 'Gosselies', 'Grafton', 'Granada', 'Grand Forks', 'Grand Junction', 'Grapevine', 'Grayslake', 'Greenbelt', 'Groningen', 'Guatemala City', 'Hampton Falls', 'Hastings', 'Hatfield', 'Heilbronn', 'Herlev', 'Herriman', 'Highland', 'Hilliard', 'Hillsborough', 'Hingham', 'Hinsdale', 'Hoffman Estates', 'Holmdel', 'Holon', 'Homewood', 'Idaho Falls', 'Indore', 'Inglewood', 'Islamabad', 'Jericho', 'Jinan', 'Joinville', 'Joplin', 'Jyv�skyl�', 'Kadima', 'Kahului', 'Kaiserslautern', 'Karachi', 'Kefar Netter', 'Kyoto-shi', 'Ladera Ranch', 'Lanham', 'League City', 'Leamington Spa', 'Levittown', 'Libertyville', 'Lincolnwood', 'Linz', 'Lynchburg', 'Lyndhurst', 'Lyndonville', 'Lyngby', 'Lysaker', 'Macon', 'Mahwah', 'Maia', 'Manama', 'Mandaluyong', 'Marlow', 'Martinsburg', 'Mcdonough', 'Medell�n', 'Medfield', 'Mendota', 'Mendoza', 'Metuchen', 'Middlebury', 'Midland', 'Midlothian', 'Migdal Hameq', 'Minsk', 'Miramar Beach', 'Montrose', 'Montrouge', 'Montvale', 'Mooresville', 'Moorpark', 'Morris Plains', 'Mount Laurel', 'Mount Vernon', 'Murcia', 'Muskegon', 'M�rida', 'Nagpur', 'Nes Ziyona', 'New Canaan', 'New Castle', 'New Providence', 'Newport News', 'Newton Center', 'Ngahere', 'Nice', 'North Bergen', 'North Miami Beach', 'North Palm Beach', 'Northern Washington Co', 'Northridge', 'No�in', 'Nuremberg', 'Oldenburg In Holstein', 'Oldsmar', 'Ontario', 'Pacific Palisades', 'Palaiseau', 'Palatine', 'Palm Coast', 'Palm Desert', 'Palm Springs', 'Paoli', 'Paterna', 'Peabody', 'Pelham', 'Penang', 'Peoria', 'Peterborough', 'Pisa', 'Pittsburg', 'Plainview', 'Point Pleasant Beach', 'Poole', 'Portage', 'Pozuelo De Alarc�n', 'Prahran', 'Rancho Dominguez', 'Rapid City', 'Raynham', 'River Falls', 'Riyadh', 'Rockland', 'Rockledge', 'Rohnert Park', 'Rolling Hills Estates', 'Romeoville', 'Rosamond', 'Roselle', 'Rutherford', 'Saginaw', 'Saint Cloud', 'Saint George', 'San Jos�', 'San Sebastian', 'Sandnes', 'Sandwich', 'Saratoga Springs', 'Scranton', 'Secunderabad', 'Shawnee Mission', 'Shenyang', 'Sherwood', 'Shibuya', 'Short Hills', 'Shreveport', 'Slough', 'Snohomish', 'South Charleston', 'South Melbourne', 'Southern Md Facility', 'Split', 'Spring', 'Springville', 'Starkville', 'Stellenbosch', 'Sterling Heights', 'Stevensville', 'Stockbridge', 'Stockport', 'Stoke-on-trent', 'Sundsvall', 'S�vres', 'Tel Aviv-yafo', 'Tenafly', 'Timisoara', 'Tralee', 'Tyngsboro', 'T�bingen', 'Ulm', 'Ume�', 'Union City', 'Upper Heyford', 'Upper Saddle River', 'Urbandale', 'Valparaiso', 'Vaughan', 'Vejle', 'Vellore', 'Venezia', 'Victor', 'Visalia', 'Waco', 'Warminster', 'Warrenton', 'Webster', 'Welwyn Garden City', 'Wesley Chapel', 'West Bridgewater', 'West Henrietta', 'West Orange', 'Western Junction', 'Westmount', 'Weymouth', 'Williamsburg', 'Wilmslow', 'Wilton', 'Wimbledon', 'Wixom', 'Wooster', 'W�rzburg', 'Yekaterinburg', 'Yonkers', 'Zagreb', 'Zeeland', 'Zhengzhou', 'Zwijnaarde', '�vry', 'Abbotsford', 'Abercynon', 'Abilene', 'Abu Dhabi', 'Acworth', 'Aiea', 'Alderley Edge', 'Aldershot', 'Alicante', 'Allen Park', 'Aller�d', 'Alviso', 'Amersham', 'Ancona', 'Angier', 'Ankeny', 'Antwerpen', 'Arcadia', 'Arcueil', 'Asheboro', 'Ashkelon', 'Aspen', 'Astoria', 'Astrakhan', 'Atlantic Beach', 'Atwater', 'Auburn Hills', 'Auburn University', 'Avondale', 'Baar', 'Babraham', 'Bakersfield', 'Baku-baladshary', 'Bangalore City', 'Barneveld', 'Barre', 'Barrie', 'Basking Ridge', 'Battle Ground', \"Be'er Sheva\", 'Beaufort', 'Bellefonte', 'Bene Beraq', 'Benton', 'Bergamo', 'Bertrange', 'Biddeford Pool', 'Bielefeld', 'Bielsko-biala', 'Binton', 'Birkenhead', 'Bi�vres', 'Bluffton', 'Bohemia', 'Bolzano', 'Boone', 'Boston Spa', 'Bradenton', 'Bradford', \"Braine-l'alleud\", 'Brampton', 'Brantford', 'Brecksville', 'Bremen-vegesack', 'Brentford', 'Bridgeville', 'Brockton', 'Brossard', 'Bruges', 'Brunn Am Gebirge', 'Bruxelles', 'Buford', 'Caerphilly', 'Camberwell South', 'Camborne', 'Camden', 'Campinas', 'Carson', 'Casper', 'Cebu City', 'Cedar Grove', 'Cedar Valley', 'Century City', 'Cerritos', \"Champagne-au-mont-d'or\", 'Chatham', 'Chatswood', 'Cheadle', 'Chemnitz', 'Chepstow', 'Chertsey', 'Chesapeake', 'Cheshire', 'Chiang Mai', 'Chiasso', 'Chilworth', 'China', 'Chippendale', 'Chippenham', 'Christchurch', 'Chula Vista', 'Clapiers', 'Clarence', 'Clark', 'Clermont-ferrand', 'Clifton Park', 'Clive', 'Clovis', 'Cluj', 'Cocoa', 'Coimbatore', 'Coimbra', 'Collegeville', 'Collingswood', 'Collingwood', 'Columbia Falls', 'Commerce', 'Cordova', 'Corpus Christi', 'Corrales', 'Covina', 'Crestone', 'Crook Of Devon', 'Cuenca', 'Cumming', 'Daegu', 'Daly City', 'Davao City', 'Davenport', 'Davidson', 'Daytona Beach', 'De Pere', 'Dearborn Heights', 'Deer Park', 'Delafield', 'Delaware', 'Des Plaines', 'Diamond Bar', 'Diepenbeek', 'Dornbirn', 'Downers Grove', 'Downingtown', 'Duarte', 'Dubuque', 'Duncan', 'Dunfermline', 'Durango', 'D�n Laoghaire', 'Earth City', 'Easley', 'East Granby', 'East Greenwich', 'East Setauket', 'East Stroudsburg', 'East Taunton', 'Ede', 'Edgewater', 'Egg Harbor Township', 'Eight Mile Plains', 'El Cerrito', 'Elgin', 'Elk Grove', 'Elk River', 'Elkhart', 'Ellicott City', 'Ely', 'England', 'Ernakulam', 'Evansville', 'Even Yehuda', 'Fairbanks', 'Fairhope', 'Fairmont', 'Falkenberg', 'Fall River', 'Falmouth', 'Fareham', 'Farmingdale', 'Fitchburg', 'Flagstaff', 'Flemington', 'Florida', 'Fornebu', 'Fort Smith', 'France', 'Franklin Furnace', 'Freedom', 'Frensham', 'Friendswood', 'Fulton', 'Galesburg', 'Gardner', 'Garza Garc�a', 'Gentbrugge', 'Gentilly', 'Gentofte', 'Gen�ve', 'George Town', 'Gerasdorf Bei Wien', 'Ghaziabad', 'Gibraltar', \"Giv'atayim\", 'Glen Mills', 'Glencoe', 'Glendora', 'Glenview', 'Glenwood', 'Goa', 'Goffstown', 'Gold River', 'Goldsboro', 'Grand Blanc', 'Granville', 'Graton', 'Graz', 'Great Falls', 'Gresham', 'Groton', 'Guelph', 'Guimar�es', 'G�ttingen', 'Hadley', 'Hagerstown', 'Haikou', 'Halfweg', 'Halle An Der Saale', 'Harrison', 'Hattiesburg', 'Havertown', 'Hayes', 'Haymarket', 'Hazelwood', 'Hazleton', 'Healdsburg', 'Hefei', 'Hendersonville', 'Henley On Thames', 'Hennigsdorf', 'Henniker', 'Heverlee', 'Hicksville', 'Hillside', 'Hilton Head Island', 'Hilversum', 'Hobart Town', 'Hockessin', 'Holden', 'Holliston', 'Hood River', 'Houghton Le Spring', 'Hove', 'Huntersville', 'Huntington Station', 'Hutchinson', 'Hvidovre', 'Hyannis Port', 'H�rsholm', 'Iasi', 'Ikeja', 'Ilmenau', 'Ismaning', 'Ivry-sur-seine', 'Ivyland', 'Izmir', 'Jamaica Plain', 'Jamestown', 'Janesville', 'Jasper', 'Jeddah', 'Jefferson', 'Jessup', 'Johnston', 'Jouy-en-josas', 'Jo�o Pessoa', 'Jujuy', 'J�nk�ping', 'Karlstad', 'Kathmandu', 'Katowice', 'Kenilworth', 'Kennebunk', 'Kennewick', 'Kensington', 'Kilkenny', 'Kings Langley', 'Kissimmee', 'Kloten', 'Knutsford', 'Kristiansand', 'Kunshan', 'K�benhoved', 'La Canada Flintridge', 'La Ciotat', 'La Mesa', 'Lake Geneva', 'Lake Havasu City', 'Landshut', 'Langley-on-tyne', 'Lannion', 'Lansdale', 'Lappeenranta', 'Las Cruces', 'Las Rozas', 'Latham', 'Le Pecq', 'Le Plessis-robinson', 'Lekki', 'Leonberg', 'Leopardstown', 'Lethbridge', 'Leudelange', 'Lewiston', 'Le�n', 'Limoges', 'Lincoln Park', 'Linlithgow', 'Little Elm', 'Lkan', 'Logro�o', 'Loma Linda', 'Longueuil', 'Loughton', 'Louisiana', 'Loves Park', 'Lowestoft', 'Lucca', 'Lule�', 'Lutz', 'Luzern', 'Lynnwood', 'Magdeburg-rothensee', 'Maitland', 'Malakoff', 'Malma', 'Manassas', 'Manila', 'Martinez', 'Marton-in-cleveland', 'Massy', 'Matar�', 'Matosinhos', 'Mauldin', 'Maynooth', 'Mechanicsburg', 'Medina', 'Meiningen', 'Metairie', 'Mid Florida', 'Middlefield', 'Midview City', 'Milano', 'Minnesota City', 'Mobile', \"Modi'in\", 'Mohali', 'Mojave', 'Monheim', 'Monterey Park', 'Moraga', 'Morganton', 'Morges', 'Morton Grove', 'Mount Arlington', 'Mount Kisco', 'Mountainside', 'Mt Pleasant', 'Mundelein', 'Muscle Shoals', 'Myrtle Beach', 'Mysore', 'Nampa', 'Nanaimo', 'Nanchang', 'Nantong', 'Nedlands', 'Neshkoro', 'New Lenox', 'New London', 'New Windsor', 'Newark Valley', 'Newberry', 'Newbury Park', 'Newburyport', 'Newhaven', 'Newnan', 'Newton-le-willows', 'Nizhniy Novgorod', 'Norristown', 'North Canton', 'North Charleston', 'North Hollywood', 'North Kingstown', 'North Reading', 'North Salt Lake', 'Northampton', 'Northfield', 'Norwell', 'Notting Hill', 'Novi', 'N�mes', 'O Fallon', 'Orangeburg', 'Orchard Park', 'Orinda', 'Orleans', 'Osborne', 'Osterville', 'Oviedo', 'Owensboro', 'Oxnard', 'Paisley', 'Palm Bay', 'Palm Beach', 'Pan De Az�car', 'Panama City Beach', 'Paradise Valley', 'Paran�', 'Pasching', 'Paso Robles', 'Passau', 'Paterna De Rivera', 'Peachtree City', 'Pearl River', 'Pembroke', 'Petersburg', 'Pflugerville', 'Pikesville', 'Pinckney', 'Pine Bluff', 'Pine Brook', 'Piscataway', 'Pittsfield', 'Plainsboro', 'Plan-les-ouates', 'Plattsburgh', 'Pleasant Hill', 'Pleasantville', 'Ponte Vedra', 'Pontypridd', 'Porsgrunn', 'Port Chester', 'Port Orange', 'Port Saint Lucie', 'Princeton Junction', 'Puchong New Village', 'Pullman', 'Purcellville', 'Puyallup', 'P�r', 'Qingdao', 'Qingdao Shi', 'Quakertown', 'Quarry Bay', 'Quebeck', 'Queens', 'Racine', 'Ramalhal', 'Ramonville-saint-agne', 'Rancho Mirage', 'Red Deer', 'Renens', 'Ridgefield', 'Rijswijk', 'Ringwood', 'Rishon Le Zion', 'Risskov', 'Riverview', 'Robbinsville', 'Rockford', 'Rockport', 'Rockville Centre', 'Roppongi', 'Roskilde', 'Roslyn Heights', 'Rostock', 'Roubaix', 'Runcorn', 'Saint Albans', 'Saint John', 'Saint Laurent', 'Salford', 'Salina', 'Salisbury', 'Salmiya', 'San Anselmo', 'Sandpoint', 'Sanford', 'Santa Rosa Beach', 'Santa Ynez', 'Santiago De Chuco', 'Santo Domingo Zanatepec', 'Satellite Beach', 'Sayreville', 'Scottsville', 'Sebastian', 'Selma', 'Shawnee', 'Shelburne', 'Shelbyville', 'Sherwood Park', 'Siem Reap', 'Simsbury', 'Sioux City', 'Sittingbourne', 'Skopje', 'Sligo', 'Smyrna', 'Snoqualmie', 'Snyder', 'Solihull', 'Sorocaba', 'South Glastonbury', 'South Hackensack', 'Southbank', 'Southbury', 'Southern Pines', 'Squamish', 'Staines-upon-thames', 'Staten Island', 'Stevenson Ranch', 'Stillwater', 'Stockton-on-tees', 'Stone Mountain', 'Stoneham', 'Stow', 'Strasbourg', 'Strassen', 'Streamwood', 'Sullivans Island', 'Summit', 'Sun Prairie', 'Sunderland Bridge', 'Sunrise', 'Superior', 'Surbiton', 'Sutton Saint James', 'Syosset', 'Szczecin', 'Taastrup', 'Tarboro', 'Tarpon Springs', 'Tarzana', 'Taylors', 'Terre Haute', 'Tewkesbury', 'Texas', 'Thane', 'The Woodlands', 'Thiais', 'Tigard', 'Tinley Park', 'Tirat Karmel', 'Topeka', 'Torun Polnocny', 'Tours-en-vimeu', 'Trenton', 'Tring', 'Trivandrum', 'Troms�', 'Trumbull', 'Tukwila', 'Tumwater', 'Tunis', 'Twickenham', 'Ultimo', 'Uniondale', 'Universal City', 'Ury', 'Utah', 'Vadodara', 'Valladolid', 'Valletta', 'Vauxhall', 'Vientiane', 'Villach', 'Villanova', 'Villeurbanne', 'Vimercate', 'V�ster�s', 'Waconia', 'Wadsworth', 'Wageningen', 'Waitsfield', 'Wales', 'Walldorf', 'Warren', 'Warrendale', 'Warrington', 'Waterbury', 'Waterford', 'Watford', 'Waukesha', 'Waverly', 'Waxhaw', 'Wenham', 'West Bend', 'West Caldwell', 'West End', 'West Haven', 'West Hills', 'West Jordan', 'West Linn', 'West Roxbury', 'West Sacramento', 'Weybridge', 'Whippany', 'Whitby', 'White Bear Lake', 'White Horse Beach', 'White River Junction', 'Whitewater', 'Wilbraham', 'Williamstown', 'Winterthur T�ss', 'Witney', 'Wollongong', 'Wolverhampton', 'Woodbury', 'Woodridge', 'Woodside', 'Wuhu', 'Wynnewood', 'Yaba', 'Yangon', 'Yangzhou', 'Yehud', 'Yerevan', 'Ypsilanti', 'Yuba City', 'Zellik', '�cully', \"'s-hertogenbosch\", '6 October City', 'Abertillery', 'Abidjan', 'Ad Dammam', 'Admington', 'Admiralty', 'Affula', 'Ahmadabad', 'Aiken', 'Ajax', 'Alabaster', 'Albert', 'Albertville', 'Albion Park', 'Alcester', 'Alcorc�n', 'Alcoy', 'Aldergrove', 'Alderley Park', 'Aldermaston', 'Alfreton', 'Alkmaar', 'Alliance', 'Allison Park', 'Alma', 'Almere', 'Alpine', 'Altavilla Vicentina', 'Alton Barnes', 'Alva', 'Alvorada', 'American Falls', 'Amesbury', 'Amite', 'Amityville', 'Anacortes', 'Andheri', 'Angel Fire', 'Angeles City', 'Angola', 'Ankeveen', 'Anna', 'Annandale', 'Annecy', 'Ansan', 'Ansonia', 'Anth�e', 'Antigo', 'Antioch', 'Antioquia', 'Apex', 'Apollo', 'Ar Riyadh', 'Arbent', 'Arcata', 'Archamps', 'Ardmore', 'Arenzano', 'Arequipa', 'Armadale', 'Armes', 'Armonk', 'Arnhem', 'Arnold', 'Arruda Dos Vinhos', 'Artarmon', 'Arusha', 'Asbury Park', 'Aschheim', 'Ascot', 'Ashdod', 'Ashford', 'Asiago', 'Asker', 'Asti', 'Athlone', 'Atlantic City', 'Attleboro Falls', 'Aurangabad', 'Aveiro', 'Avenal', 'Avoca', 'Avon Park', 'Avon-les-roches', 'Avondale Estates', 'Awka', 'Axbridge', 'Aydie', 'Ayr', 'Baarn', 'Bacup', 'Baden', 'Baesweiler', 'Bagamoyo', 'Bagneux', 'Bailey', 'Baku', 'Balbriggan', 'Baldwin Park', 'Baldwinsville', 'Balerna', 'Ballsbridge', 'Ballstad', 'Ballymoe', 'Balmain', 'Bamberg', 'Ban Nong Kong Chak', 'Banbury', 'Bankok', 'Baoji', 'Bar Harbor', 'Bar Hill', 'Baracaldo', 'Barendrecht', 'Barhamsville', 'Barney', 'Barrowford', 'Bastrop', 'Batesville', 'Baxter', 'Bay Shore', 'Bayonne', 'Baytown', 'Bayville', 'Bear', 'Beaucouz�', 'Beauzelle', 'Beckingham', 'Beech Island', 'Beira', 'Beit-shemesh', 'Bel Air', 'Belcamp', 'Belgaum', 'Belleair Beach', 'Belleville', 'Bellflower', 'Belmont-sur-lausanne', 'Beloit', 'Benicia', 'Bensalem', 'Bensheim', 'Benson', 'Bentley', 'Benton Harbor', 'Beppu', 'Bergisch Gladbach', 'Berkeley Springs', 'Bermondsey', 'Bern', 'Bernalillo', 'Bernardsville', 'Bernried', 'Bernville', 'Berthoud', 'Besan�on', 'Bet Halevi', 'Bethany', 'Bethany Beach', 'Bethel', 'Bethel Park', 'Bettembourg', 'Bhandup', 'Bicester', 'Bideford', 'Bierges', 'Bietigheim-bissingen', 'Bigfork', 'Billancourt', 'Billings', 'Bingen', 'Bioggio', 'Birdsboro', 'Birker�d', 'Bismarck', 'Bizau', 'Black Mountain', 'Blackburn', 'Blackrock', 'Blackshear', 'Blind River', 'Bloemfontein', 'Bloomingdale', 'Bloomsburg', 'Blue Point', 'Blumenau', 'Blyth', 'Blythe', 'Boadilla Del Monte', 'Bobcaygeon', 'Bodafors', 'Boecillo', 'Boerne', 'Bolivar', 'Bolton', 'Bombay', 'Bonanza', 'Bonheiden', 'Bonneville', 'Boom', 'Booneville', 'Boonton', 'Boonville', 'Borehamwood', 'Bormujos', 'Boskoop', 'Botafogo', 'Botany', 'Boucherville', 'Boulder City', 'Boulder Creek', 'Boulevard', 'Bournemouth', 'Boyes Hot Springs', 'Bozen', 'Bragan�a', 'Brainerd', 'Brand', 'Brandywine', 'Branson', 'Brasil', 'Brasov', 'Bray', 'Breinigsville', 'Brenham', 'Brewster', 'Briarcliff Manor', 'Brick', 'Bridgehampton', 'Bridgend', 'Brillion', 'Bristow', 'Bromborough', 'Brook Park', 'Brookhaven', 'Brookings', 'Brookshire', 'Browns Mills', 'Brownsboro', 'Brownville', 'Bryanston', 'Bryant', 'Bryson', 'Buctouche', 'Buda', 'Buda�rs', 'Budd Lake', 'Buderim', 'Buea', 'Buena', 'Bundoora', 'Bunnik', 'Burleigh Heads', 'Burnet', 'Burnley', 'Burtonsville', 'Busan', 'Bushey', 'Bustan Hagalil', 'Butler', 'Bydgoszcz', 'B�gles', 'Cabarete', 'Cabo San Lucas', 'Cadillac', 'Cadiz', 'Caernarfon', 'Cagnes-sur-mer', 'Calcutta', 'Calmar', 'Calverton', 'Cambori�', 'Cambria', 'Cambridge City', 'Camillus', 'Camp Hill', 'Campbellsville', 'Campeche', 'Canal Flats', 'Canfield', 'Cannington', 'Cannock', 'Canoas', 'Canoga Park', 'Canonsburg', 'Cantanhede', 'Cantemir', 'Canton Center', 'Canyon Country', 'Canyon Lake', 'Caparica', 'Cape Coral', 'Cape Girardeau', 'Capitol Heights', 'Capurso', 'Caracas', 'Carleton Place', 'Carmarthen', 'Carmel Valley', 'Carmichael', 'Carnegie', 'Carol Stream', 'Cartaxo', 'Casselberry', 'Castelfranco Veneto', 'Castelplanio', 'Castignano', 'Castine', 'Castlebar', 'Castleblayney', 'Castleton', 'Castricum', 'Causeway Bay', 'Cave City', 'Cedar Falls', 'Center', 'Centerport', 'Centerville', 'Central Falls', 'Central Valley', 'Centralia', 'Centreville', 'Centro', 'Centurion', 'Cerda�ola', 'Ceres', 'Cergy-pontoise', 'Chadds Ford', 'Chalfont', 'Chamali�res-sur-loire', 'Champlin', 'Changshu', 'Chappaqua', 'Charlbury', 'Charles Town', 'Chaville', 'Cheadle Hulme', 'Cheboksary', 'Chelsea', 'Chelyabinsk-40', 'Cheraw', 'Cheshunt', 'Chester Heights', 'Chesterland', 'Chesterville', 'Chestnut Hill', 'Chetumal', 'Chevalet', 'Chewton Mendip', 'Chi', 'Chiba', 'Chicago Ridge', 'Chichester', 'Chicora', 'Chihuahua', 'Chipping Norton', 'Chisinau', 'Chislehurst', 'Chonburi', 'Christiansburg', 'Ch�tillon', 'Circleville', 'Cirencester', 'Cison Di Valmarino', 'Citrus Heights', 'Ciudad Real', 'Clare', 'Claremont', 'Clarence Center', 'Clarenville', 'Clarion', 'Clarksville', 'Clayton', 'Clear Lake', 'Cleburne', 'Clever', 'Clifton Heights', 'Clinton Township', 'Closter', 'Cluny', 'Coal City', 'Cockeysville', 'Cocoa Beach', 'Coffeyville', 'Cohasset', 'Col', 'Coldwater', 'Colleyville', 'Collierville', 'Coloma', 'Colombo', 'Colomiers', 'Colonial Heights', 'Colorado City', 'Columbiana', 'Commerce Township', 'Como', 'Compi�gne', 'Cona', 'Congers', 'Congleton', 'Conifer', 'Connellys Springs', 'Conroe', 'Coombs', 'Copacabana', 'Coram', 'Coraopolis', 'Corby', 'Corinth', 'Cornwell', 'Cortlandt Manor', 'Cotati', 'Cotia', 'Cottage Grove', 'Cottesloe', 'Cotuit', 'Courtenay', 'Coushatta', 'Cou�ron', 'Cowes', 'Cranfield', 'Crawley', 'Cree', 'Creedmoor', 'Cresskill', 'Creswell', 'Crofton', 'Croissy-beaubourg', 'Crook', 'Cross Hands', 'Crosswicks', 'Croton On Hudson', 'Crozet', 'Crystal Lake', 'Crystal River', 'Cuajimalpa', 'Cuarte De Huerva', 'Cuautitl�n Izcalli', 'Cumbernauld', 'Cundinamarca', 'Curepipe', 'Cwmbran', 'Cyberport', 'Cymer', 'C�ceres', 'Dacono', 'Dacula', 'Dalian Shi', 'Dalston', 'Damansara New Village', 'Damascus', 'Damastown', 'Danderyd', 'Dandong', 'Dania', 'Dar Es Salaam', 'Darbhanga', 'Darjeeling', 'Dayville', 'De Goorn', 'De Soto', 'Del Valle', 'Den Haag', 'Denham Springs', 'Denpasar', 'Derio', 'Derry', 'Derwood', 'Destin', 'Deuil-la-barre', 'Deurle', 'Deurne', 'Devens', 'Deventer', 'Devizes', 'Dewsbury', 'Dickinson', 'Dickson', 'Diegem', 'Diemen', 'Dillon', 'Dinas Powys', 'Dki Jakarta', 'Dnepropetrovsk', 'Dnipropetrovsk', 'Docklands', 'Dongguancun', 'Donostia-san Sebasti�n', 'Doral', 'Dorking', 'Dos Hermanas', 'Douglas', 'Douglasville', 'Drexel Hill', 'Drummondville', 'Duisburg And Hamborn', 'Dumfries', 'Dunkirk', 'Dunstable', 'Durban', 'Duvall', 'D�rth', 'East Amherst', 'East Bend', 'East China', 'East Elmhurst', 'East Hanover', 'East Northport', 'East Peoria', 'East Perth', 'East Rochester', 'East Rutherford', 'East Sandwich', 'East Syracuse', 'East Windsor Hill', 'Eastlake', 'Edenbridge', 'Edenton', 'Edmonds', 'Edwards', 'Effingham', 'El Eulma', 'Elche', 'Elkhorn', 'Elkins', 'Elkins Park', 'Elko', 'Elkton', 'Ellesmere Port', 'Ellsworth', 'Elmsford', 'Elstree', 'Emmetten', 'Emporia', 'Enderby', 'Endicott', 'Enfield Lock', 'Ennis', 'Enola', 'Enterprise', 'Epalinges', 'Ephrata', 'Erandio', 'Erfurt-bindersleben', 'Erkrath', 'Erlanger', 'Esbjerg', 'Eschen', 'Espina', 'Esplugas De Llobregat', 'Essex', 'Essex Junction', 'Estado De M�xico', 'Estevan', 'Etchingham', 'Eureka', 'Eurville', 'Euston', 'Euthal', 'Ewing', 'Eysins', 'Fair Oaks', 'Fairborn', 'Fairlawn', 'Fall City', 'Fallston', 'Falun', 'Faridabad', 'Farington', 'Farmers Branch', 'Farmersville', 'Farnham', 'Farnsfield', 'Farra Di Soligo', 'Farrington Gurney', 'Farum', 'Feeding Hills', 'Feldafing', 'Feldkirchen-westerham', 'Fenton', 'Fernandina Beach', 'Ferrara', 'Ferrisburg', 'Ferri�res', 'Finans', 'Finca Elisa', 'Finchley', 'Fisciano', 'Flanders', 'Fleet', 'Fleming Island', 'Flins-sur-seine', 'Flowery Branch', 'Flowood', 'Follina', 'Fontenay-sous-bois', 'Fordingbridge', 'Forest Hills', 'Forest Park', 'Forres', 'Forsyth', 'Fort Atkinson', 'Fort Dodge', 'Fort Mcmurray', 'Fort Meade', 'Fort Mitchell', 'Fort Myers Beach', 'Fort Nelson', 'Fort Ripley', 'Fort Saskatchewan', 'Fort Walton Beach', 'Foshan', 'Fox Lake', 'Frankfort', 'Franklin Park', 'Franklin Square', 'Franktown', 'Fredensborg', 'Fredericia', 'Fredrikstad', 'Freyung', 'Friday Harbor', 'Friedburg', 'Frontenac', 'Frunze', 'Fujisawa', 'Fukuoka', 'Furtwangen', 'Fuzhou', 'Fyshwick', 'F�rth', 'Galveston', 'Gambrills', 'Gan Yoshiya', 'Garbsen', 'Garching Bei M�nchen', 'Gardanne', 'Gardendale', 'Garforth', 'Garland', 'Garrettsville', 'Gastonia', 'Gates Mills', 'Gatesville', 'Gauteng', 'Gauting', 'Gembloux', 'Gem�nden', 'Genk', 'Genova', 'Georgia', 'German', 'Gerning', 'Gif-sur-yvette', 'Gilching', 'Gilly', 'Gilman', 'Gilroy', 'Gladstone', 'Glasnevin', 'Glattbrugg', 'Glenrothes', 'Glenshaw', 'Glostrup', 'Godalming', 'Goes', 'Gojan', 'Gometz-la-ville', 'Goodlettsville', 'Gordon', 'Goregaon', 'Gorinchem', 'Gradignan', 'Grady', 'Graham', 'Grand Haven', 'Grand Ledge', 'Grand-rosi�re', 'Granite Bay', 'Grasse', 'Great Barrington', 'Great Bookham', 'Great River', 'Greeley', 'Greenbrae', 'Greendale', 'Greenfield', 'Greenvale', 'Gretna', 'Griffin', 'Griffith', 'Grimes', 'Grodziec', 'Groot-bijgaarden', 'Grosse Pointe Woods', 'Gro�wallstadt', 'Gruibingen', 'Guanajuato', 'Guapor�', 'Guayabo', 'Guiyang', 'Gujrat', 'Gulberg', 'Gulf Breeze', 'Gurdon', 'Guwahati', 'Gu�rande', 'Gwinn', 'G�menos', 'G�vle', 'Hacienda Heights', 'Hackberry', 'Hackettstown', 'Haddenham', 'Haddonfield', 'Haderslev', 'Hafnarfj�r�ur', 'Hagerman', 'Haidershofen', 'Hailsham', 'Hainau', 'Hainesport', 'Halden', 'Halle-neustadt', 'Halmstad', 'Hamel', 'Hamilton Bay', 'Hammel', 'Hammenh�g', 'Hammersmith', 'Hampden', 'Hampshire', 'Hanford', 'Haninge', 'Hanover Park', 'Harare', 'Harbin', 'Harker Heights', 'Harlech', 'Harrisonburg', 'Harrow On The Hill', 'Harvey', 'Hasbrouck Heights', 'Hatboro', 'Haverhill', 'Hawley', 'Haworth', 'Hayden', 'Haydock', 'Haywards Heath', 'Hazelton', 'Heathrow', 'Heber City', 'Hector', 'Hedehusene', 'Heiloo', 'Heist-op-den-berg', 'Hellerup', 'Helsing�r', 'Hempstead', 'Hengoed', 'Hercules', 'Hermosillo', 'Heroldsberg', 'Herten', 'Herzogenaurach', 'Heslington', 'Hessett', 'Heswall', 'Hickory', 'Hidalgo', 'Higashi-shinagawa', 'Hiller�d', 'Hirschau', 'Hjallerup', 'Hobart', 'Hobe Sound', 'Hoddesdon', 'Hoevelaken', 'Holiday', 'Holliday', 'Holmes Chapel', 'Holstebro', 'Holtzheim', 'Holzgerlingen', 'Homburg', 'Homestead', 'Hond�n De Los Frailes', 'Honfleur', 'Hoofddorp', 'Hoorn', 'Hope', 'Hopkins', 'Hornsby', 'Hornsyld', 'Horseshoe Bay', 'Horten', 'Hoschton', 'Hospitalet De Llobregat', 'Hot Springs National Park', 'Houghton', 'Howell', 'Hubbard', 'Hubei', 'Huddinge', 'Huins', 'Huis Ter Heide', 'Huizhou', 'Humble', 'Humboldt', 'Hummelstown', 'Hun', 'Hundsdorf', 'Huntingdon', 'Hurst', 'Hutto', 'Hvalstad', 'Hyderabad-deccan', 'Hyogo', 'Hyssna', 'H�rn�sand', 'H�rouville-saint-clair', 'Idyllwild', 'Igualada', 'Ilford', 'Illkirch-graffenstaden', 'Imperial', 'Incheon', 'Indaiatuba', 'Indian Rocks Beach', 'Indiana', 'Indio', 'Inman', 'Inola', 'Interlaken', 'Inverness', 'Inyokern', 'Io�nnina', 'Ipswich', 'Isabella', 'Islandia', 'Isques', 'Italy', 'Itzehoe', 'It�harju', 'Ivrea', 'Izurza', 'Jabalpur', 'Jacksonville Beach', 'Jaffa-tel Aviv', 'Jaffrey', 'Jakarta Pusat', 'Jal', 'Jalna', 'Jamison', 'Japan', 'Jenkintown', 'Jenks', 'Jessheim', 'Jiangyan', 'Jiangyin', 'Jiaxing', 'Jinhua', 'Jodhpur', 'Johannesberg', 'Johnson City', 'Joinville-le-pont', 'Jonesboro', 'Joppa', 'Jorhat', 'Joshua Tree', 'Jo�ni�', 'Juiz De Fora', 'Jundia� Do Sul', 'Justin', 'Jyderup', 'J�mtland', 'Kaarina', 'Kafr Saba', 'Kahuku', 'Kajaani', 'Kalangala', 'Kalimoni', 'Kamakura', 'Kampong Tantaya', 'Kanab', 'Kanagawa', 'Kapaa', 'Kapolei', 'Karlskrona', 'Karnes City', 'Kassel', 'Katonah', 'Kaukauna', 'Kaunas', 'Kawasaki Si', 'Kaysville', 'Kearney', 'Kearneysville', 'Kearny', 'Kecskem�t', 'Keego Harbor', 'Keene', 'Kefar Sava', 'Keizer', 'Keller', 'Kemerovo', 'Kempele', 'Kemptville', 'Kendall Park', 'Kendallville', 'Kerrville', 'Keswick', 'Kfar Tavor', 'Kharkov', 'Khopoli', 'Kidderminster', 'Kihei', 'Kilauea', 'Kildare', 'Killeen', 'Kimberley', 'Kimberton', 'Kings Park', 'Kingston Upon Thames', 'Kingstree', 'Kingwood', 'Kinondoni', 'Kinsale', 'Kintore', 'Kittanning', 'Kjoge', 'Klagenfurt', 'Klaipeda', 'Kleinmachnow', 'Kobe', 'Koblenz', 'Kokomo', 'Kolbermoor', 'Kolding', 'Komotin�', 'Kormangala', 'Kors�r', 'Kosice', 'Kovilpatti', 'Krasnoyarsk', 'Kuala Lumpor', 'Kufstein', 'Kula', 'Kunming', 'Kuopio', 'Kure Beach', 'Kyle', 'K�lln-reisiek', \"L'union\", 'La', 'La France', 'La Garenne-colombes', 'La Madeleine', 'La Mirada', 'La Muela', 'La Puente', 'La Rochelle', 'La Tronche', 'Labbeck', 'Lachine', 'Ladson', 'Lages', 'Lahaina', 'Laindon', 'Lake Arthur', 'Lake Charles', 'Lake City', 'Lake Elsinore', 'Lake Linden', 'Lake Placid', 'Lake Wales', 'Lake Worth', 'Lake Zurich', 'Lambertville', 'Land O Lakes', 'Landenberg', 'Lansdowne', 'Larchmont', 'Larnaka', 'Lasalle', 'Lauderhill', 'Laufen', 'Laupheim', 'Le Chesnay', 'Le Kremlin-bic�tre', 'Le Mans', 'Le Petit Paris', 'Le Rheu', 'Ledbury', 'Lees Summit', 'Legnano', 'Lehavim', 'Lehigh Acres', 'Leiderdorp', 'Leigh-on-sea', 'Leighton Buzzard', 'Leiria', 'Leiva', 'Lejre', 'Lemitar', 'Leobersdorf', 'Leoma', 'Leominster', 'Leopoldshafen', 'Les Acacias', 'Leverkusen', 'Lewis Center', 'Liberty', 'Liberty Center', 'Libourne', 'Lieshout', 'Liestal', 'Lilburn', 'Lillestr�m', 'Limhamn', 'Limington', 'Lincroft', 'Lindale', 'Lindau', 'Linden', 'Linthicum Heights', 'Linyi', 'Liszki', 'Litchfield', 'Lithia', 'Lititz', 'Little Falls', 'Little Meadows', 'Little Neck', 'Little River', 'Li�ge', 'Llanfair-dyffryn-clwyd', 'Locust', 'Locust Grove', 'Lombard', 'Lometa', 'Lommel', 'Long Valley', 'Longmeadow', 'Lorca', 'Lorton', 'Los Alamos', 'Louisburgh', 'Lower Nicola', 'Lucerne', 'Ludhiana', 'Ludwigshafen Am Rhein-oggersheim', 'Lugo', 'Lumberton', 'Lummen', 'Lunenburg', 'Luton', 'Lutsk', 'Lviv', 'Lyle', 'Lymington', 'Lymm', 'Lynbrook', 'Lyss', 'L�beck', 'L�gst�r', 'L�neburg', 'L�vis', 'M C B H Kaneohe Bay', 'Ma', 'Maarn', 'Maastricht', 'Mabelvale', 'Macedonia', 'Macei�', 'Macungie', 'Madhapur', 'Madison Heights', 'Madisonville', 'Madurai', 'Mafra', 'Maidstone', 'Maine', 'Malvern Wells', 'Mamaroneck', 'Manalapan', 'Manassa', 'Mangalore', 'Manila Heights Subdivision', 'Manitowoc', 'Manno', 'Mansfield Center', 'Manson', 'Manton', 'Mantova', 'Mantua', 'Manukau', 'Manukau City', 'Maple Ridge', 'Maple Valley', 'Mapleton', 'Mar Del Plata', 'Marac�s', 'Marbella', 'Marche-en-famenne', 'Marcus Hook', 'Maribor', 'Maricopa', 'Marigot', 'Marina', 'Marion Station', 'Marke', 'Markyate', 'Maroubra', 'Maro�li', 'Marquette', 'Mars', 'Martillac', 'Maryland Heights', 'Mascot', 'Massagno', 'Massanas', 'Massapequa', 'Massillon', 'Matawan', 'Mather', 'Matlock', 'Matthews', 'Mattoon', 'Maumee', 'Maurepas', 'Mayan Baruch', 'Mc Cordsville', 'Mc Lean', 'Mcalester', 'Mcallen', 'Mchenry', 'Mcminnville', 'Mechanicsville', 'Meerut', 'Melksham', 'Melrose', 'Mendham', 'Mentor', 'Mere', 'Meriden', 'Mesquite', 'Metamora', 'Methuen', 'Metz-tessy', 'Mexicanos', 'Meyreuil', 'Miami Lakes', 'Miamisburg', 'Miass', 'Michigan Center', 'Middleburg', 'Middlesex', 'Midland Park', 'Midrand', 'Midsomer Norton', 'Miesbach', 'Mikkeli', 'Mill Creek', 'Mill Hall', 'Millbrook', 'Milton Bryant', 'Minas Gerais', 'Mineola', 'Mineral Wells', 'Mirandola', 'Mishawaka', 'Mission', 'Mission Hills', 'Missouri City', 'Mitaka', 'Mi�ano Menor', 'Mj�mna', 'Mogadishu', 'Moirans', 'Moline', 'Mombasa', 'Monaca', 'Moncalieri', 'Monona', 'Monroe Township', 'Mont-royal', 'Montauban-de-picardie', 'Montauroux', 'Montebelluna', 'Monterey', 'Montgomeryville', 'Monticello', 'Montmel�', 'Montpelier', 'Montreuil-sous-bois', 'Mora', 'Morgan', 'Morganville', 'Moriarty', 'Morlaix', 'Moscow Mills', 'Moskva', 'Mosman', 'Motley', 'Moultrie', 'Mount Dora', 'Mount Horeb', 'Mount Juliet', 'Mountain Pass', 'Muenchen', 'Muenster', 'Mukwonago', 'Mulgrave', 'Mullan', 'Muntinlupa City', 'Murfreesboro', 'Murphy', 'Muscat', 'Muscatine', 'Musselburgh', 'Mysen', 'M�lndal', 'M�l�y', 'M�nster-sarmsheim', 'M�rignac', 'Naarden', 'Naberezhnyye Chelny', 'Nahant', 'Nairn', 'Naivasha', 'Nanping', 'Nasr City', 'Nasrapur', 'Nassau', 'Natanya', 'Natchitoches', 'National City', 'Naucalpan De Ju�rez', 'Navacchio', 'Nazareth', 'Nazareth Illit', 'Neenah', 'Nelson', 'Neptune', 'Netherlands', 'Neuchatel', 'Neuilly-le-brignon', 'Neustadt An Der Weinstra�e', 'Neutral Bay', 'Nevada City', 'Neve Ilan', 'New Berlin', 'New Brighton', 'New Britain', 'New Buffalo', 'New Concord', 'New Farm', 'New Gloucester', 'New Holland', 'New Jersey', 'New Lagos', 'New Milford', 'New Port Richey', 'New Ross', 'New Town', 'New Waterford', 'New Westminster', 'Newcastle Under Lyme', 'Newfoundland', 'Newington', 'Newmarket', 'Newport Coast', 'Newport-on-tay', 'Newquay', 'Nicholasville', 'Nieuwegein-zuid', 'Nieuwer Amstel', 'Nivelles', 'Nivolas-vermelle', 'Niwot', 'Nizhniy Tagil', 'Noblesville', 'Noisy-le-grand', 'Noisy-le-roi', 'Nokia', 'Noordwijk', 'Nordborg', 'Normal', 'Normanton', 'Norrk�ping', 'Norrt�lje', 'North Adams', 'North Arlington', 'North Augusta', 'North Barrow', 'North Brookfield', 'North Conway', 'North Dartmouth', 'North East', 'North Hampton', 'North Haven', 'North Hills', 'North Kansas City', 'North Liberty', 'North Myrtle Beach', 'North Olmsted', 'North Ridgeville', 'North Tazewell', 'North Versailles', 'North Wales', 'Northvale', 'Nova', 'Novi Sad', 'Nuevo Le�n', 'Nungambakkam', 'Nutts Corner', 'N�rnberg', 'N�rum', 'Oakdale', 'Oakland Park', 'Oaklands', 'Oakleigh', 'Oaks', 'Oberhaching', 'Oberlin', 'Ocala', 'Ocean Springs', 'Octeville-sur-mer', 'Odiham', 'Odintsovo', 'Oeiras', 'Okemos', 'Okmulgee', 'Old Chatham', 'Old Greenwich', 'Old Lyme', 'Oldbury', 'Oldenzaal', 'Olivet', 'Olney', 'Ol�mpia', 'Omiya', 'Omsk', 'Oneonta', 'Onida', 'Oostburg', 'Oosterhout', 'Opelika', 'Oporto', 'Orefield', 'Orland Park', 'Orly', 'Oroville', 'Orpington', 'Osijek', 'Osnabr�ck', 'Osorno', 'Osterreicher', 'Ottawa Lake', 'Owasso', 'Oyster Bay', 'Paddock Wood', 'Paderborn', 'Padua', 'Paducah', 'Pagosa Springs', 'Pahoa', 'Paignton', 'Pala', 'Palm City', 'Palma Del R�o', 'Palmetto', 'Palmyra', 'Pampa', 'Pampisford', 'Pamplona', 'Paragould', 'Pardubice', 'Paris Crossing', 'Parisi', 'Parker', 'Parkersburg', 'Parlier', 'Parma', 'Partille', 'Pasco', 'Patchogue', 'Paterson', 'Patras', 'Paulsboro', 'Pavia', 'Pawtucket', 'Pearland', 'Pedro Leopoldo', 'Pefferlaw', 'Pekin', 'Pell City', 'Pendleton', 'Pennington', 'Pennsauken', 'Peoria Heights', 'Peregian Beach', 'Perg', 'Perm', 'Peru', 'Pescara', 'Pessac', 'Petah Tiqwa', 'Petit-quevilly', 'Petoskey', 'Peynier', 'Pfaffenhofen', 'Phla', 'Phuket', 'Picayune', 'Pickerington', 'Piedmont', 'Pilar De La Horadada', 'Pinedale', 'Pingdu', 'Pinner', 'Pipersville', 'Pitstone', 'Pitt Meadows', 'Pittem', 'Pittsboro', 'Plainville', 'Plaistow', 'Planegg', 'Plant City', 'Plantation', 'Playa Del Rey', 'Pleasant Prairie', 'Pleasant Ridge', 'Plouzan�', 'Plum Branch', 'Plzen', 'Pocopson', 'Pointe-claire', 'Pomeroy', 'Pomona', 'Ponca City', 'Pontault', 'Pontefract', 'Pontevedra', 'Port Allen', 'Port Angeles', 'Port Hueneme Cbc Base', 'Port Huron', 'Port Orchard', 'Port Richey', 'Port Townsend', 'Portmarnock', 'Porto Salvo', 'Post Mills', 'Potter Valley', 'Potts Point', 'Poughkeepsie', 'Poulsbo', 'Prato', 'Prescott', 'Pretoria', 'Prince George', 'Prior Lake', 'Prospect', 'Puchheim', 'Puchong', 'Puc�n', 'Puerto De Andraitx', 'Puerto Madero', 'Puerto Varas', 'Puerto Viejo', 'Punta Gorda', 'Purchase', 'Putnam', 'Puurs', 'Pyle', 'Pyrmont', 'Qiryat Bialik', 'Qiryat Ono', 'Qiryat Shmona', 'Quanzhou', 'Quedgeley', 'Queensbury', 'Quepos', 'Quer�taro', 'Quezon City', 'Quierschied', 'Quilcene', 'Quinlan', 'Quito', 'Quzhou', \"Ra'ananna\", 'Radebeul', 'Radford', 'Ramadan City', 'Ramat Yishai', 'Ramenskoye', 'Ramona', 'Ramotswa', 'Ramsey', 'Rancho Palos Verdes', 'Rancho Santa Fe', 'Randallstown', 'Randburg', 'Ravensburg', 'Rawalpindi Cantonment', 'Rayleigh', 'Red Oak', 'Redding', 'Redlands', 'Reeds Spring', 'Reepham', 'Regau', 'Reggio Nell Emilia', 'Reigate', 'Reinach', 'Rensselaer Falls', 'Retford', 'Reutlingen', 'Revel', 'Revelstoke', 'Rex', 'Rexburg', 'Rialto', 'Ribeir�o Pr�to', 'Richfield', 'Richland', 'Richmond Upon Thames', 'Rickmansworth', 'Ridge Spring', 'Ridgefield Park', 'Ridgewood', 'Ringsend', 'Rio Branco', 'Rio Grande Do Sul', 'Ripon', 'Ripton', 'Rishon Letsiyon', 'Rising Sun', 'River Edge', 'River Forest', 'Riverbank', 'Riverton', 'Roca', 'Rock Hill', 'Rock Island', 'Rock Springs', 'Rockaway', 'Rockfield', 'Rockingham', 'Rockwall', 'Rocky Mount', 'Rocky River', 'Roland', 'Rolle', 'Romainville', 'Romsey', 'Ronkonkoma', 'Rootstown', 'Rosario Del Tala', 'Rosciano', 'Rosebud', 'Rosedale', 'Roslyn', 'Rosmalen', 'Rostov-on-don', 'Rosyth', 'Rotkreuz', 'Rotorua', 'Rouen', 'Round Lake', 'Roxbury', 'Roy', 'Royal Tunbridge Wells', 'Royal Wootton Bassett', 'Royalston', 'Royston', 'Rugby', 'Ruidoso Downs', 'Ruschlikon', 'Rushville', 'Ruskin', 'Russellville', 'Russian Mission', 'Rutland', 'Ryde', 'R�ckeve', 'R�dlin', 'Saanichton', 'Sabetha', 'Sachse', 'Saco', 'Saffron Walden', 'Sagle', 'Sahuarita', 'Saint Andrews', 'Saint Bees', 'Saint Bonaventure', 'Saint Catharines', 'Saint Charles', 'Saint Clair Shores', 'Saint Gallen', 'Saint Helens', 'Saint James', 'Saint Louis Park', 'Saint Michael', 'Saint Peters', 'Saint-aubin-de-m�doc', 'Saint-denis-sur-loire', 'Saint-genis-pouilly', 'Saint-germain-en-laye', 'Saint-gilles', 'Saint-ismier', 'Saint-laurent', 'Saint-lazare-de-bellechasse', 'Saint-louis-et-parahou', 'Saint-martin-des-champs', 'Saint-priest-ligoure', 'Saint-�tienne-vall�e-fran�aise', 'Salaberry-de-valleyfield', 'Salamanca', 'Salerno', 'Salzburg', 'Samara', 'San Benito', 'San Bernardino', 'San Casciano Val Di Pesa', 'San Crist�bal De La Laguna', 'San Dimas', 'San Gabriel', 'San Isidro', 'San Lazzaro', 'San Luis Potos�', 'San Miniato', 'San Pablo', 'San Pedro', 'San Polo', 'San Salvador', 'San Vicente', 'Sandy Hook', 'Sandy Spring', 'Sandyford', 'Sanhe', 'Sankt Gallen', 'Sankt Ruprecht An Der Raab', 'Santa Catarina', 'Santa Clarita', 'Santa Fe Springs', 'Santa Maria', 'Santander', 'Santee', 'Santo Stefano Di Cadore', 'Sarnen', 'Sarpsborg', 'Sartell', 'Sartrouville', 'Sassari', 'Sautee Nacoochee', 'Sawbridgeworth', 'Saybrook', 'Scandia', 'Scarborough', 'Scarsdale', 'Schagen', 'Schalksm�hle', 'Schertz', 'Schiller Park', 'Schindellegi', 'Schuttrange', 'Schuyler Lake', 'Schwarzenbruck', 'Schwechat', 'Schwetzingen', 'Scituate', 'Scoresby', 'Scotch Plains', 'Sea Cliff', 'Seabrook', 'Seafield', 'Seaford', 'Sedgefield', 'Seefeld', 'Seguin', 'Selangor', 'Sellindge', 'Sequim', 'Sergiyev Posad', 'Seri Kembangan', 'Serris', 'Sesto San Giovanni', 'Sevenoaks', 'Seyssinet-pariset', 'Sgonico', 'Shakopee', 'Shandong', 'Shawnee On Delaware', 'Sherbrooke', 'Sheridan', 'Shimla', 'Shipley', 'Shoreditch', 'Shoreham', 'Shrewsbury', 'Shumen', 'Sibiu', 'Sichuan', 'Sidcup', 'Sidney', 'Siena', 'Sierre', 'Signal Hill', 'Siler City', 'Silt', 'Simao', 'Simbario', 'Simferopol', 'Sipoo', 'Siracusa', 'Sisli', 'Site�a', 'Sitges', 'Skanderborg', 'Skarpn�ck', 'Skien', 'Skillman', 'Skipton', 'Skovlunde', 'Sk�vde', 'Slidell', 'Slinfold', 'Smethport', 'Smithton', 'Smithtown', 'Smithville', 'Sm�rumnedre', 'Snaith', 'Sogndal', 'Sohl', 'Solothurn', 'Somers Point', 'Sonceboz', 'Sopot', 'Souderton', 'South Boston', 'South Easton', 'South Grafton', 'South Hadley', 'South Harwich', 'South Kent', 'South Lake Tahoe', 'South Molton', 'South Pasadena', 'South Perth', 'South Richmond Hill', 'South Shields', 'South Windsor', 'South Yarra', 'Southam', 'Southaven', 'Southington', 'Southwark', 'Sparta', 'Spicewood', 'Spoleto', 'Spooner', 'Spring Hill', 'Spring Lake', 'Spring Lake Park', 'Spruce Grove', 'Spur', 'St. Helena', 'St. Pete Beach', 'Stalybridge', 'Stanhope', 'Stanmore', 'Stanton', 'State University', 'Stavanger', 'Steamboat Springs', 'Steinbach', 'Steinhausen', 'Stenl�se', 'Stevenson', 'Stirling', 'Stoke', 'Storrs Mansfield', 'Stoughton', 'Stow Cum Quy', 'Strasburg', 'Stratford', 'Strathaven', 'Strathmore', 'Streator', 'Streetsboro', 'Stuhr', 'Sturgeon Bay', 'Sturtevant', 'Suffern', 'Suffolk', 'Sugar City', 'Sugar Hill', 'Sugarcreek', 'Suhl', 'Sullivan', 'Sulphur', 'Summerland', 'Summit Argo', 'Sun City', 'Sun Valley', 'Sundbyberg', 'Sunset', 'Surabaya', 'Surfers Paradise', 'Sussex', 'Sutton', 'Sutton Coldfield', 'Swanage', 'Swavesey', 'Sykesville', 'Sylmar', 'Sylvania', 'Szeged', 'Sz�kesfeh�rv�r', 'S�lvesborg', 'S�nderborg', 'S�o Leopoldo', 'S�te', 'Taiyuan', 'Takapuna', 'Takoma Park', 'Takoradi', 'Talent', 'Tallinna', 'Tallmadge', 'Tamworth', 'Taramani', 'Targu Jiu', 'Targu-mures', 'Tarragona', 'Tashkent', 'Tavares', 'Taylorsville', 'Teddington', 'Tehachapi', 'Tel Aviv-jaffa', 'Tel Mond', 'Tell Abib', 'Telluride', 'Tema', 'Temple', 'Temple Hills', 'Temuco', 'Ten Sleep', 'Tennessee', 'Terni', 'Terrassa', 'Tetbury', 'Texarkana', 'Thame', 'Thebarton', 'Thessalon�ki', 'Thiensville', 'Thiruvananthapuram', 'Thonon-les-bains', 'Thornton', 'Ticonderoga', 'Tielt', 'Tiller', 'Tilton', 'Tirana', 'Tirat Carmel', 'Tirupur', 'Titusville', 'Tiverton', 'Tofte', 'Tokai', 'Tolland', 'Tomball', 'Toms River', 'Tomsk', 'Tonawanda', 'Tonbridge', 'Tongzhou', 'Tooele', 'Toston', 'Toulon', 'Tower City', 'Townsville', 'Trabuco Canyon', 'Traverse City', 'Tremonton', 'Trieste', 'Trois-rivi�res', 'Troon', 'Trout Lake', 'Trowbridge', 'Truckee', 'Truro', 'Trussville', 'Tsukuba', 'Tuckerton', 'Tulare', 'Tullamore', 'Tumkur', 'Tunbridge Wells', 'Tupelo', 'Turner', 'Turnhout', 'Tuscaloosa', 'Tuskegee', 'Tutzing', 'Tuxtla Gutierres', 'Tyler', 'T�by', 'Ukiah', 'Union Star', 'Unionville', 'Unterhaching', 'Unterpremstatten', 'Unterschlei�heim', 'Upland', 'Upper Marlboro', 'Upplands-v�sby', 'Urbana', 'Usk', 'Uusikaupunki', 'Uzerche', 'Vacaville', 'Valby', 'Valdosta', 'Valhermoso Springs', 'Valley Cottage', 'Valley Village', 'Valrico', 'Varanasi', 'Varna', 'Vaulx-en-velin', 'Venelles', 'Ventnor', 'Verbier', 'Vermillion', 'Verwood', 'Vestal', 'Vevey', 'Vicksburg', 'Vijayawada', 'Villaviciosa De Od�n', 'Villejuif', 'Villeneuve-l�s-b�ziers', 'Vineland', 'Vipper�d', 'Vitacura', 'Vit�ria Do Mearim', 'Vleuten', 'Voiron', 'Vonore', 'Vosselaar', 'V�los', 'V�rl�se', 'V�rmd�', 'V�stra Fr�lunda', 'Waardenburg', 'Wadenswil', 'Waikoloa', 'Waldorf', 'Wallsend-on-tyne', 'Wanaque', 'Wanchai', 'Wangen Im Allg�u', 'Ware', 'Waregem', 'Warner Robins', 'Warrenville', 'Washoe Valley', 'Watford City', 'Watkins', 'Watkinsville', 'Wauconda', 'Wausau', 'Waxahachie', 'Waynesville', 'Wedel', 'Weehawken', 'Weesp', 'Weifang', 'Weihai', 'Weiji', 'Weimar', 'Weingarten', 'Welland', 'Wells', 'Wellsville', 'Wembley', 'Wenatchee', 'Wendelsheim', 'Wenzhou', 'Werl', 'West Babylon', 'West Boothbay Harbor', 'West Chicago', 'West Fargo', 'West Hurley', 'West Kingston', 'West Lake Hills', 'West Los Angeles', 'West Mansfield', 'West Newfield', 'West Newton', 'West Nyack', 'West Saint Paul', 'West Simsbury', 'West Springfield', 'West University Place', 'West Valley City', 'Westbury', 'Westland', 'Westmont', 'Wetaskiwin', 'Wetherby', 'Wethersfield', 'Wetzlar', 'We�ling', 'Wheaton', 'Wheeling', 'Whistler', 'Whitehouse', 'Whiting', 'Whitinsville', 'Wilberforce', 'Wilderswil', 'Wildomar', 'Williamsport', 'Willoughby', 'Willow Grove', 'Wilmette', 'Wilrijk', 'Wincanton', 'Windber', 'Windisch', 'Winnersh', 'Winnetka', 'Winona', 'Winooski', 'Winter Springs', 'Wisconsin Rapids', 'Wise', 'Wisner', 'Wittenberg', 'Wokingham', 'Wommelgem', 'Wood Dale', 'Woodbine', 'Woodlyn', 'Woodmere', 'Woods Hole', 'Woonsocket', 'Workington', 'Worland', 'Wrentham', 'Wrightsville Beach', 'Wuse', 'Wuxi', 'Wuxue', 'Wyckoff', 'Wylie', 'Wyoming', 'W�chtersbach', 'W�rselen', 'W�rzberg', 'Xiangyang', 'Xianyang', 'Xicheng', 'Xuhui', 'Yakima', 'Yamato-minami', 'Yarmouth', 'Yarmouth Port', 'Yarnton', 'Yavneh', 'Yichang', 'Yokohama-shi', 'Yongin', 'York Haven', 'Yorktown Heights', 'Yreka', 'Yverdon-les-bains', 'Zaandijk', 'Zaanstad', 'Zaghouan', 'Zamudio', \"Zarqa'\", 'Zebulon', 'Zelenec', 'Zelenograd', 'Zell Am See', 'Zephyr Cove', 'Zevenbergen', 'Zhongshan', 'Zilina', 'Zurich', 'Zwevegem', 'Zwingenberg', 'Zwolle', '�karp', '�rnsk�ldsvik', '�safj�r�ur', '�sterby Havn', '�vora']\n",
            "4188\n",
            "null dummy for onehotencoded_quarter_new_index\n",
            "4\n",
            "['Q1', 'Q2', 'Q3', 'Q4']\n",
            "null dummy for onehotencoded_investor_country_code_index\n",
            "78\n",
            "['USA_investor', 'GBR_investor', 'FRA_investor', 'CHN_investor', 'DEU_investor', 'ESP_investor', 'CAN_investor', 'CHL_investor', 'ISR_investor', 'JPN_investor', 'RUS_investor', 'ITA_investor', 'IND_investor', 'SWE_investor', 'HKG_investor', 'IRL_investor', 'SGP_investor', 'CHE_investor', 'DNK_investor', 'NLD_investor', 'KOR_investor', 'AUS_investor', 'FIN_investor', 'ARG_investor', 'BGR_investor', 'BEL_investor', 'BRA_investor', 'POL_investor', 'LUX_investor', 'NOR_investor', 'PRT_investor', 'JOR_investor', 'EST_investor', 'TUR_investor', 'UKR_investor', 'HUN_investor', 'AUT_investor', 'ZAF_investor', 'GRC_investor', 'CZE_investor', 'LBN_investor', 'MUS_investor', 'TWN_investor', 'MYS_investor', 'NZL_investor', 'ARE_investor', 'KEN_investor', 'KHM_investor', 'LTU_investor', 'URY_investor', 'MEX_investor', 'SVK_investor', 'PHL_investor', 'CYM_investor', 'ISL_investor', 'ROM_investor', 'THA_investor', 'IDN_investor', 'COL_investor', 'EGY_investor', 'GHA_investor', 'NGA_investor', 'SAU_investor', 'SVN_investor', 'BHR_investor', 'LVA_investor', 'PSE_investor', 'VNM_investor', 'BLR_investor', 'BMU_investor', 'CYP_investor', 'ARM_investor', 'AZE_investor', 'IRN_investor', 'KWT_investor', 'MAR_investor', 'TTO_investor', 'VEN_investor']\n",
            "null dummy for onehotencoded_funding_round_type_index\n",
            "13\n",
            "['venture', 'seed', 'undisclosed', 'angel', 'private_equity', 'debt_financing', 'grant', 'convertible_note', 'equity_crowdfunding', 'post_ipo_equity', 'post_ipo_debt', 'product_crowdfunding', 'secondary_market']\n",
            "null dummy for onehotencoded_category_final_index\n",
            "2\n",
            "['None', ' + Mobile']\n"
          ]
        }
      ],
      "source": [
        "# null dummy for onehotencoded_country_code_index\n",
        "print(\"null dummy for onehotencoded_country_code_index\")\n",
        "print(len(indexers[0].labels))\n",
        "print(indexers[0].labels)\n",
        "# null dummy for onehotencoded_city_index\n",
        "print(\"null dummy for onehotencoded_city_index\")\n",
        "print(indexers[1].labels)\n",
        "print(len(indexers[1].labels))\n",
        "# null dummy for onehotencoded_quarter_new_index\n",
        "print(\"null dummy for onehotencoded_quarter_new_index\")\n",
        "print(len(indexers[2].labels))\n",
        "print(indexers[2].labels)\n",
        "# null dummy for onehotencoded_investor_country_code_index\n",
        "print(\"null dummy for onehotencoded_investor_country_code_index\")\n",
        "print(len(invcc))\n",
        "print(invcc)\n",
        "# null dummy for onehotencoded_funding_round_type_index\n",
        "print(\"null dummy for onehotencoded_funding_round_type_index\")\n",
        "print(len(indexers[4].labels))\n",
        "print(indexers[4].labels)\n",
        "# null dummy for onehotencoded_category_final_index\n",
        "print(\"null dummy for onehotencoded_category_final_index\")\n",
        "print(len(indexers[5].labels))\n",
        "print(indexers[5].labels)"
      ]
    },
    {
      "cell_type": "markdown",
      "metadata": {
        "id": "jP7-JY6C6OVS"
      },
      "source": [
        "# MODELLING"
      ]
    },
    {
      "cell_type": "markdown",
      "metadata": {
        "id": "m1ikKpVyiVmN"
      },
      "source": [
        "## Gradient Boosted Trees"
      ]
    },
    {
      "cell_type": "code",
      "execution_count": null,
      "metadata": {
        "id": "0cmI4oeBiS3X"
      },
      "outputs": [],
      "source": [
        "gbt = GBTClassifier(labelCol=\"label\", featuresCol=\"features\", maxIter=250)"
      ]
    },
    {
      "cell_type": "code",
      "execution_count": null,
      "metadata": {
        "id": "KO-7-tGYjKNT"
      },
      "outputs": [],
      "source": [
        "gbt_pipeline = Pipeline(stages=[vanum, std, vacate, va, gbt]).fit(training_df)"
      ]
    },
    {
      "cell_type": "code",
      "execution_count": null,
      "metadata": {
        "id": "vbRAxNZcjPFW"
      },
      "outputs": [],
      "source": [
        "dfgbt = gbt_pipeline.transform(validation_df)"
      ]
    },
    {
      "cell_type": "code",
      "execution_count": null,
      "metadata": {
        "id": "a9mmJQ-twWUb"
      },
      "outputs": [],
      "source": [
        "# define multiclass classification evaluator\n",
        "mce = MulticlassClassificationEvaluator()"
      ]
    },
    {
      "cell_type": "code",
      "execution_count": null,
      "metadata": {
        "colab": {
          "base_uri": "https://localhost:8080/"
        },
        "id": "XcWwPOTRjVs0",
        "outputId": "1212ac2a-7ddf-4225-a240-c9c78b9ee078"
      },
      "outputs": [
        {
          "name": "stdout",
          "output_type": "stream",
          "text": [
            "Gradient Boosted Trees: AUC = 0.8938379312203558\n"
          ]
        }
      ],
      "source": [
        "# print the areas under the curve for the gradient boosted trees model pipeline\n",
        "print(\"Gradient Boosted Trees: AUC = {}\".format(mce.evaluate(dfgbt)))"
      ]
    },
    {
      "cell_type": "code",
      "execution_count": null,
      "metadata": {
        "colab": {
          "base_uri": "https://localhost:8080/"
        },
        "id": "NFdJDJmRjcWV",
        "outputId": "8f812222-4517-47ea-c430-2a5d7277c56a"
      },
      "outputs": [
        {
          "name": "stdout",
          "output_type": "stream",
          "text": [
            "+----------------------------------+\n",
            "|Accuracy for Gradient Boosted Tree|\n",
            "+----------------------------------+\n",
            "|                0.9221085229567794|\n",
            "+----------------------------------+\n",
            "\n",
            "None\n"
          ]
        }
      ],
      "source": [
        "# print the accuracies for the gradient boosted trees model pipeline\n",
        "print(dfgbt.select(fn.expr('float(label = prediction)').alias('correct')).select(fn.avg('correct').alias(\"Accuracy for Gradient Boosted Tree\")).show())"
      ]
    },
    {
      "cell_type": "markdown",
      "metadata": {
        "id": "5-IW7cEq1u01"
      },
      "source": [
        "# Neural Networks"
      ]
    },
    {
      "cell_type": "markdown",
      "metadata": {
        "id": "orCgUTvB11fo"
      },
      "source": [
        "### Standard Model"
      ]
    },
    {
      "cell_type": "code",
      "execution_count": null,
      "metadata": {
        "id": "19k4FqWt10TG"
      },
      "outputs": [],
      "source": [
        "# define neural networks (MultilayerPerceptron) classifier\n",
        "mlp = classification.MultilayerPerceptronClassifier(seed=0).\\\n",
        "    setStepSize(0.2).\\\n",
        "    setMaxIter(200).\\\n",
        "    setLayers([4399, 2]).\\\n",
        "    setFeaturesCol('features')"
      ]
    },
    {
      "cell_type": "code",
      "execution_count": null,
      "metadata": {
        "id": "vFKTs6YG1-Mg"
      },
      "outputs": [],
      "source": [
        "# define and fit neural network pipeline \n",
        "mlp_simple_model = Pipeline(stages=[vanum, std, vacate, va, mlp]).fit(training_df)"
      ]
    },
    {
      "cell_type": "code",
      "execution_count": null,
      "metadata": {
        "id": "LhuLx08c2BAa"
      },
      "outputs": [],
      "source": [
        "# define evaluators for accuracy and area under the curve\n",
        "evaluator = MulticlassClassificationEvaluator().setMetricName(\"accuracy\")\n",
        "evaluatorauc = MulticlassClassificationEvaluator()"
      ]
    },
    {
      "cell_type": "code",
      "execution_count": null,
      "metadata": {
        "id": "M7P_g5cx2Db7"
      },
      "outputs": [],
      "source": [
        "# apply pipeline to validation dataset\n",
        "dfnn = mlp_simple_model.transform(validation_df)"
      ]
    },
    {
      "cell_type": "code",
      "execution_count": null,
      "metadata": {
        "colab": {
          "base_uri": "https://localhost:8080/"
        },
        "id": "6h36no5A4pqP",
        "outputId": "3c846327-9910-4ed6-9645-6ed18ec2cc85"
      },
      "outputs": [
        {
          "name": "stdout",
          "output_type": "stream",
          "text": [
            "0.919482967550828\n",
            "0.8874716677080274\n"
          ]
        }
      ],
      "source": [
        "# print accuracy and area under the curve for NN\n",
        "print(evaluator.evaluate(dfnn))\n",
        "print(evaluatorauc.evaluate(dfnn))"
      ]
    },
    {
      "cell_type": "markdown",
      "metadata": {
        "id": "2yduyVQ42NBu"
      },
      "source": [
        "### Models with Hidden Layers"
      ]
    },
    {
      "cell_type": "code",
      "execution_count": null,
      "metadata": {
        "id": "q13r9KOk2KTw"
      },
      "outputs": [],
      "source": [
        "# define neural networks (MultilayerPerceptron) classifier with hidden layers\n",
        "mlp2 = classification.MultilayerPerceptronClassifier(seed=0).\\\n",
        "    setStepSize(0.2).\\\n",
        "    setMaxIter(200).\\\n",
        "    setFeaturesCol('features').\\\n",
        "    setLayers([4399,30,30, 2])\n",
        "mlp3 = classification.MultilayerPerceptronClassifier(seed=0).\\\n",
        "    setStepSize(0.2).\\\n",
        "    setMaxIter(200).\\\n",
        "    setFeaturesCol('features').\\\n",
        "    setLayers([4399,10,10, 2])\n",
        "mlp4 = classification.MultilayerPerceptronClassifier(seed=0).\\\n",
        "    setStepSize(0.2).\\\n",
        "    setMaxIter(200).\\\n",
        "    setFeaturesCol('features').\\\n",
        "    setLayers([4399,20,20, 2])\n",
        "mlp5 = classification.MultilayerPerceptronClassifier(seed=0).\\\n",
        "    setStepSize(0.2).\\\n",
        "    setMaxIter(200).\\\n",
        "    setFeaturesCol('features').\\\n",
        "    setLayers([4399,30, 2])\n",
        "mlp6 = classification.MultilayerPerceptronClassifier(seed=0).\\\n",
        "    setStepSize(0.2).\\\n",
        "    setMaxIter(200).\\\n",
        "    setFeaturesCol('features').\\\n",
        "    setLayers([4399,30,30,30, 2])"
      ]
    },
    {
      "cell_type": "code",
      "execution_count": null,
      "metadata": {
        "colab": {
          "background_save": true
        },
        "id": "RNAzkxe92VF4"
      },
      "outputs": [],
      "source": [
        "# define and fit pipeline\n",
        "mlp2_model = Pipeline(stages=[vanum, std, vacate, va, mlp2]).fit(training_df)\n",
        "mlp3_model = Pipeline(stages=[vanum, std, vacate, va, mlp3]).fit(training_df)\n",
        "mlp4_model = Pipeline(stages=[vanum, std, vacate, va, mlp4]).fit(training_df)\n",
        "mlp5_model = Pipeline(stages=[vanum, std, vacate, va, mlp5]).fit(training_df)\n",
        "mlp6_model = Pipeline(stages=[vanum, std, vacate, va, mlp6]).fit(training_df)"
      ]
    },
    {
      "cell_type": "code",
      "execution_count": null,
      "metadata": {
        "colab": {
          "background_save": true
        },
        "id": "Gtm8Kufq2X5l"
      },
      "outputs": [],
      "source": [
        "# apply and fit model to validation dataset\n",
        "dfnn2 = mlp2_model.transform(validation_df)\n",
        "dfnn3 = mlp3_model.transform(validation_df)\n",
        "dfnn4 = mlp4_model.transform(validation_df)\n",
        "dfnn5 = mlp5_model.transform(validation_df)\n",
        "dfnn6 = mlp6_model.transform(validation_df)"
      ]
    },
    {
      "cell_type": "markdown",
      "metadata": {
        "id": "dAIZweU72cDZ"
      },
      "source": [
        "## Performance"
      ]
    },
    {
      "cell_type": "code",
      "execution_count": null,
      "metadata": {
        "colab": {
          "background_save": true
        },
        "id": "JPIXR8hd2bmw",
        "outputId": "18f89ab5-a5bf-4a7a-b3e8-cb2adefa69c2"
      },
      "outputs": [
        {
          "name": "stdout",
          "output_type": "stream",
          "text": [
            "NN Model with 2 hidden layers and 30 neurons each: Accuracy = 0.9174633095462502\n",
            "NN Model with 2 hidden layers and 30 neurons each: AUC = 0.8950379299317124\n",
            "____________________________________________________________________________\n",
            "NN Model with 2 hidden layers and 10 neurons each: Accuracy = 0.9145011444728692\n",
            "NN Model with 2 hidden layers and 10 neurons each: AUC = 0.8953964473748464\n",
            "____________________________________________________________________________\n",
            "NN Model with 2 hidden layers and 20 neurons each: Accuracy = 0.9164534805439613\n",
            "NN Model with 2 hidden layers and 20 neurons each: AUC = 0.8968682586838205\n",
            "____________________________________________________________________________\n",
            "NN Model with 1 hidden layer and 30 neurons: Accuracy = 0.9120775548673757\n",
            "NN Model with 1 hidden layer and 30 neurons: AUC = 0.8950377241505765\n",
            "____________________________________________________________________________\n",
            "NN Model with 3 hidden layers and 30 neurons each: Accuracy = 0.9217045913558637\n",
            "NN Model with 3 hidden layers and 30 neurons each: AUC = 0.8971842962808112\n"
          ]
        }
      ],
      "source": [
        "# print accuracy and area under the curve\n",
        "print(\"NN Model with 2 hidden layers and 30 neurons each: Accuracy = {}\".format(evaluator.evaluate(dfnn2)))\n",
        "print(\"NN Model with 2 hidden layers and 30 neurons each: AUC = {}\".format(evaluatorauc.evaluate(dfnn2)))\n",
        "print(\"____________________________________________________________________________\")\n",
        "print(\"NN Model with 2 hidden layers and 10 neurons each: Accuracy = {}\".format(evaluator.evaluate(dfnn3)))\n",
        "print(\"NN Model with 2 hidden layers and 10 neurons each: AUC = {}\".format(evaluatorauc.evaluate(dfnn3)))\n",
        "print(\"____________________________________________________________________________\")\n",
        "print(\"NN Model with 2 hidden layers and 20 neurons each: Accuracy = {}\".format(evaluator.evaluate(dfnn4)))\n",
        "print(\"NN Model with 2 hidden layers and 20 neurons each: AUC = {}\".format(evaluatorauc.evaluate(dfnn4)))\n",
        "print(\"____________________________________________________________________________\")\n",
        "print(\"NN Model with 1 hidden layer and 30 neurons: Accuracy = {}\".format(evaluator.evaluate(dfnn5)))\n",
        "print(\"NN Model with 1 hidden layer and 30 neurons: AUC = {}\".format(evaluatorauc.evaluate(dfnn5)))\n",
        "print(\"____________________________________________________________________________\")\n",
        "print(\"NN Model with 3 hidden layers and 30 neurons each: Accuracy = {}\".format(evaluator.evaluate(dfnn6)))\n",
        "print(\"NN Model with 3 hidden layers and 30 neurons each: AUC = {}\".format(evaluatorauc.evaluate(dfnn6)))"
      ]
    },
    {
      "cell_type": "markdown",
      "metadata": {
        "id": "HHKK4XQn6YLb"
      },
      "source": [
        "# TESTING PERFORMANCE"
      ]
    },
    {
      "cell_type": "markdown",
      "metadata": {
        "id": "CHlbqkc56b5i"
      },
      "source": [
        "We tested with the best performing (AUC and Accuracy) Gradient Bossted Trees and Neural Network Model."
      ]
    },
    {
      "cell_type": "code",
      "execution_count": null,
      "metadata": {
        "colab": {
          "background_save": true
        },
        "id": "YVp1Ug4h6Vk5",
        "outputId": "dbba1e9c-0123-43a1-dc3c-c4de96be318f"
      },
      "outputs": [
        {
          "name": "stdout",
          "output_type": "stream",
          "text": [
            "Gradient Boosted Trees: AUC = 0.8907509053766469\n",
            "+-----------------------------------+\n",
            "|Accuracy for Gradient Boosted Trees|\n",
            "+-----------------------------------+\n",
            "|                 0.9196754563894524|\n",
            "+-----------------------------------+\n",
            "\n",
            "None\n"
          ]
        }
      ],
      "source": [
        "# Gradient Boosted Trees Classifier\n",
        "dfgbt_test = gbt_pipeline.transform(testing_df)\n",
        "print(\"Gradient Boosted Trees: AUC = {}\".format(mce.evaluate(dfgbt_test)))\n",
        "print(dfgbt_test.select(fn.expr('float(label = prediction)').alias('correct')).select(fn.avg('correct').alias(\"Accuracy for Gradient Boosted Trees\")).show())"
      ]
    },
    {
      "cell_type": "code",
      "execution_count": null,
      "metadata": {
        "colab": {
          "background_save": true
        },
        "id": "ArlJEAHiyptt",
        "outputId": "b2642a10-bb9c-47c8-a87b-f43cdd1b2fd8"
      },
      "outputs": [
        {
          "name": "stdout",
          "output_type": "stream",
          "text": [
            "              precision    recall  f1-score   support\n",
            "\n",
            "           0       0.93      0.99      0.96      4542\n",
            "           1       0.43      0.06      0.10       388\n",
            "\n",
            "    accuracy                           0.92      4930\n",
            "   macro avg       0.68      0.53      0.53      4930\n",
            "weighted avg       0.89      0.92      0.89      4930\n",
            "\n"
          ]
        }
      ],
      "source": [
        "gbt_true = dfgbt_test.select(['label']).collect()\n",
        "gbt_pred = dfgbt_test.select(['prediction']).collect()\n",
        "print(classification_report(gbt_true, gbt_pred))"
      ]
    },
    {
      "cell_type": "code",
      "execution_count": null,
      "metadata": {
        "colab": {
          "background_save": true
        },
        "id": "rlCDzogTyvxl",
        "outputId": "5f73fd30-09b9-4eb8-b725-d01257da384f"
      },
      "outputs": [
        {
          "name": "stdout",
          "output_type": "stream",
          "text": [
            "Neural Network Model with 3 hidden layers and 30 neurons each: Accuracy = 0.9186612576064909\n",
            "Neural Network Model with 3 hidden layers and 30 neurons each: AUC = 0.8939215389008038\n"
          ]
        }
      ],
      "source": [
        "# Best performing neural network model\n",
        "dfnntest = mlp6_model.transform(testing_df)\n",
        "print(\"Neural Network Model with 3 hidden layers and 30 neurons each: Accuracy = {}\".format(evaluator.evaluate(dfnntest)))\n",
        "print(\"Neural Network Model with 3 hidden layers and 30 neurons each: AUC = {}\".format(evaluatorauc.evaluate(dfnntest)))"
      ]
    },
    {
      "cell_type": "code",
      "execution_count": null,
      "metadata": {
        "colab": {
          "background_save": true
        },
        "id": "MysDwf_syy8K",
        "outputId": "565e3d3e-0056-45eb-8830-8f13dc094e66"
      },
      "outputs": [
        {
          "name": "stdout",
          "output_type": "stream",
          "text": [
            "              precision    recall  f1-score   support\n",
            "\n",
            "           0       0.93      0.99      0.96      4542\n",
            "           1       0.42      0.09      0.15       388\n",
            "\n",
            "    accuracy                           0.92      4930\n",
            "   macro avg       0.68      0.54      0.55      4930\n",
            "weighted avg       0.89      0.92      0.89      4930\n",
            "\n"
          ]
        }
      ],
      "source": [
        "nn_true = dfnntest.select(['label']).collect()\n",
        "nn_pred = dfnntest.select(['prediction']).collect()\n",
        "print(classification_report(nn_true, nn_pred))"
      ]
    }
  ],
  "metadata": {
    "colab": {
      "collapsed_sections": [],
      "name": "thesis-model-part3.ipynb",
      "provenance": []
    },
    "kernelspec": {
      "display_name": "Python 3",
      "name": "python3"
    }
  },
  "nbformat": 4,
  "nbformat_minor": 0
}
