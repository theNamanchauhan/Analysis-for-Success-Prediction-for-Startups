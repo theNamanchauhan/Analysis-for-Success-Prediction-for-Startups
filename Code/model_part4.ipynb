{
  "nbformat": 4,
  "nbformat_minor": 0,
  "metadata": {
    "colab": {
      "name": "thesis-model-part4.ipynb",
      "provenance": [],
      "collapsed_sections": []
    },
    "kernelspec": {
      "name": "python3",
      "display_name": "Python 3"
    }
  },
  "cells": [
    {
      "cell_type": "markdown",
      "metadata": {
        "id": "805fTVImy2vi"
      },
      "source": [
        "<p align=\"center\">\n",
        "  <img src=\"https://www.dbs.ie/images/default-source/logos/dbs-logo-2019-small.png\" />\n",
        "</p>\n",
        "This code is submitted by Yogeshwaran Shanmuganathan as a part of my final dissertation or thesis for the completion of \"Master of Science in Data Analytics\" at Dublin Business School, Dublin, Ireland."
      ]
    },
    {
      "cell_type": "code",
      "metadata": {
        "colab": {
          "base_uri": "https://localhost:8080/"
        },
        "id": "cK10uzzbM-OF",
        "outputId": "51b32d18-40fe-4507-9482-debaf5f742ea"
      },
      "source": [
        "!pip install pandas\n",
        "!pip install numpy\n",
        "!pip install matplotlib\n",
        "!pip install pyspark\n",
        "!pip install seaborn"
      ],
      "execution_count": null,
      "outputs": [
        {
          "output_type": "stream",
          "text": [
            "Requirement already satisfied: pandas in /usr/local/lib/python3.6/dist-packages (1.1.5)\n",
            "Requirement already satisfied: numpy>=1.15.4 in /usr/local/lib/python3.6/dist-packages (from pandas) (1.19.5)\n",
            "Requirement already satisfied: python-dateutil>=2.7.3 in /usr/local/lib/python3.6/dist-packages (from pandas) (2.8.1)\n",
            "Requirement already satisfied: pytz>=2017.2 in /usr/local/lib/python3.6/dist-packages (from pandas) (2018.9)\n",
            "Requirement already satisfied: six>=1.5 in /usr/local/lib/python3.6/dist-packages (from python-dateutil>=2.7.3->pandas) (1.15.0)\n",
            "Requirement already satisfied: numpy in /usr/local/lib/python3.6/dist-packages (1.19.5)\n",
            "Requirement already satisfied: matplotlib in /usr/local/lib/python3.6/dist-packages (3.2.2)\n",
            "Requirement already satisfied: kiwisolver>=1.0.1 in /usr/local/lib/python3.6/dist-packages (from matplotlib) (1.3.1)\n",
            "Requirement already satisfied: numpy>=1.11 in /usr/local/lib/python3.6/dist-packages (from matplotlib) (1.19.5)\n",
            "Requirement already satisfied: pyparsing!=2.0.4,!=2.1.2,!=2.1.6,>=2.0.1 in /usr/local/lib/python3.6/dist-packages (from matplotlib) (2.4.7)\n",
            "Requirement already satisfied: cycler>=0.10 in /usr/local/lib/python3.6/dist-packages (from matplotlib) (0.10.0)\n",
            "Requirement already satisfied: python-dateutil>=2.1 in /usr/local/lib/python3.6/dist-packages (from matplotlib) (2.8.1)\n",
            "Requirement already satisfied: six in /usr/local/lib/python3.6/dist-packages (from cycler>=0.10->matplotlib) (1.15.0)\n",
            "Collecting pyspark\n",
            "\u001b[?25l  Downloading https://files.pythonhosted.org/packages/f0/26/198fc8c0b98580f617cb03cb298c6056587b8f0447e20fa40c5b634ced77/pyspark-3.0.1.tar.gz (204.2MB)\n",
            "\u001b[K     |████████████████████████████████| 204.2MB 77kB/s \n",
            "\u001b[?25hCollecting py4j==0.10.9\n",
            "\u001b[?25l  Downloading https://files.pythonhosted.org/packages/9e/b6/6a4fb90cd235dc8e265a6a2067f2a2c99f0d91787f06aca4bcf7c23f3f80/py4j-0.10.9-py2.py3-none-any.whl (198kB)\n",
            "\u001b[K     |████████████████████████████████| 204kB 47.0MB/s \n",
            "\u001b[?25hBuilding wheels for collected packages: pyspark\n",
            "  Building wheel for pyspark (setup.py) ... \u001b[?25l\u001b[?25hdone\n",
            "  Created wheel for pyspark: filename=pyspark-3.0.1-py2.py3-none-any.whl size=204612242 sha256=90c85a8310caca69448aacb050c7aa9e141bfc6a92ab4b3b8e94ceeba0b5f1fa\n",
            "  Stored in directory: /root/.cache/pip/wheels/5e/bd/07/031766ca628adec8435bb40f0bd83bb676ce65ff4007f8e73f\n",
            "Successfully built pyspark\n",
            "Installing collected packages: py4j, pyspark\n",
            "Successfully installed py4j-0.10.9 pyspark-3.0.1\n",
            "Requirement already satisfied: seaborn in /usr/local/lib/python3.6/dist-packages (0.11.1)\n",
            "Requirement already satisfied: numpy>=1.15 in /usr/local/lib/python3.6/dist-packages (from seaborn) (1.19.5)\n",
            "Requirement already satisfied: scipy>=1.0 in /usr/local/lib/python3.6/dist-packages (from seaborn) (1.4.1)\n",
            "Requirement already satisfied: matplotlib>=2.2 in /usr/local/lib/python3.6/dist-packages (from seaborn) (3.2.2)\n",
            "Requirement already satisfied: pandas>=0.23 in /usr/local/lib/python3.6/dist-packages (from seaborn) (1.1.5)\n",
            "Requirement already satisfied: pyparsing!=2.0.4,!=2.1.2,!=2.1.6,>=2.0.1 in /usr/local/lib/python3.6/dist-packages (from matplotlib>=2.2->seaborn) (2.4.7)\n",
            "Requirement already satisfied: cycler>=0.10 in /usr/local/lib/python3.6/dist-packages (from matplotlib>=2.2->seaborn) (0.10.0)\n",
            "Requirement already satisfied: python-dateutil>=2.1 in /usr/local/lib/python3.6/dist-packages (from matplotlib>=2.2->seaborn) (2.8.1)\n",
            "Requirement already satisfied: kiwisolver>=1.0.1 in /usr/local/lib/python3.6/dist-packages (from matplotlib>=2.2->seaborn) (1.3.1)\n",
            "Requirement already satisfied: pytz>=2017.2 in /usr/local/lib/python3.6/dist-packages (from pandas>=0.23->seaborn) (2018.9)\n",
            "Requirement already satisfied: six in /usr/local/lib/python3.6/dist-packages (from cycler>=0.10->matplotlib>=2.2->seaborn) (1.15.0)\n"
          ],
          "name": "stdout"
        }
      ]
    },
    {
      "cell_type": "code",
      "metadata": {
        "id": "j3xTpH-jMyb9"
      },
      "source": [
        "import pandas as pd\n",
        "import numpy as np\n",
        "import matplotlib.pyplot as plt\n",
        "import seaborn as sns\n",
        "# Load functionality to manipulate dataframes\n",
        "from pyspark.sql import functions as fn\n",
        "import matplotlib.pyplot as plt\n",
        "from pyspark.sql.functions import stddev, mean, col\n",
        "from pyspark.sql import SQLContext\n",
        "from pyspark.sql import SparkSession\n",
        "# Functionality for computing features\n",
        "from pyspark.ml import feature, regression, classification, Pipeline\n",
        "from pyspark.ml.classification import LogisticRegression\n",
        "from pyspark.ml.feature import Tokenizer, VectorAssembler, HashingTF, Word2Vec, StringIndexer, OneHotEncoder\n",
        "from pyspark.ml import clustering\n",
        "from itertools import chain\n",
        "from pyspark.ml.linalg import Vectors, VectorUDT\n",
        "from pyspark.ml import classification\n",
        "from pyspark.ml.classification import LogisticRegression, RandomForestClassifier, DecisionTreeClassifier, GBTClassifier\n",
        "from pyspark.ml.classification import MultilayerPerceptronClassifier\n",
        "from pyspark.ml import evaluation\n",
        "from pyspark.ml.evaluation import BinaryClassificationEvaluator\n",
        "from pyspark.ml.evaluation import MulticlassClassificationEvaluator\n",
        "from pyspark import keyword_only\n",
        "from pyspark.ml import Transformer\n",
        "from pyspark.ml.param.shared import HasInputCol, HasOutputCol, Param\n",
        "import time\n",
        "#Classification report\n",
        "from sklearn.metrics import classification_report, confusion_matrix"
      ],
      "execution_count": null,
      "outputs": []
    },
    {
      "cell_type": "code",
      "metadata": {
        "id": "2Fl2cEb9O9YI",
        "colab": {
          "resources": {
            "http://localhost:8080/nbextensions/google.colab/files.js": {
              "data": "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",
              "ok": true,
              "headers": [
                [
                  "content-type",
                  "application/javascript"
                ]
              ],
              "status": 200,
              "status_text": ""
            }
          },
          "base_uri": "https://localhost:8080/",
          "height": 72
        },
        "outputId": "a9f7083b-311a-4fad-87a4-1642d99d7506"
      },
      "source": [
        "from google.colab import files\n",
        "uploaded = files.upload()"
      ],
      "execution_count": null,
      "outputs": [
        {
          "output_type": "display_data",
          "data": {
            "text/html": [
              "\n",
              "     <input type=\"file\" id=\"files-c5bf449b-8da0-471f-b985-0af3660fce4c\" name=\"files[]\" multiple disabled\n",
              "        style=\"border:none\" />\n",
              "     <output id=\"result-c5bf449b-8da0-471f-b985-0af3660fce4c\">\n",
              "      Upload widget is only available when the cell has been executed in the\n",
              "      current browser session. Please rerun this cell to enable.\n",
              "      </output>\n",
              "      <script src=\"/nbextensions/google.colab/files.js\"></script> "
            ],
            "text/plain": [
              "<IPython.core.display.HTML object>"
            ]
          },
          "metadata": {
            "tags": []
          }
        },
        {
          "output_type": "stream",
          "text": [
            "Saving master.csv to master.csv\n"
          ],
          "name": "stdout"
        }
      ]
    },
    {
      "cell_type": "code",
      "metadata": {
        "id": "TGAOtNcnPK50"
      },
      "source": [
        "MAX_MEMORY = \"45g\"\n",
        "\n",
        "spark = SparkSession \\\n",
        "    .builder \\\n",
        "    .appName(\"how to read csv file\") \\\n",
        "    .config(\"spark.executor.memory\", MAX_MEMORY) \\\n",
        "    .config(\"spark.driver.memory\", MAX_MEMORY) \\\n",
        "    .getOrCreate()"
      ],
      "execution_count": null,
      "outputs": []
    },
    {
      "cell_type": "code",
      "metadata": {
        "id": "NBpeEo-0PXZP"
      },
      "source": [
        "# load master dataset\n",
        "dfmaster = spark.read.format(\"csv\").load(\"master.csv\", delimiter = \",\", header = True)"
      ],
      "execution_count": null,
      "outputs": []
    },
    {
      "cell_type": "markdown",
      "metadata": {
        "id": "2LB5xRi2QFU2"
      },
      "source": [
        "\n",
        "Preparations and Understanding before Modeling"
      ]
    },
    {
      "cell_type": "code",
      "metadata": {
        "id": "mIkm1LgHQCCk"
      },
      "source": [
        "# create a 0/1 column for acquistions\n",
        "dfmaster = dfmaster.\\\n",
        "  withColumn(\"labelacq\", fn.when(col(\"status\") == \"acquired\",\"1\").otherwise(\"0\"))"
      ],
      "execution_count": null,
      "outputs": []
    },
    {
      "cell_type": "code",
      "metadata": {
        "id": "ZknlsZTQQIhG",
        "colab": {
          "base_uri": "https://localhost:8080/"
        },
        "outputId": "e5103965-22ca-451f-f731-9bb6b81df2e2"
      },
      "source": [
        "# number of rows in master table\n",
        "print(dfmaster.count())"
      ],
      "execution_count": null,
      "outputs": [
        {
          "output_type": "stream",
          "text": [
            "49445\n"
          ],
          "name": "stdout"
        }
      ]
    },
    {
      "cell_type": "code",
      "metadata": {
        "id": "b4V3vRukgnqD",
        "colab": {
          "base_uri": "https://localhost:8080/"
        },
        "outputId": "4d93c5db-8402-4261-9bf0-03146bac65e3"
      },
      "source": [
        "dfmaster"
      ],
      "execution_count": null,
      "outputs": [
        {
          "output_type": "execute_result",
          "data": {
            "text/plain": [
              "DataFrame[_c0: string, permalink: string, name: string, market: string, funding_total_usd: string, status: string, country_code: string, city: string, funding_rounds: string, founded_year: string, quarter_new: string, age: string, permalink_agg: string, count_investor: string, time_to_first_funding: string, investor_country_codes: string, funding_round_types: string, total_raised_usd: string, permalink_sub: string, category_final: string, perma: string, investor_country_code: string, permaround: string, funding_round_type: string, labelacq: string]"
            ]
          },
          "metadata": {
            "tags": []
          },
          "execution_count": 8
        }
      ]
    },
    {
      "cell_type": "markdown",
      "metadata": {
        "id": "gQ-F_CvoQKqZ"
      },
      "source": [
        "NAs and market column (with too many levels) handeling"
      ]
    },
    {
      "cell_type": "code",
      "metadata": {
        "id": "lQjuF2P-QNvT",
        "colab": {
          "base_uri": "https://localhost:8080/"
        },
        "outputId": "f7fa8822-6a5c-4609-b65a-3b488837cb87"
      },
      "source": [
        "# check for missing values \n",
        "dfmaster.toPandas().isnull().sum()"
      ],
      "execution_count": null,
      "outputs": [
        {
          "output_type": "execute_result",
          "data": {
            "text/plain": [
              "_c0                           0\n",
              "permalink                     1\n",
              "name                          1\n",
              "market                     3967\n",
              "funding_total_usd             1\n",
              "status                     1315\n",
              "country_code               5273\n",
              "city                       6116\n",
              "funding_rounds                1\n",
              "founded_year              10956\n",
              "quarter_new               10956\n",
              "age                       10956\n",
              "permalink_agg                 1\n",
              "count_investor                1\n",
              "time_to_first_funding     24731\n",
              "investor_country_codes    20954\n",
              "funding_round_types       17110\n",
              "total_raised_usd          49435\n",
              "permalink_sub                 1\n",
              "category_final            45459\n",
              "perma                     20954\n",
              "investor_country_code     20954\n",
              "permaround                17110\n",
              "funding_round_type        17110\n",
              "labelacq                      0\n",
              "dtype: int64"
            ]
          },
          "metadata": {
            "tags": []
          },
          "execution_count": 9
        }
      ]
    },
    {
      "cell_type": "code",
      "metadata": {
        "id": "AiaaUGk0QcQB"
      },
      "source": [
        "# drop market columns because of too many level and better breakdown with the category_final column\n",
        "dfmaster1 = dfmaster.drop(\"market\")"
      ],
      "execution_count": null,
      "outputs": []
    },
    {
      "cell_type": "code",
      "metadata": {
        "id": "kjOYJTFidt0c",
        "colab": {
          "base_uri": "https://localhost:8080/",
          "height": 560
        },
        "outputId": "77268011-5f55-4467-f229-9a1067954484"
      },
      "source": [
        "dfmaster1 = dfmaster1.toPandas()\n",
        "dfmaster1"
      ],
      "execution_count": null,
      "outputs": [
        {
          "output_type": "execute_result",
          "data": {
            "text/html": [
              "<div>\n",
              "<style scoped>\n",
              "    .dataframe tbody tr th:only-of-type {\n",
              "        vertical-align: middle;\n",
              "    }\n",
              "\n",
              "    .dataframe tbody tr th {\n",
              "        vertical-align: top;\n",
              "    }\n",
              "\n",
              "    .dataframe thead th {\n",
              "        text-align: right;\n",
              "    }\n",
              "</style>\n",
              "<table border=\"1\" class=\"dataframe\">\n",
              "  <thead>\n",
              "    <tr style=\"text-align: right;\">\n",
              "      <th></th>\n",
              "      <th>_c0</th>\n",
              "      <th>permalink</th>\n",
              "      <th>name</th>\n",
              "      <th>funding_total_usd</th>\n",
              "      <th>status</th>\n",
              "      <th>country_code</th>\n",
              "      <th>city</th>\n",
              "      <th>funding_rounds</th>\n",
              "      <th>founded_year</th>\n",
              "      <th>quarter_new</th>\n",
              "      <th>age</th>\n",
              "      <th>permalink_agg</th>\n",
              "      <th>count_investor</th>\n",
              "      <th>time_to_first_funding</th>\n",
              "      <th>investor_country_codes</th>\n",
              "      <th>funding_round_types</th>\n",
              "      <th>total_raised_usd</th>\n",
              "      <th>permalink_sub</th>\n",
              "      <th>category_final</th>\n",
              "      <th>perma</th>\n",
              "      <th>investor_country_code</th>\n",
              "      <th>permaround</th>\n",
              "      <th>funding_round_type</th>\n",
              "      <th>labelacq</th>\n",
              "    </tr>\n",
              "  </thead>\n",
              "  <tbody>\n",
              "    <tr>\n",
              "      <th>0</th>\n",
              "      <td>0</td>\n",
              "      <td>/organization/1lay</td>\n",
              "      <td>1Lay</td>\n",
              "      <td>1,70,000</td>\n",
              "      <td>operating</td>\n",
              "      <td>None</td>\n",
              "      <td>None</td>\n",
              "      <td>1</td>\n",
              "      <td>2013</td>\n",
              "      <td>Q3</td>\n",
              "      <td>1.5</td>\n",
              "      <td>/organization/1lay</td>\n",
              "      <td>0.0</td>\n",
              "      <td>None</td>\n",
              "      <td>None</td>\n",
              "      <td>None</td>\n",
              "      <td>None</td>\n",
              "      <td>/organization/1lay</td>\n",
              "      <td>None</td>\n",
              "      <td>None</td>\n",
              "      <td>None</td>\n",
              "      <td>None</td>\n",
              "      <td>None</td>\n",
              "      <td>0</td>\n",
              "    </tr>\n",
              "    <tr>\n",
              "      <th>1</th>\n",
              "      <td>1</td>\n",
              "      <td>/organization/24pagebooks</td>\n",
              "      <td>24PageBooks</td>\n",
              "      <td>50,000</td>\n",
              "      <td>closed</td>\n",
              "      <td>USA</td>\n",
              "      <td>Rochester</td>\n",
              "      <td>1</td>\n",
              "      <td>2010</td>\n",
              "      <td>Q1</td>\n",
              "      <td>5.0</td>\n",
              "      <td>/organization/24pagebooks</td>\n",
              "      <td>1.0</td>\n",
              "      <td>1.25</td>\n",
              "      <td>FRA</td>\n",
              "      <td>seed</td>\n",
              "      <td>None</td>\n",
              "      <td>/organization/24pagebooks</td>\n",
              "      <td>None</td>\n",
              "      <td>/organization/24pagebooks</td>\n",
              "      <td>FRA</td>\n",
              "      <td>/organization/24pagebooks</td>\n",
              "      <td>seed</td>\n",
              "      <td>0</td>\n",
              "    </tr>\n",
              "    <tr>\n",
              "      <th>2</th>\n",
              "      <td>2</td>\n",
              "      <td>/organization/5min</td>\n",
              "      <td>5min Media</td>\n",
              "      <td>1,28,00,000</td>\n",
              "      <td>acquired</td>\n",
              "      <td>USA</td>\n",
              "      <td>New York</td>\n",
              "      <td>3</td>\n",
              "      <td>2007</td>\n",
              "      <td>Q1</td>\n",
              "      <td>8.0</td>\n",
              "      <td>/organization/5min</td>\n",
              "      <td>3.0</td>\n",
              "      <td>0.75</td>\n",
              "      <td>USA, USA, USA</td>\n",
              "      <td>venture, venture, venture</td>\n",
              "      <td>None</td>\n",
              "      <td>/organization/5min</td>\n",
              "      <td>None</td>\n",
              "      <td>/organization/5min</td>\n",
              "      <td>USA</td>\n",
              "      <td>/organization/5min</td>\n",
              "      <td>venture</td>\n",
              "      <td>1</td>\n",
              "    </tr>\n",
              "    <tr>\n",
              "      <th>3</th>\n",
              "      <td>3</td>\n",
              "      <td>/organization/abpathfinder</td>\n",
              "      <td>ABPathfinder</td>\n",
              "      <td>9,60,000</td>\n",
              "      <td>operating</td>\n",
              "      <td>USA</td>\n",
              "      <td>Overland Park</td>\n",
              "      <td>3</td>\n",
              "      <td>2010</td>\n",
              "      <td>Q2</td>\n",
              "      <td>4.75</td>\n",
              "      <td>/organization/abpathfinder</td>\n",
              "      <td>4.0</td>\n",
              "      <td>2.5</td>\n",
              "      <td>USA, USA, USA</td>\n",
              "      <td>venture, venture, venture, venture</td>\n",
              "      <td>None</td>\n",
              "      <td>/organization/abpathfinder</td>\n",
              "      <td>None</td>\n",
              "      <td>/organization/abpathfinder</td>\n",
              "      <td>USA</td>\n",
              "      <td>/organization/abpathfinder</td>\n",
              "      <td>venture</td>\n",
              "      <td>0</td>\n",
              "    </tr>\n",
              "    <tr>\n",
              "      <th>4</th>\n",
              "      <td>4</td>\n",
              "      <td>/organization/acid-labs</td>\n",
              "      <td>Acid Labs</td>\n",
              "      <td>-</td>\n",
              "      <td>operating</td>\n",
              "      <td>USA</td>\n",
              "      <td>Santa Monica</td>\n",
              "      <td>1</td>\n",
              "      <td>2003</td>\n",
              "      <td>Q1</td>\n",
              "      <td>12.0</td>\n",
              "      <td>/organization/acid-labs</td>\n",
              "      <td>0.0</td>\n",
              "      <td>None</td>\n",
              "      <td>None</td>\n",
              "      <td>None</td>\n",
              "      <td>None</td>\n",
              "      <td>/organization/acid-labs</td>\n",
              "      <td>None</td>\n",
              "      <td>None</td>\n",
              "      <td>None</td>\n",
              "      <td>None</td>\n",
              "      <td>None</td>\n",
              "      <td>0</td>\n",
              "    </tr>\n",
              "    <tr>\n",
              "      <th>...</th>\n",
              "      <td>...</td>\n",
              "      <td>...</td>\n",
              "      <td>...</td>\n",
              "      <td>...</td>\n",
              "      <td>...</td>\n",
              "      <td>...</td>\n",
              "      <td>...</td>\n",
              "      <td>...</td>\n",
              "      <td>...</td>\n",
              "      <td>...</td>\n",
              "      <td>...</td>\n",
              "      <td>...</td>\n",
              "      <td>...</td>\n",
              "      <td>...</td>\n",
              "      <td>...</td>\n",
              "      <td>...</td>\n",
              "      <td>...</td>\n",
              "      <td>...</td>\n",
              "      <td>...</td>\n",
              "      <td>...</td>\n",
              "      <td>...</td>\n",
              "      <td>...</td>\n",
              "      <td>...</td>\n",
              "      <td>...</td>\n",
              "    </tr>\n",
              "    <tr>\n",
              "      <th>49440</th>\n",
              "      <td>49440</td>\n",
              "      <td>/organization/yieldmo</td>\n",
              "      <td>Yieldmo</td>\n",
              "      <td>2,21,00,000</td>\n",
              "      <td>operating</td>\n",
              "      <td>USA</td>\n",
              "      <td>New York</td>\n",
              "      <td>3</td>\n",
              "      <td>2012</td>\n",
              "      <td>Q2</td>\n",
              "      <td>2.75</td>\n",
              "      <td>/organization/yieldmo</td>\n",
              "      <td>12.0</td>\n",
              "      <td>0.25</td>\n",
              "      <td>USA, USA, USA, USA, USA, ISR, USA, USA, USA, U...</td>\n",
              "      <td>venture, venture, venture, venture, venture, v...</td>\n",
              "      <td>None</td>\n",
              "      <td>/organization/yieldmo</td>\n",
              "      <td>None</td>\n",
              "      <td>/organization/yieldmo</td>\n",
              "      <td>USA</td>\n",
              "      <td>/organization/yieldmo</td>\n",
              "      <td>venture</td>\n",
              "      <td>0</td>\n",
              "    </tr>\n",
              "    <tr>\n",
              "      <th>49441</th>\n",
              "      <td>49441</td>\n",
              "      <td>/organization/youxinpai</td>\n",
              "      <td>Youxinpai</td>\n",
              "      <td>3,00,00,000</td>\n",
              "      <td>operating</td>\n",
              "      <td>CHN</td>\n",
              "      <td>Beijing</td>\n",
              "      <td>1</td>\n",
              "      <td>2011</td>\n",
              "      <td>Q3</td>\n",
              "      <td>3.5</td>\n",
              "      <td>/organization/youxinpai</td>\n",
              "      <td>4.0</td>\n",
              "      <td>1.75</td>\n",
              "      <td>CHN, USA, CHN</td>\n",
              "      <td>venture, venture, venture, venture</td>\n",
              "      <td>None</td>\n",
              "      <td>/organization/youxinpai</td>\n",
              "      <td>None</td>\n",
              "      <td>/organization/youxinpai</td>\n",
              "      <td>CHN</td>\n",
              "      <td>/organization/youxinpai</td>\n",
              "      <td>venture</td>\n",
              "      <td>0</td>\n",
              "    </tr>\n",
              "    <tr>\n",
              "      <th>49442</th>\n",
              "      <td>49442</td>\n",
              "      <td>/organization/zeropercent-us</td>\n",
              "      <td>ZeroPercent.us</td>\n",
              "      <td>-</td>\n",
              "      <td>operating</td>\n",
              "      <td>USA</td>\n",
              "      <td>Chicago</td>\n",
              "      <td>1</td>\n",
              "      <td>2011</td>\n",
              "      <td>Q3</td>\n",
              "      <td>3.5</td>\n",
              "      <td>/organization/zeropercent-us</td>\n",
              "      <td>1.0</td>\n",
              "      <td>2.5</td>\n",
              "      <td>USA</td>\n",
              "      <td>seed</td>\n",
              "      <td>None</td>\n",
              "      <td>/organization/zeropercent-us</td>\n",
              "      <td>None</td>\n",
              "      <td>/organization/zeropercent-us</td>\n",
              "      <td>USA</td>\n",
              "      <td>/organization/zeropercent-us</td>\n",
              "      <td>seed</td>\n",
              "      <td>0</td>\n",
              "    </tr>\n",
              "    <tr>\n",
              "      <th>49443</th>\n",
              "      <td>49443</td>\n",
              "      <td>/organization/zinch</td>\n",
              "      <td>Zinch</td>\n",
              "      <td>54,86,842</td>\n",
              "      <td>acquired</td>\n",
              "      <td>USA</td>\n",
              "      <td>Orem</td>\n",
              "      <td>3</td>\n",
              "      <td>2007</td>\n",
              "      <td>Q1</td>\n",
              "      <td>8.0</td>\n",
              "      <td>/organization/zinch</td>\n",
              "      <td>3.0</td>\n",
              "      <td>0.75</td>\n",
              "      <td>USA, USA</td>\n",
              "      <td>venture, venture, angel</td>\n",
              "      <td>None</td>\n",
              "      <td>/organization/zinch</td>\n",
              "      <td>None</td>\n",
              "      <td>/organization/zinch</td>\n",
              "      <td>USA</td>\n",
              "      <td>/organization/zinch</td>\n",
              "      <td>venture</td>\n",
              "      <td>1</td>\n",
              "    </tr>\n",
              "    <tr>\n",
              "      <th>49444</th>\n",
              "      <td>49444</td>\n",
              "      <td>/organization/zippy-com-au-pty-ltd</td>\n",
              "      <td>Zippy.com.au Pty LTD</td>\n",
              "      <td>2,00,000</td>\n",
              "      <td>acquired</td>\n",
              "      <td>AUS</td>\n",
              "      <td>Brisbane</td>\n",
              "      <td>1</td>\n",
              "      <td>None</td>\n",
              "      <td>None</td>\n",
              "      <td>None</td>\n",
              "      <td>/organization/zippy-com-au-pty-ltd</td>\n",
              "      <td>0.0</td>\n",
              "      <td>None</td>\n",
              "      <td>None</td>\n",
              "      <td>None</td>\n",
              "      <td>None</td>\n",
              "      <td>/organization/zippy-com-au-pty-ltd</td>\n",
              "      <td>None</td>\n",
              "      <td>None</td>\n",
              "      <td>None</td>\n",
              "      <td>None</td>\n",
              "      <td>None</td>\n",
              "      <td>1</td>\n",
              "    </tr>\n",
              "  </tbody>\n",
              "</table>\n",
              "<p>49445 rows × 24 columns</p>\n",
              "</div>"
            ],
            "text/plain": [
              "         _c0                           permalink  ... funding_round_type labelacq\n",
              "0          0                  /organization/1lay  ...               None        0\n",
              "1          1           /organization/24pagebooks  ...               seed        0\n",
              "2          2                  /organization/5min  ...            venture        1\n",
              "3          3          /organization/abpathfinder  ...            venture        0\n",
              "4          4             /organization/acid-labs  ...               None        0\n",
              "...      ...                                 ...  ...                ...      ...\n",
              "49440  49440               /organization/yieldmo  ...            venture        0\n",
              "49441  49441             /organization/youxinpai  ...            venture        0\n",
              "49442  49442        /organization/zeropercent-us  ...               seed        0\n",
              "49443  49443                 /organization/zinch  ...            venture        1\n",
              "49444  49444  /organization/zippy-com-au-pty-ltd  ...               None        1\n",
              "\n",
              "[49445 rows x 24 columns]"
            ]
          },
          "metadata": {
            "tags": []
          },
          "execution_count": 11
        }
      ]
    },
    {
      "cell_type": "code",
      "metadata": {
        "id": "ASU37NVbh1LN"
      },
      "source": [
        "# Replace NaN with mode for categorical variables\n",
        "dfmaster1['total_raised_usd'] = dfmaster1['total_raised_usd'].fillna(dfmaster1['total_raised_usd'].mode()[0])\n",
        "dfmaster1['time_to_first_funding'] = dfmaster1['time_to_first_funding'].fillna(dfmaster1['time_to_first_funding'].mode()[0])\n",
        "dfmaster1['founded_year'] = dfmaster1['founded_year'].fillna(dfmaster1['founded_year'].mode()[0])\n",
        "dfmaster1['age'] = dfmaster1['age'].fillna(dfmaster1['age'].mode()[0])\n",
        "dfmaster1['status'] = dfmaster1['status'].fillna(dfmaster1['status'].mode()[0])\n",
        "dfmaster1['country_code'] = dfmaster1['country_code'].fillna(dfmaster1['country_code'].mode()[0])\n",
        "dfmaster1['city'] = dfmaster1['city'].fillna(dfmaster1['city'].mode()[0])\n",
        "dfmaster1['quarter_new'] = dfmaster1['quarter_new'].fillna(dfmaster1['quarter_new'].mode()[0])\n",
        "dfmaster1['investor_country_codes'] = dfmaster1['investor_country_codes'].fillna(dfmaster1['investor_country_codes'].mode()[0])\n",
        "dfmaster1['funding_round_types'] = dfmaster1['funding_round_types'].fillna(dfmaster1['funding_round_types'].mode()[0])\n",
        "dfmaster1['permaround'] = dfmaster1['permaround'].fillna(dfmaster1['permaround'].mode()[0])\n",
        "dfmaster1['investor_country_code'] = dfmaster1['investor_country_code'].fillna(dfmaster1['investor_country_code'].mode()[0])\n",
        "dfmaster1['funding_round_type'] = dfmaster1['funding_round_type'].fillna(dfmaster1['funding_round_type'].mode()[0])\n",
        "dfmaster1['category_final'] = dfmaster1['category_final'].fillna(dfmaster1['category_final'].mode()[0])\n",
        "dfmaster1['perma'] = dfmaster1['perma'].fillna(dfmaster1['perma'].mode()[0])"
      ],
      "execution_count": null,
      "outputs": []
    },
    {
      "cell_type": "code",
      "metadata": {
        "id": "wZyY7LbojbJ7",
        "colab": {
          "base_uri": "https://localhost:8080/"
        },
        "outputId": "dcf94abf-5422-4030-eb61-e8b95374c1a3"
      },
      "source": [
        "# check for missing values \n",
        "dfmaster1.isnull().sum()"
      ],
      "execution_count": null,
      "outputs": [
        {
          "output_type": "execute_result",
          "data": {
            "text/plain": [
              "_c0                       0\n",
              "permalink                 1\n",
              "name                      1\n",
              "funding_total_usd         1\n",
              "status                    0\n",
              "country_code              0\n",
              "city                      0\n",
              "funding_rounds            1\n",
              "founded_year              0\n",
              "quarter_new               0\n",
              "age                       0\n",
              "permalink_agg             1\n",
              "count_investor            1\n",
              "time_to_first_funding     0\n",
              "investor_country_codes    0\n",
              "funding_round_types       0\n",
              "total_raised_usd          0\n",
              "permalink_sub             1\n",
              "category_final            0\n",
              "perma                     0\n",
              "investor_country_code     0\n",
              "permaround                0\n",
              "funding_round_type        0\n",
              "labelacq                  0\n",
              "dtype: int64"
            ]
          },
          "metadata": {
            "tags": []
          },
          "execution_count": 13
        }
      ]
    },
    {
      "cell_type": "code",
      "metadata": {
        "id": "9zAO9vMnp1JM"
      },
      "source": [
        "# drop rows with missing values\n",
        "dfmaster1drop = dfmaster1.dropna()"
      ],
      "execution_count": null,
      "outputs": []
    },
    {
      "cell_type": "code",
      "metadata": {
        "id": "yyf7mW3xqOWu",
        "colab": {
          "base_uri": "https://localhost:8080/"
        },
        "outputId": "aa23cbcd-6159-4f03-94d8-9008088dffec"
      },
      "source": [
        "print(dfmaster1drop.count())"
      ],
      "execution_count": null,
      "outputs": [
        {
          "output_type": "stream",
          "text": [
            "_c0                       49444\n",
            "permalink                 49444\n",
            "name                      49444\n",
            "funding_total_usd         49444\n",
            "status                    49444\n",
            "country_code              49444\n",
            "city                      49444\n",
            "funding_rounds            49444\n",
            "founded_year              49444\n",
            "quarter_new               49444\n",
            "age                       49444\n",
            "permalink_agg             49444\n",
            "count_investor            49444\n",
            "time_to_first_funding     49444\n",
            "investor_country_codes    49444\n",
            "funding_round_types       49444\n",
            "total_raised_usd          49444\n",
            "permalink_sub             49444\n",
            "category_final            49444\n",
            "perma                     49444\n",
            "investor_country_code     49444\n",
            "permaround                49444\n",
            "funding_round_type        49444\n",
            "labelacq                  49444\n",
            "dtype: int64\n"
          ],
          "name": "stdout"
        }
      ]
    },
    {
      "cell_type": "code",
      "metadata": {
        "id": "4hQFr6Ymqsya"
      },
      "source": [
        "sql = SQLContext(spark)"
      ],
      "execution_count": null,
      "outputs": []
    },
    {
      "cell_type": "code",
      "metadata": {
        "id": "1aCy3ZSIrCsT"
      },
      "source": [
        "dfmaster2 = sql.createDataFrame(dfmaster1drop)"
      ],
      "execution_count": null,
      "outputs": []
    },
    {
      "cell_type": "code",
      "metadata": {
        "id": "bfy-lv0nrSAk",
        "colab": {
          "base_uri": "https://localhost:8080/",
          "height": 53
        },
        "outputId": "1e693c74-ecd8-44e1-ec36-a91cd68bfcdc"
      },
      "source": [
        "display(dfmaster2)"
      ],
      "execution_count": null,
      "outputs": [
        {
          "output_type": "display_data",
          "data": {
            "text/plain": [
              "DataFrame[_c0: string, permalink: string, name: string, funding_total_usd: string, status: string, country_code: string, city: string, funding_rounds: string, founded_year: string, quarter_new: string, age: string, permalink_agg: string, count_investor: string, time_to_first_funding: string, investor_country_codes: string, funding_round_types: string, total_raised_usd: string, permalink_sub: string, category_final: string, perma: string, investor_country_code: string, permaround: string, funding_round_type: string, labelacq: string]"
            ]
          },
          "metadata": {
            "tags": []
          }
        }
      ]
    },
    {
      "cell_type": "markdown",
      "metadata": {
        "id": "bBzVi9rNQmhv"
      },
      "source": [
        "String indexer, one hot encoder and casting to numerics"
      ]
    },
    {
      "cell_type": "code",
      "metadata": {
        "id": "z3w-8St8QkEA"
      },
      "source": [
        "# create index for categorical variables\n",
        "# use pipline to apply indexer\n",
        "list1 = [\"country_code\",\"city\",\"quarter_new\",\"investor_country_code\",\"funding_round_type\",\"category_final\"]\n",
        "indexers = [StringIndexer(inputCol=column, outputCol=column+\"_index\").fit(dfmaster2) for column in list1]\n",
        "pipelineindex = Pipeline(stages=indexers).fit(dfmaster2)\n",
        "dfmasternew = pipelineindex.transform(dfmaster2)"
      ],
      "execution_count": null,
      "outputs": []
    },
    {
      "cell_type": "code",
      "metadata": {
        "id": "ofJqkkyJQqyL"
      },
      "source": [
        "# convert string to double for numerical variables\n",
        "dfmasternew = dfmasternew.\\\n",
        "  withColumn(\"numeric_funding_rounds\", dfmasternew[\"funding_rounds\"].cast(\"int\")).\\\n",
        "  withColumn(\"numeric_age\", dfmasternew[\"age\"].cast(\"int\")).\\\n",
        "  withColumn(\"numeric_count_investor\", dfmasternew[\"count_investor\"].cast(\"int\")).\\\n",
        "  withColumn(\"numeric_time_to_first_funding\", dfmasternew[\"time_to_first_funding\"].cast(\"int\")).\\\n",
        "  withColumn(\"numeric_total_raised_usd\", dfmasternew[\"total_raised_usd\"].cast(\"int\")).\\\n",
        "  withColumn(\"label\", dfmasternew[\"labelacq\"].cast(\"int\"))"
      ],
      "execution_count": null,
      "outputs": []
    },
    {
      "cell_type": "code",
      "metadata": {
        "id": "v_vGMKkl2vor"
      },
      "source": [
        "dfmasternew = dfmasternew.\\\n",
        "  withColumn(\"funding_round_type\", dfmasternew[\"funding_round_type\"].cast(\"double\")).\\\n",
        "  withColumn(\"country_code_index\", dfmasternew[\"country_code_index\"].cast(\"double\")).\\\n",
        "  withColumn(\"city_index\", dfmasternew[\"city_index\"].cast(\"double\")).\\\n",
        "  withColumn(\"quarter_new_index\", dfmasternew[\"quarter_new_index\"].cast(\"double\")).\\\n",
        "  withColumn(\"labelacq\", dfmasternew[\"labelacq\"].cast(\"double\"))"
      ],
      "execution_count": null,
      "outputs": []
    },
    {
      "cell_type": "code",
      "metadata": {
        "id": "M9frd6bGQ0h7"
      },
      "source": [
        "# save\n",
        "dfone = dfmasternew"
      ],
      "execution_count": null,
      "outputs": []
    },
    {
      "cell_type": "code",
      "metadata": {
        "id": "waO0Uf_aQ5Fr",
        "colab": {
          "base_uri": "https://localhost:8080/",
          "height": 53
        },
        "outputId": "f83f1c2f-5495-4087-d4b8-20d766303206"
      },
      "source": [
        "display(dfone)"
      ],
      "execution_count": null,
      "outputs": [
        {
          "output_type": "display_data",
          "data": {
            "text/plain": [
              "DataFrame[_c0: string, permalink: string, name: string, funding_total_usd: string, status: string, country_code: string, city: string, funding_rounds: string, founded_year: string, quarter_new: string, age: string, permalink_agg: string, count_investor: string, time_to_first_funding: string, investor_country_codes: string, funding_round_types: string, total_raised_usd: string, permalink_sub: string, category_final: string, perma: string, investor_country_code: string, permaround: string, funding_round_type: double, labelacq: double, country_code_index: double, city_index: double, quarter_new_index: double, investor_country_code_index: double, funding_round_type_index: double, category_final_index: double, numeric_funding_rounds: int, numeric_age: int, numeric_count_investor: int, numeric_time_to_first_funding: int, numeric_total_raised_usd: int, label: int]"
            ]
          },
          "metadata": {
            "tags": []
          }
        }
      ]
    },
    {
      "cell_type": "code",
      "metadata": {
        "id": "b22orTWg_Ep8",
        "colab": {
          "base_uri": "https://localhost:8080/"
        },
        "outputId": "922624dd-1fb1-433d-b5a3-c26df51a8f63"
      },
      "source": [
        "print(dfone.count())"
      ],
      "execution_count": null,
      "outputs": [
        {
          "output_type": "stream",
          "text": [
            "49444\n"
          ],
          "name": "stdout"
        }
      ]
    },
    {
      "cell_type": "code",
      "metadata": {
        "id": "z-ocjzD4Q6Yb",
        "colab": {
          "base_uri": "https://localhost:8080/"
        },
        "outputId": "84ea2001-a5f0-4a83-c168-0e757e40e8f1"
      },
      "source": [
        "# list of index columns of categorical variables for the onehotencoder\n",
        "list2 = dfone.columns[24:30]\n",
        "list2"
      ],
      "execution_count": null,
      "outputs": [
        {
          "output_type": "execute_result",
          "data": {
            "text/plain": [
              "['country_code_index',\n",
              " 'city_index',\n",
              " 'quarter_new_index',\n",
              " 'investor_country_code_index',\n",
              " 'funding_round_type_index',\n",
              " 'category_final_index']"
            ]
          },
          "metadata": {
            "tags": []
          },
          "execution_count": 25
        }
      ]
    },
    {
      "cell_type": "code",
      "metadata": {
        "id": "fbl2eaDKRFwz"
      },
      "source": [
        "# create sparse matrix of indexed categorical columns\n",
        "# use pipline to apply the encoder\n",
        "onehotencoder_stages = [OneHotEncoder(inputCol=c, outputCol='onehotencoded_' + c) for c in list2]\n",
        "pipelineonehot = Pipeline(stages=onehotencoder_stages)\n",
        "pipeline_mode = pipelineonehot.fit(dfone)\n",
        "df_coded = pipeline_mode.transform(dfone)"
      ],
      "execution_count": null,
      "outputs": []
    },
    {
      "cell_type": "code",
      "metadata": {
        "id": "18vlEgxt3och",
        "colab": {
          "base_uri": "https://localhost:8080/",
          "height": 53
        },
        "outputId": "1eb252a0-bee2-4820-8bcc-9c245bd199d3"
      },
      "source": [
        "display(df_coded)"
      ],
      "execution_count": null,
      "outputs": [
        {
          "output_type": "display_data",
          "data": {
            "text/plain": [
              "DataFrame[_c0: string, permalink: string, name: string, funding_total_usd: string, status: string, country_code: string, city: string, funding_rounds: string, founded_year: string, quarter_new: string, age: string, permalink_agg: string, count_investor: string, time_to_first_funding: string, investor_country_codes: string, funding_round_types: string, total_raised_usd: string, permalink_sub: string, category_final: string, perma: string, investor_country_code: string, permaround: string, funding_round_type: double, labelacq: double, country_code_index: double, city_index: double, quarter_new_index: double, investor_country_code_index: double, funding_round_type_index: double, category_final_index: double, numeric_funding_rounds: int, numeric_age: int, numeric_count_investor: int, numeric_time_to_first_funding: int, numeric_total_raised_usd: int, label: int, onehotencoded_country_code_index: vector, onehotencoded_city_index: vector, onehotencoded_quarter_new_index: vector, onehotencoded_investor_country_code_index: vector, onehotencoded_funding_round_type_index: vector, onehotencoded_category_final_index: vector]"
            ]
          },
          "metadata": {
            "tags": []
          }
        }
      ]
    },
    {
      "cell_type": "code",
      "metadata": {
        "id": "FhRxWWsa--wQ",
        "colab": {
          "base_uri": "https://localhost:8080/"
        },
        "outputId": "6ca8f84a-7dc6-4bf7-dc3b-849593f00ab2"
      },
      "source": [
        "print(df_coded.count())"
      ],
      "execution_count": null,
      "outputs": [
        {
          "output_type": "stream",
          "text": [
            "49444\n"
          ],
          "name": "stdout"
        }
      ]
    },
    {
      "cell_type": "markdown",
      "metadata": {
        "id": "87AKLdBd6mrr"
      },
      "source": [
        "## Additional Analysis with all columns standardized"
      ]
    },
    {
      "cell_type": "code",
      "metadata": {
        "id": "mjP1Zp5TJ1Xx"
      },
      "source": [
        "# split dataset into training, validaiton and testing dataset\n",
        "training_df, validation_df, testing_df = df_coded.randomSplit([0.6, 0.3, 0.1])"
      ],
      "execution_count": null,
      "outputs": []
    },
    {
      "cell_type": "code",
      "metadata": {
        "id": "gugTPCBa6n_R",
        "colab": {
          "base_uri": "https://localhost:8080/"
        },
        "outputId": "9b8dc034-6bc1-49c7-e5e2-17a542a1c710"
      },
      "source": [
        "training_df.columns[30:35]"
      ],
      "execution_count": null,
      "outputs": [
        {
          "output_type": "execute_result",
          "data": {
            "text/plain": [
              "['numeric_funding_rounds',\n",
              " 'numeric_age',\n",
              " 'numeric_count_investor',\n",
              " 'numeric_time_to_first_funding',\n",
              " 'numeric_total_raised_usd']"
            ]
          },
          "metadata": {
            "tags": []
          },
          "execution_count": 30
        }
      ]
    },
    {
      "cell_type": "code",
      "metadata": {
        "id": "tiFVtt3a6p8X",
        "colab": {
          "base_uri": "https://localhost:8080/"
        },
        "outputId": "70d3c7fa-885e-453a-9ccd-2615b5437370"
      },
      "source": [
        "training_df.columns[36:42]"
      ],
      "execution_count": null,
      "outputs": [
        {
          "output_type": "execute_result",
          "data": {
            "text/plain": [
              "['onehotencoded_country_code_index',\n",
              " 'onehotencoded_city_index',\n",
              " 'onehotencoded_quarter_new_index',\n",
              " 'onehotencoded_investor_country_code_index',\n",
              " 'onehotencoded_funding_round_type_index',\n",
              " 'onehotencoded_category_final_index']"
            ]
          },
          "metadata": {
            "tags": []
          },
          "execution_count": 31
        }
      ]
    },
    {
      "cell_type": "code",
      "metadata": {
        "id": "6oSJvMbU6ssF"
      },
      "source": [
        "# define vector assembler with the features for the modelling\n",
        "vastd = VectorAssembler(). \\\n",
        "      setInputCols(training_df.columns[30:35] + training_df.columns[36:42]). \\\n",
        "      setOutputCol('features_nonstd')\n",
        "\t  \t  \n",
        "std = feature.StandardScaler(withMean=True, withStd=True).setInputCol('features_nonstd').setOutputCol('features')"
      ],
      "execution_count": null,
      "outputs": []
    },
    {
      "cell_type": "code",
      "metadata": {
        "id": "osgUsGTOMwNY"
      },
      "source": [
        "# suffix for investor country code because intersection with county_code of  the companies\n",
        "invcc = ['{}_{}'.format(a, \"investor\") for a in indexers[3].labels]"
      ],
      "execution_count": null,
      "outputs": []
    },
    {
      "cell_type": "code",
      "metadata": {
        "id": "X0zNUlNNMsG9"
      },
      "source": [
        "# define labellist by using the indexer stages for displaying the weights & loadings\n",
        "labellist = training_df.columns[30:35] + indexers[0].labels + indexers[1].labels + indexers[2].labels + invcc + indexers[4].labels + indexers[5].labels"
      ],
      "execution_count": null,
      "outputs": []
    },
    {
      "cell_type": "markdown",
      "metadata": {
        "id": "F2_zCnQK_WWe"
      },
      "source": [
        "## Decision Tree"
      ]
    },
    {
      "cell_type": "code",
      "metadata": {
        "id": "-ltVyQEQAYtI"
      },
      "source": [
        "# define multiclass classification evaluator\n",
        "mce = MulticlassClassificationEvaluator()"
      ],
      "execution_count": null,
      "outputs": []
    },
    {
      "cell_type": "code",
      "metadata": {
        "id": "B03zEVa1AMtn"
      },
      "source": [
        "dt_std = DecisionTreeClassifier(labelCol=\"label\", featuresCol=\"features\")"
      ],
      "execution_count": null,
      "outputs": []
    },
    {
      "cell_type": "code",
      "metadata": {
        "id": "ENJ5cfi5As1Y"
      },
      "source": [
        "dt_pipeline_std = Pipeline(stages=[vastd, std, dt_std]).fit(training_df)"
      ],
      "execution_count": null,
      "outputs": []
    },
    {
      "cell_type": "code",
      "metadata": {
        "id": "m9XS6ee5BH86"
      },
      "source": [
        "dfdt_std = dt_pipeline_std.transform(validation_df)"
      ],
      "execution_count": null,
      "outputs": []
    },
    {
      "cell_type": "code",
      "metadata": {
        "id": "MAQ7mbWeBXbF",
        "colab": {
          "base_uri": "https://localhost:8080/"
        },
        "outputId": "4af91425-76c2-4412-cab4-1030efc8ec11"
      },
      "source": [
        "# print the areas under the curve for the decision tree model pipeline\n",
        "print(\"Decision Tree: AUC = {}\".format(mce.evaluate(dfdt_std)))"
      ],
      "execution_count": null,
      "outputs": [
        {
          "output_type": "stream",
          "text": [
            "Decision Tree: AUC = 0.8909026137835617\n"
          ],
          "name": "stdout"
        }
      ]
    },
    {
      "cell_type": "code",
      "metadata": {
        "id": "kkNWwd7SBeuv",
        "colab": {
          "base_uri": "https://localhost:8080/"
        },
        "outputId": "edfb0cdc-cc5f-4355-9d2f-703d8434fa77"
      },
      "source": [
        "# print the accuracies for the decision tree model pipeline\n",
        "print(dfdt_std.select(fn.expr('float(label = prediction)').alias('correct')).select(fn.avg('correct').alias(\"Accuracy for Decision Tree\")).show())"
      ],
      "execution_count": null,
      "outputs": [
        {
          "output_type": "stream",
          "text": [
            "+--------------------------+\n",
            "|Accuracy for Decision Tree|\n",
            "+--------------------------+\n",
            "|        0.9258809234507898|\n",
            "+--------------------------+\n",
            "\n",
            "None\n"
          ],
          "name": "stdout"
        }
      ]
    },
    {
      "cell_type": "markdown",
      "metadata": {
        "id": "m1ikKpVyiVmN"
      },
      "source": [
        "## Gradient Boosted Trees"
      ]
    },
    {
      "cell_type": "code",
      "metadata": {
        "id": "0cmI4oeBiS3X"
      },
      "source": [
        "gbt_std = GBTClassifier(labelCol=\"label\", featuresCol=\"features\", maxIter=100)"
      ],
      "execution_count": null,
      "outputs": []
    },
    {
      "cell_type": "code",
      "metadata": {
        "id": "KO-7-tGYjKNT"
      },
      "source": [
        "gbt_pipeline_std = Pipeline(stages=[vastd, std, gbt_std]).fit(training_df)"
      ],
      "execution_count": null,
      "outputs": []
    },
    {
      "cell_type": "code",
      "metadata": {
        "id": "vbRAxNZcjPFW"
      },
      "source": [
        "dfgbt_std = gbt_pipeline_std.transform(validation_df)"
      ],
      "execution_count": null,
      "outputs": []
    },
    {
      "cell_type": "code",
      "metadata": {
        "id": "XcWwPOTRjVs0",
        "colab": {
          "base_uri": "https://localhost:8080/"
        },
        "outputId": "5ed3e477-f0fd-4809-bf71-a66f949aae21"
      },
      "source": [
        "# print the areas under the curve for the gradient boosted trees model pipeline\n",
        "print(\"Gradient Boosted Trees: AUC = {}\".format(mce.evaluate(dfgbt_std)))"
      ],
      "execution_count": null,
      "outputs": [
        {
          "output_type": "stream",
          "text": [
            "Gradient Boosted Trees: AUC = 0.8942996259784223\n"
          ],
          "name": "stdout"
        }
      ]
    },
    {
      "cell_type": "code",
      "metadata": {
        "id": "NFdJDJmRjcWV",
        "colab": {
          "base_uri": "https://localhost:8080/"
        },
        "outputId": "7f53c728-f2f9-42f8-da3d-c3b31bd314b5"
      },
      "source": [
        "# print the accuracies for the gradient boosted trees model pipeline\n",
        "print(dfgbt_std.select(fn.expr('float(label = prediction)').alias('correct')).select(fn.avg('correct').alias(\"Accuracy for Gradient Boosted Tree\")).show())"
      ],
      "execution_count": null,
      "outputs": [
        {
          "output_type": "stream",
          "text": [
            "+----------------------------------+\n",
            "|Accuracy for Gradient Boosted Tree|\n",
            "+----------------------------------+\n",
            "|                0.9233157823680302|\n",
            "+----------------------------------+\n",
            "\n",
            "None\n"
          ],
          "name": "stdout"
        }
      ]
    },
    {
      "cell_type": "markdown",
      "metadata": {
        "id": "gJN18TXN6vo1"
      },
      "source": [
        "## Random Forest 25 trees"
      ]
    },
    {
      "cell_type": "code",
      "metadata": {
        "id": "BgqwTBJH6zZA"
      },
      "source": [
        "# define binary classification evaluator\n",
        "bce = BinaryClassificationEvaluator()"
      ],
      "execution_count": null,
      "outputs": []
    },
    {
      "cell_type": "code",
      "metadata": {
        "id": "ce_CAXkg62fr",
        "colab": {
          "base_uri": "https://localhost:8080/"
        },
        "outputId": "2681461b-0998-4c13-dbe0-4d0282b0e378"
      },
      "source": [
        "rfstd = RandomForestClassifier(numTrees=25, maxBins=10000, featuresCol='features', labelCol='label')\n",
        "rf_pipeline_std = Pipeline(stages=[vastd, std, rfstd]).fit(training_df)\n",
        "dfrf_std = rf_pipeline_std.transform(validation_df)\n",
        "print(\"Random Forest 25 trees: AUC = {}\".format(bce.evaluate(dfrf_std)))\n",
        "print(dfrf_std.select(fn.expr('float(label = prediction)').alias('correct')).select(fn.avg('correct').alias(\"Accuracy for Random Forest with 25 trees\")).show())\n",
        "rfw_std = spark.createDataFrame(pd.DataFrame(list(zip(labellist, rf_pipeline_std.stages[2].featureImportances.toArray())),\n",
        "            columns = ['column', 'importancy']).sort_values('importancy').tail(20))"
      ],
      "execution_count": null,
      "outputs": [
        {
          "output_type": "stream",
          "text": [
            "Random Forest 25 trees: AUC = 0.6864552327753096\n",
            "+----------------------------------------+\n",
            "|Accuracy for Random Forest with 25 trees|\n",
            "+----------------------------------------+\n",
            "|                      0.9260159308761982|\n",
            "+----------------------------------------+\n",
            "\n",
            "None\n"
          ],
          "name": "stdout"
        }
      ]
    },
    {
      "cell_type": "code",
      "metadata": {
        "id": "fdn_9A6K65Vg",
        "colab": {
          "base_uri": "https://localhost:8080/"
        },
        "outputId": "cb2b8aaa-6dd9-4cde-941a-161c175f06b4"
      },
      "source": [
        "rfw_std.show()"
      ],
      "execution_count": null,
      "outputs": [
        {
          "output_type": "stream",
          "text": [
            "+--------------------+--------------------+\n",
            "|              column|          importancy|\n",
            "+--------------------+--------------------+\n",
            "|          Landenberg|0.016242934891486784|\n",
            "|        KWT_investor|0.016905400556295292|\n",
            "|        Minas Gerais|0.017528464871616672|\n",
            "|San Crist�bal De ...|0.018471036142936742|\n",
            "|       Qiryat Bialik|0.019402621489931264|\n",
            "|                 CHN|0.019921364469908512|\n",
            "|              Bochum| 0.02018478893714758|\n",
            "|                 LBN|0.020245644483537228|\n",
            "|          Carrollton|0.021958103342365778|\n",
            "|             Atlanta| 0.02290499304879503|\n",
            "|              Lititz| 0.02323579731000083|\n",
            "|numeric_count_inv...|0.024323614581904143|\n",
            "|           Singapore|0.024839062482074473|\n",
            "|   Frankfurt Am Main| 0.02561825967051216|\n",
            "|        MAR_investor|0.025737880131396777|\n",
            "|numeric_funding_r...|  0.0325456223583157|\n",
            "|             Toronto| 0.04137080175091696|\n",
            "|                 USA| 0.04289544566321536|\n",
            "|numeric_time_to_f...|0.045841620601393816|\n",
            "|         numeric_age| 0.10107695845294738|\n",
            "+--------------------+--------------------+\n",
            "\n"
          ],
          "name": "stdout"
        }
      ]
    },
    {
      "cell_type": "markdown",
      "metadata": {
        "id": "TT4EGCtR69Ic"
      },
      "source": [
        "## Logistic Regression"
      ]
    },
    {
      "cell_type": "code",
      "metadata": {
        "id": "IdAW_hOT68TP"
      },
      "source": [
        "lambda_par_std = 0.05\n",
        "alpha_par_std = 0.05\n",
        "en_lr_std = LogisticRegression().\\\n",
        "        setLabelCol('label').\\\n",
        "        setFeaturesCol('features').\\\n",
        "        setRegParam(lambda_par_std).\\\n",
        "        setElasticNetParam(alpha_par_std)"
      ],
      "execution_count": null,
      "outputs": []
    },
    {
      "cell_type": "code",
      "metadata": {
        "id": "6iAkwrfl7Dd8",
        "colab": {
          "base_uri": "https://localhost:8080/"
        },
        "outputId": "0e18c247-b497-4a04-bef6-03cfe6c7229c"
      },
      "source": [
        "en_lr_estimator_std = Pipeline(stages=[vastd, std, en_lr_std])\n",
        "en_lr_model_std = en_lr_estimator_std.fit(training_df)\n",
        "dfmodel_std = en_lr_model_std.transform(validation_df)\n",
        "print(\"Logistic Regression Model: AUC = {}\".format(bce.evaluate(dfmodel_std)))\t\n",
        "print(dfmodel_std.select(fn.expr('float(label = prediction)').alias('correct')).select(fn.avg('correct').alias(\"Accuracy for Model\")).show())"
      ],
      "execution_count": null,
      "outputs": [
        {
          "output_type": "stream",
          "text": [
            "Logistic Regression Model: AUC = 0.7213977014056865\n",
            "+------------------+\n",
            "|Accuracy for Model|\n",
            "+------------------+\n",
            "|0.9250708788983394|\n",
            "+------------------+\n",
            "\n",
            "None\n"
          ],
          "name": "stdout"
        }
      ]
    },
    {
      "cell_type": "code",
      "metadata": {
        "id": "yvMT4fbx7Fzp",
        "colab": {
          "base_uri": "https://localhost:8080/",
          "height": 1000
        },
        "outputId": "41ea5282-bbe1-4c7d-d078-1c33c66ce683"
      },
      "source": [
        "pd.DataFrame(list(zip(labellist, en_lr_model_std.stages[2].coefficients.toArray())),\n",
        "            columns = ['label', 'weight']).sort_values('weight').tail(40)"
      ],
      "execution_count": null,
      "outputs": [
        {
          "output_type": "execute_result",
          "data": {
            "text/html": [
              "<div>\n",
              "<style scoped>\n",
              "    .dataframe tbody tr th:only-of-type {\n",
              "        vertical-align: middle;\n",
              "    }\n",
              "\n",
              "    .dataframe tbody tr th {\n",
              "        vertical-align: top;\n",
              "    }\n",
              "\n",
              "    .dataframe thead th {\n",
              "        text-align: right;\n",
              "    }\n",
              "</style>\n",
              "<table border=\"1\" class=\"dataframe\">\n",
              "  <thead>\n",
              "    <tr style=\"text-align: right;\">\n",
              "      <th></th>\n",
              "      <th>label</th>\n",
              "      <th>weight</th>\n",
              "    </tr>\n",
              "  </thead>\n",
              "  <tbody>\n",
              "    <tr>\n",
              "      <th>3311</th>\n",
              "      <td>Maroubra</td>\n",
              "      <td>0.016099</td>\n",
              "    </tr>\n",
              "    <tr>\n",
              "      <th>3278</th>\n",
              "      <td>Mafra</td>\n",
              "      <td>0.016179</td>\n",
              "    </tr>\n",
              "    <tr>\n",
              "      <th>2179</th>\n",
              "      <td>Wollongong</td>\n",
              "      <td>0.016440</td>\n",
              "    </tr>\n",
              "    <tr>\n",
              "      <th>167</th>\n",
              "      <td>Waltham</td>\n",
              "      <td>0.016720</td>\n",
              "    </tr>\n",
              "    <tr>\n",
              "      <th>741</th>\n",
              "      <td>Haryana</td>\n",
              "      <td>0.017195</td>\n",
              "    </tr>\n",
              "    <tr>\n",
              "      <th>2610</th>\n",
              "      <td>Cottage Grove</td>\n",
              "      <td>0.017298</td>\n",
              "    </tr>\n",
              "    <tr>\n",
              "      <th>1356</th>\n",
              "      <td>Grayslake</td>\n",
              "      <td>0.017912</td>\n",
              "    </tr>\n",
              "    <tr>\n",
              "      <th>123</th>\n",
              "      <td>Palo Alto</td>\n",
              "      <td>0.017962</td>\n",
              "    </tr>\n",
              "    <tr>\n",
              "      <th>160</th>\n",
              "      <td>Irvine</td>\n",
              "      <td>0.018345</td>\n",
              "    </tr>\n",
              "    <tr>\n",
              "      <th>1254</th>\n",
              "      <td>Alamo</td>\n",
              "      <td>0.020098</td>\n",
              "    </tr>\n",
              "    <tr>\n",
              "      <th>307</th>\n",
              "      <td>Liverpool</td>\n",
              "      <td>0.020754</td>\n",
              "    </tr>\n",
              "    <tr>\n",
              "      <th>4315</th>\n",
              "      <td>CHN_investor</td>\n",
              "      <td>0.021489</td>\n",
              "    </tr>\n",
              "    <tr>\n",
              "      <th>480</th>\n",
              "      <td>Lisbon</td>\n",
              "      <td>0.021494</td>\n",
              "    </tr>\n",
              "    <tr>\n",
              "      <th>258</th>\n",
              "      <td>Albuquerque</td>\n",
              "      <td>0.022002</td>\n",
              "    </tr>\n",
              "    <tr>\n",
              "      <th>153</th>\n",
              "      <td>Seoul</td>\n",
              "      <td>0.022587</td>\n",
              "    </tr>\n",
              "    <tr>\n",
              "      <th>4313</th>\n",
              "      <td>GBR_investor</td>\n",
              "      <td>0.022783</td>\n",
              "    </tr>\n",
              "    <tr>\n",
              "      <th>235</th>\n",
              "      <td>Pleasanton</td>\n",
              "      <td>0.023326</td>\n",
              "    </tr>\n",
              "    <tr>\n",
              "      <th>543</th>\n",
              "      <td>Des Moines</td>\n",
              "      <td>0.023658</td>\n",
              "    </tr>\n",
              "    <tr>\n",
              "      <th>134</th>\n",
              "      <td>Toronto</td>\n",
              "      <td>0.024113</td>\n",
              "    </tr>\n",
              "    <tr>\n",
              "      <th>367</th>\n",
              "      <td>Newcastle Upon Tyne</td>\n",
              "      <td>0.025513</td>\n",
              "    </tr>\n",
              "    <tr>\n",
              "      <th>204</th>\n",
              "      <td>Tampa</td>\n",
              "      <td>0.026531</td>\n",
              "    </tr>\n",
              "    <tr>\n",
              "      <th>517</th>\n",
              "      <td>Carrollton</td>\n",
              "      <td>0.027117</td>\n",
              "    </tr>\n",
              "    <tr>\n",
              "      <th>144</th>\n",
              "      <td>Dublin</td>\n",
              "      <td>0.027251</td>\n",
              "    </tr>\n",
              "    <tr>\n",
              "      <th>120</th>\n",
              "      <td>San Francisco</td>\n",
              "      <td>0.027991</td>\n",
              "    </tr>\n",
              "    <tr>\n",
              "      <th>798</th>\n",
              "      <td>Frankfurt Am Main</td>\n",
              "      <td>0.028589</td>\n",
              "    </tr>\n",
              "    <tr>\n",
              "      <th>300</th>\n",
              "      <td>Buffalo</td>\n",
              "      <td>0.029638</td>\n",
              "    </tr>\n",
              "    <tr>\n",
              "      <th>4386</th>\n",
              "      <td>KWT_investor</td>\n",
              "      <td>0.032682</td>\n",
              "    </tr>\n",
              "    <tr>\n",
              "      <th>4309</th>\n",
              "      <td>Q2</td>\n",
              "      <td>0.032889</td>\n",
              "    </tr>\n",
              "    <tr>\n",
              "      <th>122</th>\n",
              "      <td>London</td>\n",
              "      <td>0.038766</td>\n",
              "    </tr>\n",
              "    <tr>\n",
              "      <th>217</th>\n",
              "      <td>Hamburg</td>\n",
              "      <td>0.041823</td>\n",
              "    </tr>\n",
              "    <tr>\n",
              "      <th>4388</th>\n",
              "      <td>TTO_investor</td>\n",
              "      <td>0.045083</td>\n",
              "    </tr>\n",
              "    <tr>\n",
              "      <th>125</th>\n",
              "      <td>Cambridge</td>\n",
              "      <td>0.047506</td>\n",
              "    </tr>\n",
              "    <tr>\n",
              "      <th>207</th>\n",
              "      <td>Fayetteville</td>\n",
              "      <td>0.050161</td>\n",
              "    </tr>\n",
              "    <tr>\n",
              "      <th>128</th>\n",
              "      <td>Los Angeles</td>\n",
              "      <td>0.053913</td>\n",
              "    </tr>\n",
              "    <tr>\n",
              "      <th>135</th>\n",
              "      <td>San Jose</td>\n",
              "      <td>0.056996</td>\n",
              "    </tr>\n",
              "    <tr>\n",
              "      <th>140</th>\n",
              "      <td>Singapore</td>\n",
              "      <td>0.060666</td>\n",
              "    </tr>\n",
              "    <tr>\n",
              "      <th>138</th>\n",
              "      <td>Atlanta</td>\n",
              "      <td>0.062636</td>\n",
              "    </tr>\n",
              "    <tr>\n",
              "      <th>5</th>\n",
              "      <td>USA</td>\n",
              "      <td>0.109367</td>\n",
              "    </tr>\n",
              "    <tr>\n",
              "      <th>1</th>\n",
              "      <td>numeric_age</td>\n",
              "      <td>0.193100</td>\n",
              "    </tr>\n",
              "    <tr>\n",
              "      <th>2</th>\n",
              "      <td>numeric_count_investor</td>\n",
              "      <td>0.224317</td>\n",
              "    </tr>\n",
              "  </tbody>\n",
              "</table>\n",
              "</div>"
            ],
            "text/plain": [
              "                       label    weight\n",
              "3311                Maroubra  0.016099\n",
              "3278                   Mafra  0.016179\n",
              "2179              Wollongong  0.016440\n",
              "167                  Waltham  0.016720\n",
              "741                  Haryana  0.017195\n",
              "2610           Cottage Grove  0.017298\n",
              "1356               Grayslake  0.017912\n",
              "123                Palo Alto  0.017962\n",
              "160                   Irvine  0.018345\n",
              "1254                   Alamo  0.020098\n",
              "307                Liverpool  0.020754\n",
              "4315            CHN_investor  0.021489\n",
              "480                   Lisbon  0.021494\n",
              "258              Albuquerque  0.022002\n",
              "153                    Seoul  0.022587\n",
              "4313            GBR_investor  0.022783\n",
              "235               Pleasanton  0.023326\n",
              "543               Des Moines  0.023658\n",
              "134                  Toronto  0.024113\n",
              "367      Newcastle Upon Tyne  0.025513\n",
              "204                    Tampa  0.026531\n",
              "517               Carrollton  0.027117\n",
              "144                   Dublin  0.027251\n",
              "120            San Francisco  0.027991\n",
              "798        Frankfurt Am Main  0.028589\n",
              "300                  Buffalo  0.029638\n",
              "4386            KWT_investor  0.032682\n",
              "4309                      Q2  0.032889\n",
              "122                   London  0.038766\n",
              "217                  Hamburg  0.041823\n",
              "4388            TTO_investor  0.045083\n",
              "125                Cambridge  0.047506\n",
              "207             Fayetteville  0.050161\n",
              "128              Los Angeles  0.053913\n",
              "135                 San Jose  0.056996\n",
              "140                Singapore  0.060666\n",
              "138                  Atlanta  0.062636\n",
              "5                        USA  0.109367\n",
              "1                numeric_age  0.193100\n",
              "2     numeric_count_investor  0.224317"
            ]
          },
          "metadata": {
            "tags": []
          },
          "execution_count": 51
        }
      ]
    },
    {
      "cell_type": "code",
      "metadata": {
        "id": "E1lGlvII7Inb",
        "colab": {
          "base_uri": "https://localhost:8080/",
          "height": 347
        },
        "outputId": "75c78777-831b-4651-b973-2bacd1905931"
      },
      "source": [
        "pd.DataFrame(list(zip(labellist, en_lr_model_std.stages[2].coefficients.toArray())),\n",
        "            columns = ['label', 'weight']).sort_values('weight').head(10)"
      ],
      "execution_count": null,
      "outputs": [
        {
          "output_type": "execute_result",
          "data": {
            "text/html": [
              "<div>\n",
              "<style scoped>\n",
              "    .dataframe tbody tr th:only-of-type {\n",
              "        vertical-align: middle;\n",
              "    }\n",
              "\n",
              "    .dataframe tbody tr th {\n",
              "        vertical-align: top;\n",
              "    }\n",
              "\n",
              "    .dataframe thead th {\n",
              "        text-align: right;\n",
              "    }\n",
              "</style>\n",
              "<table border=\"1\" class=\"dataframe\">\n",
              "  <thead>\n",
              "    <tr style=\"text-align: right;\">\n",
              "      <th></th>\n",
              "      <th>label</th>\n",
              "      <th>weight</th>\n",
              "    </tr>\n",
              "  </thead>\n",
              "  <tbody>\n",
              "    <tr>\n",
              "      <th>4387</th>\n",
              "      <td>MAR_investor</td>\n",
              "      <td>-0.067191</td>\n",
              "    </tr>\n",
              "    <tr>\n",
              "      <th>4312</th>\n",
              "      <td>USA_investor</td>\n",
              "      <td>-0.044475</td>\n",
              "    </tr>\n",
              "    <tr>\n",
              "      <th>11</th>\n",
              "      <td>IND</td>\n",
              "      <td>-0.022970</td>\n",
              "    </tr>\n",
              "    <tr>\n",
              "      <th>4392</th>\n",
              "      <td>undisclosed</td>\n",
              "      <td>-0.022935</td>\n",
              "    </tr>\n",
              "    <tr>\n",
              "      <th>8</th>\n",
              "      <td>CHN</td>\n",
              "      <td>-0.020628</td>\n",
              "    </tr>\n",
              "    <tr>\n",
              "      <th>4316</th>\n",
              "      <td>DEU_investor</td>\n",
              "      <td>-0.019393</td>\n",
              "    </tr>\n",
              "    <tr>\n",
              "      <th>130</th>\n",
              "      <td>San Diego</td>\n",
              "      <td>-0.006592</td>\n",
              "    </tr>\n",
              "    <tr>\n",
              "      <th>4314</th>\n",
              "      <td>FRA_investor</td>\n",
              "      <td>-0.006346</td>\n",
              "    </tr>\n",
              "    <tr>\n",
              "      <th>164</th>\n",
              "      <td>Mumbai</td>\n",
              "      <td>-0.005647</td>\n",
              "    </tr>\n",
              "    <tr>\n",
              "      <th>14</th>\n",
              "      <td>RUS</td>\n",
              "      <td>-0.004942</td>\n",
              "    </tr>\n",
              "  </tbody>\n",
              "</table>\n",
              "</div>"
            ],
            "text/plain": [
              "             label    weight\n",
              "4387  MAR_investor -0.067191\n",
              "4312  USA_investor -0.044475\n",
              "11             IND -0.022970\n",
              "4392   undisclosed -0.022935\n",
              "8              CHN -0.020628\n",
              "4316  DEU_investor -0.019393\n",
              "130      San Diego -0.006592\n",
              "4314  FRA_investor -0.006346\n",
              "164         Mumbai -0.005647\n",
              "14             RUS -0.004942"
            ]
          },
          "metadata": {
            "tags": []
          },
          "execution_count": 52
        }
      ]
    },
    {
      "cell_type": "markdown",
      "metadata": {
        "id": "Mg8zcNii7OL1"
      },
      "source": [
        "## Neural Networks"
      ]
    },
    {
      "cell_type": "code",
      "metadata": {
        "id": "GU-tv3XL7RSD",
        "colab": {
          "base_uri": "https://localhost:8080/"
        },
        "outputId": "35d04bbf-b3a6-4a2b-e027-c746fc9ba915"
      },
      "source": [
        "# define evaluators for accuracy and area under the curve\n",
        "evaluator = evaluation.MulticlassClassificationEvaluator(metricName=\"accuracy\")\n",
        "evaluatorauc = evaluation.MulticlassClassificationEvaluator()\n",
        "\n",
        "mlp_std = classification.MultilayerPerceptronClassifier(seed=0).\\\n",
        "    setStepSize(0.2).\\\n",
        "    setMaxIter(200).\\\n",
        "    setFeaturesCol('features').\\\n",
        "    setLayers([4399,30,30,30, 2])\n",
        "\t\n",
        "mlp_std_model = Pipeline(stages=[vastd, std, mlp_std]).fit(training_df)\n",
        "dfnn_std = mlp_std_model.transform(validation_df)\n",
        "print(\"NN Model with 3 hidden layers and 30 neurons each: Accuracy = {}\".format(evaluator.evaluate(dfnn_std)))\n",
        "print(\"NN Model with 3 hidden layers and 30 neurons each: AUC = {}\".format(evaluatorauc.evaluate(dfnn_std)))"
      ],
      "execution_count": null,
      "outputs": [
        {
          "output_type": "stream",
          "text": [
            "NN Model with 3 hidden layers and 30 neurons each: Accuracy = 0.9019171054407993\n",
            "NN Model with 3 hidden layers and 30 neurons each: AUC = 0.8908697172035627\n"
          ],
          "name": "stdout"
        }
      ]
    },
    {
      "cell_type": "markdown",
      "metadata": {
        "id": "MXImzAtO7UeZ"
      },
      "source": [
        "\n",
        "## PCA + Logistic Regression"
      ]
    },
    {
      "cell_type": "code",
      "metadata": {
        "id": "l2wrRK-27-lP",
        "colab": {
          "base_uri": "https://localhost:8080/",
          "height": 33
        },
        "outputId": "bc41b2db-ee88-48eb-aa38-5cf8f060122d"
      },
      "source": [
        "pca_std = feature.PCA(k=1500, inputCol='features', outputCol='pca_feat')\n",
        "en_lr_estimator_std_pca = Pipeline(\n",
        "    stages=[vastd, std, pca_std, en_lr_std])\n",
        "en_lr_model_std_pca = en_lr_estimator_std_pca.fit(training_df)\n",
        "varlist_std =en_lr_model_std_pca.stages[2].explainedVariance\n",
        "npvar_std = np.cumsum(varlist_std[1000:1500])\n",
        "# 0.7 as starting point because we start at 1000\n",
        "# was found in other analysis\n",
        "npvar_std = [x+0.7 for x in npvar_std]\n",
        "pci_std = [pci_std for pci_std in range(1000,1500,1)]\n",
        "dfvar_std = spark.createDataFrame(pd.DataFrame({\"Number of PCs\": pci_std, \"Cumlative Variance Explained\": npvar_std}))\n",
        "display(dfvar_std)"
      ],
      "execution_count": null,
      "outputs": [
        {
          "output_type": "display_data",
          "data": {
            "text/plain": [
              "DataFrame[Number of PCs: bigint, Cumlative Variance Explained: double]"
            ]
          },
          "metadata": {
            "tags": []
          }
        }
      ]
    },
    {
      "cell_type": "code",
      "metadata": {
        "id": "wCTbhLm4z4TW",
        "colab": {
          "base_uri": "https://localhost:8080/"
        },
        "outputId": "52b29f70-e591-4e9e-e4b7-4b5f00be1a6b"
      },
      "source": [
        "dfvar_std.show()"
      ],
      "execution_count": null,
      "outputs": [
        {
          "output_type": "stream",
          "text": [
            "+-------------+----------------------------+\n",
            "|Number of PCs|Cumlative Variance Explained|\n",
            "+-------------+----------------------------+\n",
            "|         1000|          0.7002912349900158|\n",
            "|         1001|          0.7005824699800317|\n",
            "|         1002|          0.7008737049700475|\n",
            "|         1003|          0.7011649399600633|\n",
            "|         1004|          0.7014561749500793|\n",
            "|         1005|          0.7017474099400951|\n",
            "|         1006|          0.7020386449301109|\n",
            "|         1007|          0.7023298799201269|\n",
            "|         1008|          0.7026211149101427|\n",
            "|         1009|          0.7029123499001585|\n",
            "|         1010|          0.7032035848901743|\n",
            "|         1011|          0.7034948198801902|\n",
            "|         1012|          0.7037860548702061|\n",
            "|         1013|          0.7040772898602219|\n",
            "|         1014|          0.7043685248502377|\n",
            "|         1015|          0.7046597598402536|\n",
            "|         1016|          0.7049509948302695|\n",
            "|         1017|          0.7052422298202853|\n",
            "|         1018|          0.7055334648103011|\n",
            "|         1019|          0.7058246998003169|\n",
            "+-------------+----------------------------+\n",
            "only showing top 20 rows\n",
            "\n"
          ],
          "name": "stdout"
        }
      ]
    },
    {
      "cell_type": "code",
      "metadata": {
        "id": "S9g8dhCx8CiP"
      },
      "source": [
        "pca_std = feature.PCA(k=1332, inputCol='features', outputCol='pca_feat')\n",
        "en_lr_std_pca = LogisticRegression().\\\n",
        "        setLabelCol('label').\\\n",
        "        setFeaturesCol('pca_feat').\\\n",
        "        setRegParam(lambda_par_std).\\\n",
        "        setElasticNetParam(alpha_par_std)\n",
        "en_lr_estimator_std_pca = Pipeline(\n",
        "    stages=[vastd, std, pca_std, en_lr_std])\n",
        "en_lr_model_std_pca = en_lr_estimator_std_pca.fit(training_df)\n",
        "dfmodel_std_pca = en_lr_model_std_pca.transform(validation_df)"
      ],
      "execution_count": null,
      "outputs": []
    },
    {
      "cell_type": "code",
      "metadata": {
        "id": "7DQ4qlyK8FJR",
        "colab": {
          "base_uri": "https://localhost:8080/"
        },
        "outputId": "106cd434-5b57-4e48-86be-2691b6049175"
      },
      "source": [
        "print(\"Logistic Regression Model: AUC = {}\".format(bce.evaluate(dfmodel_std_pca)))\n",
        "print(dfmodel_std_pca.select(fn.expr('float(label = prediction)').alias('correct')).select(fn.avg('correct').alias(\"Accuracy for Model 1\")).show())"
      ],
      "execution_count": null,
      "outputs": [
        {
          "output_type": "stream",
          "text": [
            "Logistic Regression Model: AUC = 0.7214443261716983\n",
            "+--------------------+\n",
            "|Accuracy for Model 1|\n",
            "+--------------------+\n",
            "|  0.9250708788983394|\n",
            "+--------------------+\n",
            "\n",
            "None\n"
          ],
          "name": "stdout"
        }
      ]
    },
    {
      "cell_type": "code",
      "metadata": {
        "id": "KOuy6sLx8HD8"
      },
      "source": [
        "pc1 = en_lr_model_std_pca.stages[2].pc.toArray()[:, 0].tolist()\n",
        "pc2 = en_lr_model_std_pca.stages[2].pc.toArray()[:, 1].tolist()\n",
        "# create pandas df with the loadings/PCs and the corresponding labels\n",
        "pc_loadings = pd.DataFrame([labellist, pc1, pc2]).T.rename(columns={0: 'label', \n",
        "                                                                          1: 'load_pc1',\n",
        "                                                                          2: 'load_pc2',})"
      ],
      "execution_count": null,
      "outputs": []
    },
    {
      "cell_type": "code",
      "metadata": {
        "id": "2P5jcA3Q8Lwk",
        "colab": {
          "base_uri": "https://localhost:8080/",
          "height": 33
        },
        "outputId": "ad7a11c4-abe0-460e-eea3-729d7aea4c96"
      },
      "source": [
        "load1 = spark.createDataFrame(pd.concat((pc_loadings.sort_values('load_pc1').head(), \n",
        "           pc_loadings.sort_values('load_pc1').tail())))\n",
        "display(load1)"
      ],
      "execution_count": null,
      "outputs": [
        {
          "output_type": "display_data",
          "data": {
            "text/plain": [
              "DataFrame[label: string, load_pc1: double, load_pc2: double]"
            ]
          },
          "metadata": {
            "tags": []
          }
        }
      ]
    },
    {
      "cell_type": "code",
      "metadata": {
        "id": "ylPSfx8A8N5t",
        "colab": {
          "base_uri": "https://localhost:8080/",
          "height": 33
        },
        "outputId": "32af779c-93e2-48f4-bb7b-dc7e5a5847dc"
      },
      "source": [
        "# create spark df with the 5 highest and lowest loadings of the second PC\n",
        "load2 = spark.createDataFrame(pd.concat((pc_loadings.sort_values('load_pc2').head(), \n",
        "           pc_loadings.sort_values('load_pc2').tail())))\n",
        "display(load2)"
      ],
      "execution_count": null,
      "outputs": [
        {
          "output_type": "display_data",
          "data": {
            "text/plain": [
              "DataFrame[label: string, load_pc1: double, load_pc2: double]"
            ]
          },
          "metadata": {
            "tags": []
          }
        }
      ]
    },
    {
      "cell_type": "markdown",
      "metadata": {
        "id": "PDoROCbD8TDD"
      },
      "source": [
        "# Testing Performance"
      ]
    },
    {
      "cell_type": "code",
      "metadata": {
        "id": "zP4ZcfCb8QL1",
        "colab": {
          "base_uri": "https://localhost:8080/"
        },
        "outputId": "a696402d-d6d6-412a-8e5a-513ec227ec51"
      },
      "source": [
        "print(\"Decision Tree Classifier\")\n",
        "# Decision Tree Classifier\n",
        "dfdt_test_std = dt_pipeline_std.transform(testing_df)\n",
        "print(\"Decision Tree: AUC = {}\".format(mce.evaluate(dfdt_test_std)))\n",
        "print(dfdt_test_std.select(fn.expr('float(label = prediction)').alias('correct')).select(fn.avg('correct').alias(\"Accuracy for Decision Tree\")).show())\n",
        "auc_dt = mce.evaluate(dfdt_test_std)"
      ],
      "execution_count": null,
      "outputs": [
        {
          "output_type": "stream",
          "text": [
            "Decision Tree Classifier\n",
            "Decision Tree: AUC = 0.8850931565774143\n",
            "+--------------------------+\n",
            "|Accuracy for Decision Tree|\n",
            "+--------------------------+\n",
            "|         0.921808185705559|\n",
            "+--------------------------+\n",
            "\n",
            "None\n"
          ],
          "name": "stdout"
        }
      ]
    },
    {
      "cell_type": "code",
      "metadata": {
        "id": "Lpi5cyt6D8PL",
        "colab": {
          "base_uri": "https://localhost:8080/"
        },
        "outputId": "ea9c3077-493b-44e3-c4da-ca319251d79a"
      },
      "source": [
        "dts_true = dfdt_test_std.select(['label']).collect()\n",
        "dts_pred = dfdt_test_std.select(['prediction']).collect()\n",
        "print(classification_report(dts_true, dts_pred))"
      ],
      "execution_count": null,
      "outputs": [
        {
          "output_type": "stream",
          "text": [
            "              precision    recall  f1-score   support\n",
            "\n",
            "           0       0.92      1.00      0.96      4527\n",
            "           1       0.50      0.01      0.01       384\n",
            "\n",
            "    accuracy                           0.92      4911\n",
            "   macro avg       0.71      0.50      0.48      4911\n",
            "weighted avg       0.89      0.92      0.89      4911\n",
            "\n"
          ],
          "name": "stdout"
        }
      ]
    },
    {
      "cell_type": "code",
      "metadata": {
        "id": "iLSsePTPTeCB",
        "colab": {
          "base_uri": "https://localhost:8080/"
        },
        "outputId": "36aac92d-47e1-4b3d-f39b-72d00abac5d3"
      },
      "source": [
        "print(\"Gradient Boosted Trees Classifier\")\n",
        "# Gradient Boosted Trees Classifier\n",
        "dfgbt_test_std = gbt_pipeline_std.transform(testing_df)\n",
        "print(\"Gradient Boosted Trees: AUC = {}\".format(mce.evaluate(dfgbt_test_std)))\n",
        "print(dfgbt_test_std.select(fn.expr('float(label = prediction)').alias('correct')).select(fn.avg('correct').alias(\"Accuracy for Gradient Boosted Trees\")).show())\n",
        "auc_gbt = mce.evaluate(dfgbt_test_std)"
      ],
      "execution_count": null,
      "outputs": [
        {
          "output_type": "stream",
          "text": [
            "Gradient Boosted Trees Classifier\n",
            "Gradient Boosted Trees: AUC = 0.8886799759221228\n",
            "+-----------------------------------+\n",
            "|Accuracy for Gradient Boosted Trees|\n",
            "+-----------------------------------+\n",
            "|                 0.9191610669924659|\n",
            "+-----------------------------------+\n",
            "\n",
            "None\n"
          ],
          "name": "stdout"
        }
      ]
    },
    {
      "cell_type": "code",
      "metadata": {
        "id": "k5ygbQIlEMH9",
        "colab": {
          "base_uri": "https://localhost:8080/"
        },
        "outputId": "a876e6a8-99f3-41bb-aef9-bb6f9decb632"
      },
      "source": [
        "gbts_true = dfgbt_test_std.select(['label']).collect()\n",
        "gbts_pred = dfgbt_test_std.select(['prediction']).collect()\n",
        "print(classification_report(gbts_true, gbts_pred))"
      ],
      "execution_count": null,
      "outputs": [
        {
          "output_type": "stream",
          "text": [
            "              precision    recall  f1-score   support\n",
            "\n",
            "           0       0.92      0.99      0.96      4527\n",
            "           1       0.36      0.04      0.07       384\n",
            "\n",
            "    accuracy                           0.92      4911\n",
            "   macro avg       0.64      0.52      0.52      4911\n",
            "weighted avg       0.88      0.92      0.89      4911\n",
            "\n"
          ],
          "name": "stdout"
        }
      ]
    },
    {
      "cell_type": "code",
      "metadata": {
        "id": "Hm97HY9xdQMC",
        "colab": {
          "base_uri": "https://localhost:8080/"
        },
        "outputId": "4ae38c0d-ca98-454e-e3e1-b2e869892515"
      },
      "source": [
        "print(\"Random Forest Model with 25 trees\")\n",
        "# Random Forest Model with 25 trees\n",
        "dfrf_std_test = rf_pipeline_std.transform(testing_df)\n",
        "print(\"Random Forest 25 trees: AUC = {}\".format(bce.evaluate(dfrf_std_test)))\n",
        "print(dfrf_std_test.select(fn.expr('float(label = prediction)').alias('correct')).select(fn.avg('correct').alias(\"Accuracy for Random Forest with 25 trees\")).show())\n",
        "auc_rf = bce.evaluate(dfrf_std_test)"
      ],
      "execution_count": null,
      "outputs": [
        {
          "output_type": "stream",
          "text": [
            "Random Forest Model with 25 trees\n",
            "Random Forest 25 trees: AUC = 0.7018628966939106\n",
            "+----------------------------------------+\n",
            "|Accuracy for Random Forest with 25 trees|\n",
            "+----------------------------------------+\n",
            "|                       0.921808185705559|\n",
            "+----------------------------------------+\n",
            "\n",
            "None\n"
          ],
          "name": "stdout"
        }
      ]
    },
    {
      "cell_type": "code",
      "metadata": {
        "id": "JP7N5kd8EYwi",
        "colab": {
          "base_uri": "https://localhost:8080/"
        },
        "outputId": "2c016ee2-d45f-41b8-8b54-1681d7bcd165"
      },
      "source": [
        "rfs_true = dfrf_std_test.select(['label']).collect()\n",
        "rfs_pred = dfrf_std_test.select(['prediction']).collect()\n",
        "print(classification_report(rfs_true, rfs_pred))"
      ],
      "execution_count": null,
      "outputs": [
        {
          "output_type": "stream",
          "text": [
            "              precision    recall  f1-score   support\n",
            "\n",
            "           0       0.92      1.00      0.96      4527\n",
            "           1       0.00      0.00      0.00       384\n",
            "\n",
            "    accuracy                           0.92      4911\n",
            "   macro avg       0.46      0.50      0.48      4911\n",
            "weighted avg       0.85      0.92      0.88      4911\n",
            "\n"
          ],
          "name": "stdout"
        },
        {
          "output_type": "stream",
          "text": [
            "/usr/local/lib/python3.6/dist-packages/sklearn/metrics/_classification.py:1272: UndefinedMetricWarning: Precision and F-score are ill-defined and being set to 0.0 in labels with no predicted samples. Use `zero_division` parameter to control this behavior.\n",
            "  _warn_prf(average, modifier, msg_start, len(result))\n"
          ],
          "name": "stderr"
        }
      ]
    },
    {
      "cell_type": "code",
      "metadata": {
        "id": "cDO14NojdTCJ",
        "colab": {
          "base_uri": "https://localhost:8080/"
        },
        "outputId": "7ca77e96-9524-421b-f35d-84e8b45c00db"
      },
      "source": [
        "print(\"Logistic Regression Model with PCA\")\n",
        "# Logistic Regression Model with PCA\n",
        "dfmodel_std_pca_test = en_lr_model_std_pca.transform(testing_df)\n",
        "print(\"Logistic Regression Model: AUC = {}\".format(bce.evaluate(dfmodel_std_pca_test)))\n",
        "print(dfmodel_std_pca_test.select(fn.expr('float(label = prediction)').alias('correct')).select(fn.avg('correct').alias(\"Accuracy for Logistic Regression Model\")).show())\n",
        "auc_lr = bce.evaluate(dfmodel_std_pca_test)"
      ],
      "execution_count": null,
      "outputs": [
        {
          "output_type": "stream",
          "text": [
            "Logistic Regression Model with PCA\n",
            "Logistic Regression Model: AUC = 0.7306519678226944\n",
            "+--------------------------------------+\n",
            "|Accuracy for Logistic Regression Model|\n",
            "+--------------------------------------+\n",
            "|                    0.9207900631236001|\n",
            "+--------------------------------------+\n",
            "\n",
            "None\n"
          ],
          "name": "stdout"
        }
      ]
    },
    {
      "cell_type": "code",
      "metadata": {
        "id": "KNuB80B2En81",
        "colab": {
          "base_uri": "https://localhost:8080/"
        },
        "outputId": "4ef1fbba-c35a-42ac-c977-f637d807daea"
      },
      "source": [
        "lrs_true = dfmodel_std_pca_test.select(['label']).collect()\n",
        "lrs_pred = dfmodel_std_pca_test.select(['prediction']).collect()\n",
        "print(classification_report(lrs_true, lrs_pred))"
      ],
      "execution_count": null,
      "outputs": [
        {
          "output_type": "stream",
          "text": [
            "              precision    recall  f1-score   support\n",
            "\n",
            "           0       0.92      1.00      0.96      4527\n",
            "           1       0.00      0.00      0.00       384\n",
            "\n",
            "    accuracy                           0.92      4911\n",
            "   macro avg       0.46      0.50      0.48      4911\n",
            "weighted avg       0.85      0.92      0.88      4911\n",
            "\n"
          ],
          "name": "stdout"
        }
      ]
    },
    {
      "cell_type": "code",
      "metadata": {
        "id": "DcnNHAQodVkh",
        "colab": {
          "base_uri": "https://localhost:8080/"
        },
        "outputId": "c370a3e3-1e19-4b33-b360-eef0d2710f17"
      },
      "source": [
        "print(\"Neural Network Model\")\n",
        "# Neural Network Model\n",
        "dfnntest_std = mlp_std_model.transform(testing_df)\n",
        "print(\"NN Model with 3 hidden layers and 30 neurons each: Accuracy = {}\".format(evaluator.evaluate(dfnntest_std)))\n",
        "print(\"NN Model with 3 hidden layers and 30 neurons each: AUC = {}\".format(evaluatorauc.evaluate(dfnntest_std)))\n",
        "auc_nn = evaluatorauc.evaluate(dfnntest_std)"
      ],
      "execution_count": null,
      "outputs": [
        {
          "output_type": "stream",
          "text": [
            "Neural Network Model\n",
            "NN Model with 3 hidden layers and 30 neurons each: Accuracy = 0.8910608837304012\n",
            "NN Model with 3 hidden layers and 30 neurons each: AUC = 0.8798474813774612\n"
          ],
          "name": "stdout"
        }
      ]
    },
    {
      "cell_type": "code",
      "metadata": {
        "id": "BcLLawjJEyy5",
        "colab": {
          "base_uri": "https://localhost:8080/"
        },
        "outputId": "c37dc166-2a66-4bfc-cbfb-1e37e37fd8e2"
      },
      "source": [
        "nns_true = dfnntest_std.select(['label']).collect()\n",
        "nns_pred = dfnntest_std.select(['prediction']).collect()\n",
        "print(classification_report(nns_true, nns_pred))"
      ],
      "execution_count": null,
      "outputs": [
        {
          "output_type": "stream",
          "text": [
            "              precision    recall  f1-score   support\n",
            "\n",
            "           0       0.93      0.96      0.94      4527\n",
            "           1       0.19      0.12      0.15       384\n",
            "\n",
            "    accuracy                           0.89      4911\n",
            "   macro avg       0.56      0.54      0.55      4911\n",
            "weighted avg       0.87      0.89      0.88      4911\n",
            "\n"
          ],
          "name": "stdout"
        }
      ]
    },
    {
      "cell_type": "markdown",
      "metadata": {
        "id": "uiBdPTfegAPN"
      },
      "source": [
        "## Model Comparison"
      ]
    },
    {
      "cell_type": "code",
      "metadata": {
        "id": "G4j646Ckf_ja",
        "colab": {
          "base_uri": "https://localhost:8080/",
          "height": 518
        },
        "outputId": "972d060a-b8e2-4ed3-d165-86261e84952d"
      },
      "source": [
        "roc_auc_scores = [auc_dt, auc_gbt, auc_rf, auc_lr, auc_nn]\n",
        "\n",
        "model_data = {'Model': ['Decision Tree','Gradient Boosted Trees','Random Forest','Logistic Regression with PCA','Neural Network'],\n",
        "              'ROC_AUC': roc_auc_scores}\n",
        "data = pd.DataFrame(model_data)\n",
        "\n",
        "fig, ax1 = plt.subplots(figsize=(14,8))\n",
        "ax1.set_title('Model Comparison: Area under ROC Curve for Various Models', fontsize=14)\n",
        "ax1.set_xlabel('Model', fontsize=14)\n",
        "ax1.set_ylabel('ROC_AUC', fontsize=14)\n",
        "ax2 = sns.barplot(x='Model', y='ROC_AUC', data = data, palette='GnBu_r')\n",
        "ax1.tick_params(axis='y')\n",
        "ax2 = ax1.twinx()"
      ],
      "execution_count": null,
      "outputs": [
        {
          "output_type": "display_data",
          "data": {
            "image/png": "[encoded data removed]",
            "text/plain": [
              "<Figure size 1008x576 with 2 Axes>"
            ]
          },
          "metadata": {
            "tags": [],
            "needs_background": "light"
          }
        }
      ]
    },
    {
      "cell_type": "markdown",
      "metadata": {
        "id": "HCJAf0DfAV8m"
      },
      "source": [
        "With all columns standardized, we come to the same conclusion.\n",
        "\n",
        "The AUC and accuracy increased for every model in comparison to the validation performance. Random forest seems to have the best accuracy while having the worst AUC, which should raise a red flag and would require further analyses and explanations. Neural networks perform the best overall with a huge increase in the AUC value in comparison to the other models.\n",
        "\n",
        "So it would also be worth it to really try to increase those numbers further with the optimal number of hidden layers and neurons here.\n",
        "\n",
        "However, the performance of the models seems to be a little worse than the performance when only standardizing the numerical features, but it is not significant."
      ]
    }
  ]
}